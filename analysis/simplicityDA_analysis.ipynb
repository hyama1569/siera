{
  "cells": [
    {
      "cell_type": "code",
      "execution_count": null,
      "metadata": {
        "id": "e0C_O2qddg3d"
      },
      "outputs": [],
      "source": [
        "!pip install -U spacy\n",
        "!pip install transformers\n",
        "!python -m spacy download en_core_web_sm\n",
        "import tqdm\n",
        "import random\n",
        "import pandas as pd"
      ]
    },
    {
      "cell_type": "markdown",
      "metadata": {
        "id": "nATPzAemcROk"
      },
      "source": [
        "# compute correlations"
      ]
    },
    {
      "cell_type": "code",
      "execution_count": null,
      "metadata": {
        "colab": {
          "base_uri": "https://localhost:8080/"
        },
        "id": "09X9VCOzT5ei",
        "outputId": "d6bc59c6-7603-4c46-9582-c98a3bdb639b"
      },
      "outputs": [
        {
          "name": "stdout",
          "output_type": "stream",
          "text": [
            "Mounted at /content/drive\n",
            "/content/drive/MyDrive/Colab Notebooks/master_thesis\n"
          ]
        }
      ],
      "source": [
        "from google.colab import drive\n",
        "drive.mount('/content/drive')\n",
        "%cd drive/MyDrive/Colab Notebooks/master_thesis"
      ]
    },
    {
      "cell_type": "code",
      "execution_count": null,
      "metadata": {
        "id": "wrraBOU5Wcj9"
      },
      "outputs": [],
      "source": [
        "import pickle\n",
        "import pandas as pd\n",
        "\n",
        "df_simplicityDA = pd.read_csv(\"./src/metaeval-simplification/simplicity_DA.csv\")\n",
        "with open('./src/metaeval-simplification/df_metrics_segment_simplicityDA.pickle', 'rb') as f:\n",
        "    df_metrics_segment = pickle.load(f)\n",
        "with open('./src/simplicityDA_silver_test.pickle', 'rb') as f:\n",
        "    df_simplicityDA_silver = pickle.load(f)"
      ]
    },
    {
      "cell_type": "code",
      "execution_count": null,
      "metadata": {
        "id": "XizNSxQXCQX8"
      },
      "outputs": [],
      "source": [
        "with open('./src/simplicityDA_silver_train.pickle', 'rb') as f:\n",
        "    df_simplicityDA_silver_train = pickle.load(f)"
      ]
    },
    {
      "cell_type": "code",
      "execution_count": null,
      "metadata": {
        "colab": {
          "base_uri": "https://localhost:8080/",
          "height": 1000
        },
        "id": "X1TbH0YICe5g",
        "outputId": "f9efb264-4be2-43f0-9f00-96666fed76a0"
      },
      "outputs": [
        {
          "data": {
            "text/html": [
              "\n",
              "  <div id=\"df-a6a5ebb8-db7d-4a4f-acd2-f3101a4e5001\" class=\"colab-df-container\">\n",
              "    <div>\n",
              "<style scoped>\n",
              "    .dataframe tbody tr th:only-of-type {\n",
              "        vertical-align: middle;\n",
              "    }\n",
              "\n",
              "    .dataframe tbody tr th {\n",
              "        vertical-align: top;\n",
              "    }\n",
              "\n",
              "    .dataframe thead th {\n",
              "        text-align: right;\n",
              "    }\n",
              "</style>\n",
              "<table border=\"1\" class=\"dataframe\">\n",
              "  <thead>\n",
              "    <tr style=\"text-align: right;\">\n",
              "      <th></th>\n",
              "      <th>sent_id</th>\n",
              "      <th>sys_name</th>\n",
              "      <th>orig_sent</th>\n",
              "      <th>simp_sent</th>\n",
              "      <th>sys_type</th>\n",
              "      <th>fluency</th>\n",
              "      <th>fluency_zscore</th>\n",
              "      <th>meaning</th>\n",
              "      <th>meaning_zscore</th>\n",
              "      <th>simplicity</th>\n",
              "      <th>simplicity_zscore</th>\n",
              "      <th>inter</th>\n",
              "      <th>group_id</th>\n",
              "    </tr>\n",
              "  </thead>\n",
              "  <tbody>\n",
              "    <tr>\n",
              "      <th>0</th>\n",
              "      <td>268</td>\n",
              "      <td>ACCESS</td>\n",
              "      <td>Prunk is a member of Institute of European His...</td>\n",
              "      <td>Prunk is a member of Institute of European His...</td>\n",
              "      <td>NeuralSeq2Seq</td>\n",
              "      <td>77.400000</td>\n",
              "      <td>0.152400</td>\n",
              "      <td>77.333333</td>\n",
              "      <td>0.530362</td>\n",
              "      <td>71.333333</td>\n",
              "      <td>0.611060</td>\n",
              "      <td>[Prunk is a member of Institute of European Hi...</td>\n",
              "      <td>0</td>\n",
              "    </tr>\n",
              "    <tr>\n",
              "      <th>1</th>\n",
              "      <td>67</td>\n",
              "      <td>SBMT-SARI</td>\n",
              "      <td>In return, Rollo swore fealty to Charles, conv...</td>\n",
              "      <td>In return, Rollo swore fealty to Charles, conv...</td>\n",
              "      <td>SBMT</td>\n",
              "      <td>87.866667</td>\n",
              "      <td>0.512595</td>\n",
              "      <td>96.466667</td>\n",
              "      <td>1.142803</td>\n",
              "      <td>90.933333</td>\n",
              "      <td>1.257177</td>\n",
              "      <td>[In return Rollo swore fealty to Charles conve...</td>\n",
              "      <td>1</td>\n",
              "    </tr>\n",
              "    <tr>\n",
              "      <th>2</th>\n",
              "      <td>341</td>\n",
              "      <td>SBMT-SARI</td>\n",
              "      <td>From 1900 to 1920 many new facilities were con...</td>\n",
              "      <td>From 1900 to 1920 many new plants were built o...</td>\n",
              "      <td>SBMT</td>\n",
              "      <td>79.133333</td>\n",
              "      <td>0.119438</td>\n",
              "      <td>68.533333</td>\n",
              "      <td>0.284701</td>\n",
              "      <td>53.800000</td>\n",
              "      <td>0.158894</td>\n",
              "      <td>[From 1900 to 1920 many new plants were constr...</td>\n",
              "      <td>2</td>\n",
              "    </tr>\n",
              "    <tr>\n",
              "      <th>3</th>\n",
              "      <td>278</td>\n",
              "      <td>PBMT-R</td>\n",
              "      <td>Mercury is similar in appearance to the Moon: ...</td>\n",
              "      <td>Mercury is similar in appearance to the Moon: ...</td>\n",
              "      <td>PBMT</td>\n",
              "      <td>90.333333</td>\n",
              "      <td>0.598145</td>\n",
              "      <td>90.666667</td>\n",
              "      <td>0.965649</td>\n",
              "      <td>71.600000</td>\n",
              "      <td>0.664848</td>\n",
              "      <td>[Mercury is similar in appearance to the Moon ...</td>\n",
              "      <td>3</td>\n",
              "    </tr>\n",
              "    <tr>\n",
              "      <th>5</th>\n",
              "      <td>208</td>\n",
              "      <td>DMASS-DCSS</td>\n",
              "      <td>The plant is considered a living fossil.</td>\n",
              "      <td>The plant is thought to be a living fossil.</td>\n",
              "      <td>NeuralSeq2Seq</td>\n",
              "      <td>89.666667</td>\n",
              "      <td>0.509301</td>\n",
              "      <td>96.400000</td>\n",
              "      <td>1.102373</td>\n",
              "      <td>66.600000</td>\n",
              "      <td>0.558290</td>\n",
              "      <td>[]</td>\n",
              "      <td>5</td>\n",
              "    </tr>\n",
              "    <tr>\n",
              "      <th>...</th>\n",
              "      <td>...</td>\n",
              "      <td>...</td>\n",
              "      <td>...</td>\n",
              "      <td>...</td>\n",
              "      <td>...</td>\n",
              "      <td>...</td>\n",
              "      <td>...</td>\n",
              "      <td>...</td>\n",
              "      <td>...</td>\n",
              "      <td>...</td>\n",
              "      <td>...</td>\n",
              "      <td>...</td>\n",
              "      <td>...</td>\n",
              "    </tr>\n",
              "    <tr>\n",
              "      <th>594</th>\n",
              "      <td>296</td>\n",
              "      <td>SBMT-SARI</td>\n",
              "      <td>Version 2009.1 provides a USB installer to cre...</td>\n",
              "      <td>Print 2009.1 offers a USB driver to create a L...</td>\n",
              "      <td>SBMT</td>\n",
              "      <td>69.333333</td>\n",
              "      <td>-0.022690</td>\n",
              "      <td>75.466667</td>\n",
              "      <td>0.274683</td>\n",
              "      <td>64.200000</td>\n",
              "      <td>0.374245</td>\n",
              "      <td>[Version 2009.1 offers a USB installer to crea...</td>\n",
              "      <td>594</td>\n",
              "    </tr>\n",
              "    <tr>\n",
              "      <th>595</th>\n",
              "      <td>210</td>\n",
              "      <td>Hybrid</td>\n",
              "      <td>Orchestration Stravinsky first conceived of wr...</td>\n",
              "      <td>Orchestration Stravinsky conceived of writing ...</td>\n",
              "      <td>Semantics+PBMT</td>\n",
              "      <td>68.333333</td>\n",
              "      <td>-0.092967</td>\n",
              "      <td>89.933333</td>\n",
              "      <td>0.846412</td>\n",
              "      <td>63.400000</td>\n",
              "      <td>0.336182</td>\n",
              "      <td>[]</td>\n",
              "      <td>595</td>\n",
              "    </tr>\n",
              "    <tr>\n",
              "      <th>596</th>\n",
              "      <td>202</td>\n",
              "      <td>Dress-Ls</td>\n",
              "      <td>The album, however, was banned from many recor...</td>\n",
              "      <td>The album was banned from many record stores n...</td>\n",
              "      <td>NeuralSeq2Seq</td>\n",
              "      <td>99.600000</td>\n",
              "      <td>0.970276</td>\n",
              "      <td>95.333333</td>\n",
              "      <td>1.027604</td>\n",
              "      <td>81.800000</td>\n",
              "      <td>0.890318</td>\n",
              "      <td>[]</td>\n",
              "      <td>596</td>\n",
              "    </tr>\n",
              "    <tr>\n",
              "      <th>598</th>\n",
              "      <td>148</td>\n",
              "      <td>Dress-Ls</td>\n",
              "      <td>Later, Esperanto speakers began to see the lan...</td>\n",
              "      <td>Esperanto speakers began to see the language a...</td>\n",
              "      <td>NeuralSeq2Seq</td>\n",
              "      <td>71.533333</td>\n",
              "      <td>-0.001330</td>\n",
              "      <td>71.000000</td>\n",
              "      <td>0.274918</td>\n",
              "      <td>74.133333</td>\n",
              "      <td>0.614088</td>\n",
              "      <td>[Esperanto speakers began to see the language ...</td>\n",
              "      <td>598</td>\n",
              "    </tr>\n",
              "    <tr>\n",
              "      <th>599</th>\n",
              "      <td>112</td>\n",
              "      <td>Hybrid</td>\n",
              "      <td>The New York City Housing Authority Police Dep...</td>\n",
              "      <td>The new city York Housing Authority Police Dep...</td>\n",
              "      <td>Semantics+PBMT</td>\n",
              "      <td>66.066667</td>\n",
              "      <td>-0.202881</td>\n",
              "      <td>53.066667</td>\n",
              "      <td>-0.207744</td>\n",
              "      <td>46.466667</td>\n",
              "      <td>-0.141521</td>\n",
              "      <td>[The New city York Housing Authority Police De...</td>\n",
              "      <td>599</td>\n",
              "    </tr>\n",
              "  </tbody>\n",
              "</table>\n",
              "<p>480 rows × 13 columns</p>\n",
              "</div>\n",
              "    <div class=\"colab-df-buttons\">\n",
              "\n",
              "  <div class=\"colab-df-container\">\n",
              "    <button class=\"colab-df-convert\" onclick=\"convertToInteractive('df-a6a5ebb8-db7d-4a4f-acd2-f3101a4e5001')\"\n",
              "            title=\"Convert this dataframe to an interactive table.\"\n",
              "            style=\"display:none;\">\n",
              "\n",
              "  <svg xmlns=\"http://www.w3.org/2000/svg\" height=\"24px\" viewBox=\"0 -960 960 960\">\n",
              "    <path d=\"M120-120v-720h720v720H120Zm60-500h600v-160H180v160Zm220 220h160v-160H400v160Zm0 220h160v-160H400v160ZM180-400h160v-160H180v160Zm440 0h160v-160H620v160ZM180-180h160v-160H180v160Zm440 0h160v-160H620v160Z\"/>\n",
              "  </svg>\n",
              "    </button>\n",
              "\n",
              "  <style>\n",
              "    .colab-df-container {\n",
              "      display:flex;\n",
              "      gap: 12px;\n",
              "    }\n",
              "\n",
              "    .colab-df-convert {\n",
              "      background-color: #E8F0FE;\n",
              "      border: none;\n",
              "      border-radius: 50%;\n",
              "      cursor: pointer;\n",
              "      display: none;\n",
              "      fill: #1967D2;\n",
              "      height: 32px;\n",
              "      padding: 0 0 0 0;\n",
              "      width: 32px;\n",
              "    }\n",
              "\n",
              "    .colab-df-convert:hover {\n",
              "      background-color: #E2EBFA;\n",
              "      box-shadow: 0px 1px 2px rgba(60, 64, 67, 0.3), 0px 1px 3px 1px rgba(60, 64, 67, 0.15);\n",
              "      fill: #174EA6;\n",
              "    }\n",
              "\n",
              "    .colab-df-buttons div {\n",
              "      margin-bottom: 4px;\n",
              "    }\n",
              "\n",
              "    [theme=dark] .colab-df-convert {\n",
              "      background-color: #3B4455;\n",
              "      fill: #D2E3FC;\n",
              "    }\n",
              "\n",
              "    [theme=dark] .colab-df-convert:hover {\n",
              "      background-color: #434B5C;\n",
              "      box-shadow: 0px 1px 3px 1px rgba(0, 0, 0, 0.15);\n",
              "      filter: drop-shadow(0px 1px 2px rgba(0, 0, 0, 0.3));\n",
              "      fill: #FFFFFF;\n",
              "    }\n",
              "  </style>\n",
              "\n",
              "    <script>\n",
              "      const buttonEl =\n",
              "        document.querySelector('#df-a6a5ebb8-db7d-4a4f-acd2-f3101a4e5001 button.colab-df-convert');\n",
              "      buttonEl.style.display =\n",
              "        google.colab.kernel.accessAllowed ? 'block' : 'none';\n",
              "\n",
              "      async function convertToInteractive(key) {\n",
              "        const element = document.querySelector('#df-a6a5ebb8-db7d-4a4f-acd2-f3101a4e5001');\n",
              "        const dataTable =\n",
              "          await google.colab.kernel.invokeFunction('convertToInteractive',\n",
              "                                                    [key], {});\n",
              "        if (!dataTable) return;\n",
              "\n",
              "        const docLinkHtml = 'Like what you see? Visit the ' +\n",
              "          '<a target=\"_blank\" href=https://colab.research.google.com/notebooks/data_table.ipynb>data table notebook</a>'\n",
              "          + ' to learn more about interactive tables.';\n",
              "        element.innerHTML = '';\n",
              "        dataTable['output_type'] = 'display_data';\n",
              "        await google.colab.output.renderOutput(dataTable, element);\n",
              "        const docLink = document.createElement('div');\n",
              "        docLink.innerHTML = docLinkHtml;\n",
              "        element.appendChild(docLink);\n",
              "      }\n",
              "    </script>\n",
              "  </div>\n",
              "\n",
              "\n",
              "<div id=\"df-7807a1ee-ff0d-49bd-a1b2-de9291b0d23c\">\n",
              "  <button class=\"colab-df-quickchart\" onclick=\"quickchart('df-7807a1ee-ff0d-49bd-a1b2-de9291b0d23c')\"\n",
              "            title=\"Suggest charts.\"\n",
              "            style=\"display:none;\">\n",
              "\n",
              "<svg xmlns=\"http://www.w3.org/2000/svg\" height=\"24px\"viewBox=\"0 0 24 24\"\n",
              "     width=\"24px\">\n",
              "    <g>\n",
              "        <path d=\"M19 3H5c-1.1 0-2 .9-2 2v14c0 1.1.9 2 2 2h14c1.1 0 2-.9 2-2V5c0-1.1-.9-2-2-2zM9 17H7v-7h2v7zm4 0h-2V7h2v10zm4 0h-2v-4h2v4z\"/>\n",
              "    </g>\n",
              "</svg>\n",
              "  </button>\n",
              "\n",
              "<style>\n",
              "  .colab-df-quickchart {\n",
              "      --bg-color: #E8F0FE;\n",
              "      --fill-color: #1967D2;\n",
              "      --hover-bg-color: #E2EBFA;\n",
              "      --hover-fill-color: #174EA6;\n",
              "      --disabled-fill-color: #AAA;\n",
              "      --disabled-bg-color: #DDD;\n",
              "  }\n",
              "\n",
              "  [theme=dark] .colab-df-quickchart {\n",
              "      --bg-color: #3B4455;\n",
              "      --fill-color: #D2E3FC;\n",
              "      --hover-bg-color: #434B5C;\n",
              "      --hover-fill-color: #FFFFFF;\n",
              "      --disabled-bg-color: #3B4455;\n",
              "      --disabled-fill-color: #666;\n",
              "  }\n",
              "\n",
              "  .colab-df-quickchart {\n",
              "    background-color: var(--bg-color);\n",
              "    border: none;\n",
              "    border-radius: 50%;\n",
              "    cursor: pointer;\n",
              "    display: none;\n",
              "    fill: var(--fill-color);\n",
              "    height: 32px;\n",
              "    padding: 0;\n",
              "    width: 32px;\n",
              "  }\n",
              "\n",
              "  .colab-df-quickchart:hover {\n",
              "    background-color: var(--hover-bg-color);\n",
              "    box-shadow: 0 1px 2px rgba(60, 64, 67, 0.3), 0 1px 3px 1px rgba(60, 64, 67, 0.15);\n",
              "    fill: var(--button-hover-fill-color);\n",
              "  }\n",
              "\n",
              "  .colab-df-quickchart-complete:disabled,\n",
              "  .colab-df-quickchart-complete:disabled:hover {\n",
              "    background-color: var(--disabled-bg-color);\n",
              "    fill: var(--disabled-fill-color);\n",
              "    box-shadow: none;\n",
              "  }\n",
              "\n",
              "  .colab-df-spinner {\n",
              "    border: 2px solid var(--fill-color);\n",
              "    border-color: transparent;\n",
              "    border-bottom-color: var(--fill-color);\n",
              "    animation:\n",
              "      spin 1s steps(1) infinite;\n",
              "  }\n",
              "\n",
              "  @keyframes spin {\n",
              "    0% {\n",
              "      border-color: transparent;\n",
              "      border-bottom-color: var(--fill-color);\n",
              "      border-left-color: var(--fill-color);\n",
              "    }\n",
              "    20% {\n",
              "      border-color: transparent;\n",
              "      border-left-color: var(--fill-color);\n",
              "      border-top-color: var(--fill-color);\n",
              "    }\n",
              "    30% {\n",
              "      border-color: transparent;\n",
              "      border-left-color: var(--fill-color);\n",
              "      border-top-color: var(--fill-color);\n",
              "      border-right-color: var(--fill-color);\n",
              "    }\n",
              "    40% {\n",
              "      border-color: transparent;\n",
              "      border-right-color: var(--fill-color);\n",
              "      border-top-color: var(--fill-color);\n",
              "    }\n",
              "    60% {\n",
              "      border-color: transparent;\n",
              "      border-right-color: var(--fill-color);\n",
              "    }\n",
              "    80% {\n",
              "      border-color: transparent;\n",
              "      border-right-color: var(--fill-color);\n",
              "      border-bottom-color: var(--fill-color);\n",
              "    }\n",
              "    90% {\n",
              "      border-color: transparent;\n",
              "      border-bottom-color: var(--fill-color);\n",
              "    }\n",
              "  }\n",
              "</style>\n",
              "\n",
              "  <script>\n",
              "    async function quickchart(key) {\n",
              "      const quickchartButtonEl =\n",
              "        document.querySelector('#' + key + ' button');\n",
              "      quickchartButtonEl.disabled = true;  // To prevent multiple clicks.\n",
              "      quickchartButtonEl.classList.add('colab-df-spinner');\n",
              "      try {\n",
              "        const charts = await google.colab.kernel.invokeFunction(\n",
              "            'suggestCharts', [key], {});\n",
              "      } catch (error) {\n",
              "        console.error('Error during call to suggestCharts:', error);\n",
              "      }\n",
              "      quickchartButtonEl.classList.remove('colab-df-spinner');\n",
              "      quickchartButtonEl.classList.add('colab-df-quickchart-complete');\n",
              "    }\n",
              "    (() => {\n",
              "      let quickchartButtonEl =\n",
              "        document.querySelector('#df-7807a1ee-ff0d-49bd-a1b2-de9291b0d23c button');\n",
              "      quickchartButtonEl.style.display =\n",
              "        google.colab.kernel.accessAllowed ? 'block' : 'none';\n",
              "    })();\n",
              "  </script>\n",
              "</div>\n",
              "    </div>\n",
              "  </div>\n"
            ],
            "text/plain": [
              "     sent_id    sys_name                                          orig_sent  \\\n",
              "0        268      ACCESS  Prunk is a member of Institute of European His...   \n",
              "1         67   SBMT-SARI  In return, Rollo swore fealty to Charles, conv...   \n",
              "2        341   SBMT-SARI  From 1900 to 1920 many new facilities were con...   \n",
              "3        278      PBMT-R  Mercury is similar in appearance to the Moon: ...   \n",
              "5        208  DMASS-DCSS           The plant is considered a living fossil.   \n",
              "..       ...         ...                                                ...   \n",
              "594      296   SBMT-SARI  Version 2009.1 provides a USB installer to cre...   \n",
              "595      210      Hybrid  Orchestration Stravinsky first conceived of wr...   \n",
              "596      202    Dress-Ls  The album, however, was banned from many recor...   \n",
              "598      148    Dress-Ls  Later, Esperanto speakers began to see the lan...   \n",
              "599      112      Hybrid  The New York City Housing Authority Police Dep...   \n",
              "\n",
              "                                             simp_sent        sys_type  \\\n",
              "0    Prunk is a member of Institute of European His...   NeuralSeq2Seq   \n",
              "1    In return, Rollo swore fealty to Charles, conv...            SBMT   \n",
              "2    From 1900 to 1920 many new plants were built o...            SBMT   \n",
              "3    Mercury is similar in appearance to the Moon: ...            PBMT   \n",
              "5          The plant is thought to be a living fossil.   NeuralSeq2Seq   \n",
              "..                                                 ...             ...   \n",
              "594  Print 2009.1 offers a USB driver to create a L...            SBMT   \n",
              "595  Orchestration Stravinsky conceived of writing ...  Semantics+PBMT   \n",
              "596  The album was banned from many record stores n...   NeuralSeq2Seq   \n",
              "598  Esperanto speakers began to see the language a...   NeuralSeq2Seq   \n",
              "599  The new city York Housing Authority Police Dep...  Semantics+PBMT   \n",
              "\n",
              "       fluency  fluency_zscore    meaning  meaning_zscore  simplicity  \\\n",
              "0    77.400000        0.152400  77.333333        0.530362   71.333333   \n",
              "1    87.866667        0.512595  96.466667        1.142803   90.933333   \n",
              "2    79.133333        0.119438  68.533333        0.284701   53.800000   \n",
              "3    90.333333        0.598145  90.666667        0.965649   71.600000   \n",
              "5    89.666667        0.509301  96.400000        1.102373   66.600000   \n",
              "..         ...             ...        ...             ...         ...   \n",
              "594  69.333333       -0.022690  75.466667        0.274683   64.200000   \n",
              "595  68.333333       -0.092967  89.933333        0.846412   63.400000   \n",
              "596  99.600000        0.970276  95.333333        1.027604   81.800000   \n",
              "598  71.533333       -0.001330  71.000000        0.274918   74.133333   \n",
              "599  66.066667       -0.202881  53.066667       -0.207744   46.466667   \n",
              "\n",
              "     simplicity_zscore                                              inter  \\\n",
              "0             0.611060  [Prunk is a member of Institute of European Hi...   \n",
              "1             1.257177  [In return Rollo swore fealty to Charles conve...   \n",
              "2             0.158894  [From 1900 to 1920 many new plants were constr...   \n",
              "3             0.664848  [Mercury is similar in appearance to the Moon ...   \n",
              "5             0.558290                                                 []   \n",
              "..                 ...                                                ...   \n",
              "594           0.374245  [Version 2009.1 offers a USB installer to crea...   \n",
              "595           0.336182                                                 []   \n",
              "596           0.890318                                                 []   \n",
              "598           0.614088  [Esperanto speakers began to see the language ...   \n",
              "599          -0.141521  [The New city York Housing Authority Police De...   \n",
              "\n",
              "     group_id  \n",
              "0           0  \n",
              "1           1  \n",
              "2           2  \n",
              "3           3  \n",
              "5           5  \n",
              "..        ...  \n",
              "594       594  \n",
              "595       595  \n",
              "596       596  \n",
              "598       598  \n",
              "599       599  \n",
              "\n",
              "[480 rows x 13 columns]"
            ]
          },
          "execution_count": 5,
          "metadata": {},
          "output_type": "execute_result"
        }
      ],
      "source": [
        "df_simplicityDA_silver_train"
      ]
    },
    {
      "cell_type": "code",
      "execution_count": null,
      "metadata": {
        "id": "GAIj8FFiEiW3"
      },
      "outputs": [],
      "source": [
        "import matplotlib.pyplot as plt\n",
        "plt.style.use('ggplot')"
      ]
    },
    {
      "cell_type": "code",
      "execution_count": null,
      "metadata": {
        "colab": {
          "base_uri": "https://localhost:8080/",
          "height": 494
        },
        "id": "HOf6GIJYC-W2",
        "outputId": "d5216a0c-3de5-4b59-cf35-a0a614d87dea"
      },
      "outputs": [
        {
          "data": {
            "text/plain": [
              "Text(0, 0.5, 'frequency')"
            ]
          },
          "execution_count": 40,
          "metadata": {},
          "output_type": "execute_result"
        },
        {
          "data": {
            "image/png": "[encoded data removed]",
            "text/plain": [
              "<Figure size 640x480 with 1 Axes>"
            ]
          },
          "metadata": {},
          "output_type": "display_data"
        }
      ],
      "source": [
        "df_simplicityDA['simplicity_zscore'].hist(bins=50, color='b', alpha=0.7,edgecolor='black')\n",
        "plt.title('Simplicity-DA')\n",
        "plt.xlim(-2,2)\n",
        "plt.xlabel('simplicity_zscore')\n",
        "plt.ylabel('frequency')"
      ]
    },
    {
      "cell_type": "code",
      "execution_count": null,
      "metadata": {
        "colab": {
          "base_uri": "https://localhost:8080/"
        },
        "id": "wSeSGSxnDuBg",
        "outputId": "02a4e703-e41d-4c06-acac-16ee8198f57b"
      },
      "outputs": [
        {
          "data": {
            "text/plain": [
              "1.5000005681997664e-11"
            ]
          },
          "execution_count": 9,
          "metadata": {},
          "output_type": "execute_result"
        }
      ],
      "source": [
        "df_simplicityDA['simplicity_zscore'].mean()"
      ]
    },
    {
      "cell_type": "code",
      "execution_count": null,
      "metadata": {
        "colab": {
          "base_uri": "https://localhost:8080/"
        },
        "id": "o8Ie1-vMD3Rq",
        "outputId": "c04f8e12-99f0-4a7c-d961-cd79655fd71e"
      },
      "outputs": [
        {
          "name": "stderr",
          "output_type": "stream",
          "text": [
            "<ipython-input-4-c86d62b2ebe2>:22: FutureWarning: The default value of numeric_only in DataFrameGroupBy.mean is deprecated. In a future version, numeric_only will default to False. Either specify numeric_only or select only columns which should be valid for the function.\n",
            "  df_hg_all_grouped = df_hg_all.groupby(['sentence_id']).mean()\n"
          ]
        }
      ],
      "source": [
        "from scipy.stats import zscore, spearmanr, pearsonr\n",
        "def standardise_ratings(df, rater_id, aspect):\n",
        "    return df.groupby(by=rater_id)[aspect].transform(lambda x: zscore(x))\n",
        "df_simplicityDA = pd.read_csv(\"./src/metaeval-simplification/simplicity_DA.csv\")\n",
        "\n",
        "df_hg = pd.read_csv(\"./src/simplification_human_evaluations/questeval_simplification_likert_ratings.csv\")\n",
        "df_hg = df_hg[df_hg['simplification_type'] == 'human']\n",
        "simplicity_zscore = standardise_ratings(df_hg[df_hg['aspect'] == 'simplicity'], rater_id='worker_id', aspect=\"rating\")\n",
        "meaning_zscore = standardise_ratings(df_hg[df_hg['aspect'] == 'meaning'], rater_id='worker_id', aspect=\"rating\")\n",
        "fluency_zscore = standardise_ratings(df_hg[df_hg['aspect'] == 'fluency'], rater_id='worker_id', aspect=\"rating\")\n",
        "df_hg_simp = df_hg[df_hg['aspect'] == 'simplicity'].copy().drop(columns=['aspect', 'rating'])\n",
        "df_hg_simp['simplicity_zscore'] = simplicity_zscore\n",
        "df_hg_simp['simplicity'] = df_hg[df_hg['aspect'] == 'simplicity']['rating']\n",
        "df_hg_mean = df_hg[df_hg['aspect'] == 'meaning'].copy().drop(columns=['aspect', 'rating'])\n",
        "df_hg_mean['meaning_zscore'] = meaning_zscore\n",
        "df_hg_mean['meaning'] = df_hg[df_hg['aspect'] == 'meaning']['rating']\n",
        "df_hg_flu = df_hg[df_hg['aspect'] == 'fluency'].copy().drop(columns=['aspect', 'rating'])\n",
        "df_hg_flu['fluency_zscore'] = fluency_zscore\n",
        "df_hg_flu['fluency'] = df_hg[df_hg['aspect'] == 'fluency']['rating']\n",
        "df_hg_all = df_hg_simp.merge(df_hg_mean, on=['source', 'simplification', 'sentence_id', 'simplification_type', 'system_name', 'worker_id', 'references'])\n",
        "df_hg_all = df_hg_all.merge(df_hg_flu, on=['source', 'simplification', 'sentence_id', 'simplification_type', 'system_name', 'worker_id', 'references'])\n",
        "df_hg_all_grouped = df_hg_all.groupby(['sentence_id']).mean()\n",
        "#df_hg_all_grouped['sentence_id'] = df_hg_all_grouped['sentence_id'].astype(int)\n",
        "#df_hg_all_grouped['sentence_id'] = df_hg_all_grouped.index\n",
        "df_hg_all_grouped.reset_index(inplace=True)\n",
        "df_hg_all_ddup = df_hg_all.drop_duplicates(subset='sentence_id')\n",
        "df_hg_all_grouped = df_hg_all_grouped.merge(df_hg_all_ddup.drop(columns=['worker_id', 'simplicity_zscore', 'meaning_zscore', 'fluency_zscore', 'simplicity', 'fluency', 'meaning']), on=['sentence_id'])\n",
        "df_hg_all_grouped.rename(columns={'sentence_id': 'sent_id', 'system_name': 'sys_name', 'source': 'orig_sent', 'simplification': 'simp_sent'}, inplace=True)"
      ]
    },
    {
      "cell_type": "code",
      "execution_count": null,
      "metadata": {
        "colab": {
          "base_uri": "https://localhost:8080/",
          "height": 494
        },
        "id": "5QmkTZouEMRP",
        "outputId": "aa47ef7f-f442-4817-b1bf-a193b4774cf4"
      },
      "outputs": [
        {
          "data": {
            "text/plain": [
              "Text(0, 0.5, 'frequency')"
            ]
          },
          "execution_count": 33,
          "metadata": {},
          "output_type": "execute_result"
        },
        {
          "data": {
            "image/png": "[encoded data removed]",
            "text/plain": [
              "<Figure size 640x480 with 1 Axes>"
            ]
          },
          "metadata": {},
          "output_type": "display_data"
        }
      ],
      "source": [
        "df_hg_all_grouped['simplicity_zscore'].hist(bins=50, color='b', alpha=0.7,edgecolor='black')\n",
        "plt.title('Human-Likert')\n",
        "plt.xlim(-2,2)\n",
        "plt.xlabel('simplicity_zscore')\n",
        "plt.ylabel('frequency')"
      ]
    },
    {
      "cell_type": "code",
      "execution_count": null,
      "metadata": {
        "colab": {
          "base_uri": "https://localhost:8080/"
        },
        "id": "K1pQqaSxEVSW",
        "outputId": "7bd36174-6ec4-43da-e3a7-db70d1c325cf"
      },
      "outputs": [
        {
          "name": "stderr",
          "output_type": "stream",
          "text": [
            "<ipython-input-5-8e19abba0475>:10: FutureWarning: The default value of numeric_only in DataFrameGroupBy.mean is deprecated. In a future version, numeric_only will default to False. Either specify numeric_only or select only columns which should be valid for the function.\n",
            "  simpda_2022_grouped = simpda_2022.groupby(['segment_id']).mean().drop(['WorkerId', 'Answer.simplicity', 'Answer.fluency', 'Answer.adequacy', 'rater_num'], axis=1).astype({\"Input.id\":int}).reset_index()\n"
          ]
        }
      ],
      "source": [
        "simpda_2022 = pd.read_csv(\"./src/LENS-master/data/simpDA_2022.csv\")\n",
        "simplicity_zscore = standardise_ratings(simpda_2022, rater_id='WorkerId', aspect=\"Answer.simplicity\")\n",
        "fluency_zscore = standardise_ratings(simpda_2022, rater_id='WorkerId', aspect=\"Answer.fluency\")\n",
        "meaning_zscore = standardise_ratings(simpda_2022, rater_id='WorkerId', aspect=\"Answer.adequacy\")\n",
        "simpda_2022[\"simplicity_zscore\"] = simplicity_zscore\n",
        "simpda_2022[\"fluency_zscore\"] = fluency_zscore\n",
        "simpda_2022[\"meaning_zscore\"] = meaning_zscore\n",
        "simpda_2022['segment_id'] = simpda_2022['Input.id'].astype(str) + '_' + simpda_2022['Input.system']\n",
        "simpda_2022[\"rater_num\"] = simpda_2022.groupby([\"segment_id\"]).cumcount()\n",
        "simpda_2022_grouped = simpda_2022.groupby(['segment_id']).mean().drop(['WorkerId', 'Answer.simplicity', 'Answer.fluency', 'Answer.adequacy', 'rater_num'], axis=1).astype({\"Input.id\":int}).reset_index()\n",
        "simpda_2022_grouped['sent_id'] = simpda_2022_grouped['segment_id'].apply(lambda x: x.split(sep='_')[0]).astype(int)\n",
        "simpda_2022_grouped['sys_name'] = simpda_2022_grouped['segment_id'].apply(lambda x: x.split(sep='_')[1]).astype(str)\n",
        "simpda_2022_grouped = simpda_2022_grouped.merge(simpda_2022[['segment_id', 'Input.original', 'Input.simplified']].drop_duplicates(), on=['segment_id'])\n",
        "#simpda_2022_grouped = simpda_2022_grouped.merge(simpda_2022[['segment_id', 'Input.original', 'Input.simplified']], on=['segment_id']).drop_duplicates()\n",
        "simpda_2022_grouped.rename(columns={'Input.original': 'orig_sent', 'Input.simplified': 'simp_sent'}, inplace=True)"
      ]
    },
    {
      "cell_type": "code",
      "execution_count": null,
      "metadata": {
        "colab": {
          "base_uri": "https://localhost:8080/",
          "height": 496
        },
        "id": "g0pacwSaEX89",
        "outputId": "09fdb4b6-693e-4433-8178-d170a5363acd"
      },
      "outputs": [
        {
          "data": {
            "text/plain": [
              "Text(0, 0.5, 'frequency')"
            ]
          },
          "execution_count": 25,
          "metadata": {},
          "output_type": "execute_result"
        },
        {
          "data": {
            "image/png": "[encoded data removed]",
            "text/plain": [
              "<Figure size 640x480 with 1 Axes>"
            ]
          },
          "metadata": {},
          "output_type": "display_data"
        }
      ],
      "source": [
        "plt.style.use('ggplot')\n",
        "simpda_2022_grouped['simplicity_zscore'].hist(bins=50, color='b', alpha=0.7,edgecolor='black')\n",
        "plt.title(r'SimpDA${_\\mathrm{2022}}$')\n",
        "plt.xlim(-2,2)\n",
        "plt.xlabel('simplicity_zscore')\n",
        "plt.ylabel('frequency')"
      ]
    },
    {
      "cell_type": "code",
      "execution_count": null,
      "metadata": {
        "colab": {
          "base_uri": "https://localhost:8080/"
        },
        "id": "AkR5PXucDqiW",
        "outputId": "6467e20a-8338-4b94-b230-090a0fc9468e"
      },
      "outputs": [
        {
          "data": {
            "text/plain": [
              "360"
            ]
          },
          "execution_count": 46,
          "metadata": {},
          "output_type": "execute_result"
        }
      ],
      "source": [
        "len(simpda_2022_grouped)"
      ]
    },
    {
      "cell_type": "code",
      "execution_count": null,
      "metadata": {
        "colab": {
          "base_uri": "https://localhost:8080/",
          "height": 447
        },
        "id": "jca2DPxQDttG",
        "outputId": "deb4dfe0-8e38-4b35-aad3-c4bffbcc3009"
      },
      "outputs": [
        {
          "data": {
            "text/plain": [
              "<Axes: >"
            ]
          },
          "execution_count": 43,
          "metadata": {},
          "output_type": "execute_result"
        },
        {
          "data": {
            "image/png": "[encoded data removed]",
            "text/plain": [
              "<Figure size 640x480 with 1 Axes>"
            ]
          },
          "metadata": {},
          "output_type": "display_data"
        }
      ],
      "source": [
        "df_simplicityDA['sent_id'].hist(bins=1000, color='b', alpha=0.7,edgecolor='black')"
      ]
    },
    {
      "cell_type": "code",
      "execution_count": null,
      "metadata": {
        "colab": {
          "base_uri": "https://localhost:8080/"
        },
        "id": "GsdzRpBV6AuK",
        "outputId": "a0ad622d-890d-475b-db19-6d29fc17dbf5"
      },
      "outputs": [
        {
          "data": {
            "text/plain": [
              "302"
            ]
          },
          "execution_count": 36,
          "metadata": {},
          "output_type": "execute_result"
        }
      ],
      "source": [
        "len(df_simplicityDA['sent_id'].unique())"
      ]
    },
    {
      "cell_type": "code",
      "execution_count": null,
      "metadata": {
        "colab": {
          "base_uri": "https://localhost:8080/"
        },
        "id": "c0g4E70fqFie",
        "outputId": "e02e395c-f5db-4c58-b283-f2ee73c27cb7"
      },
      "outputs": [
        {
          "data": {
            "text/plain": [
              "178    5\n",
              "85     5\n",
              "173    5\n",
              "216    5\n",
              "214    5\n",
              "      ..\n",
              "151    1\n",
              "204    1\n",
              "117    1\n",
              "312    1\n",
              "148    1\n",
              "Name: sent_id, Length: 302, dtype: int64"
            ]
          },
          "execution_count": 37,
          "metadata": {},
          "output_type": "execute_result"
        }
      ],
      "source": [
        "df_simplicityDA['sent_id'].value_counts()"
      ]
    },
    {
      "cell_type": "code",
      "execution_count": null,
      "metadata": {
        "id": "3yrXWn36lCCi"
      },
      "outputs": [],
      "source": [
        "df_simplicityDA.sort_values(by=['sent_id'])"
      ]
    },
    {
      "cell_type": "code",
      "execution_count": null,
      "metadata": {
        "id": "a6TMooGzkvGO"
      },
      "outputs": [],
      "source": [
        "df_simplicityDA[df_simplicityDA['sent_id'] == 5]"
      ]
    },
    {
      "cell_type": "code",
      "execution_count": null,
      "metadata": {
        "colab": {
          "base_uri": "https://localhost:8080/",
          "height": 454
        },
        "id": "h3PGJVjnB8G8",
        "outputId": "b8c8462c-47e7-433a-dabf-cf842d3391f2"
      },
      "outputs": [
        {
          "data": {
            "image/png": "[encoded data removed]",
            "text/plain": [
              "<Figure size 640x480 with 1 Axes>"
            ]
          },
          "metadata": {},
          "output_type": "display_data"
        }
      ],
      "source": [
        "df_simplicityDA['simplicity_zscore'].hist(bins=30, color='darkorange', alpha=0.9,edgecolor='black', label='Simplicity-DA')\n",
        "#plt.title('Simplicity-DA')\n",
        "plt.xlim(-2,2)\n",
        "plt.xlabel('simplicity_zscore')\n",
        "plt.ylabel('frequency')\n",
        "\n",
        "simpda_2022_grouped['simplicity_zscore'].hist(bins=45, color='dimgray', alpha=0.9,edgecolor='black', label='SimpDA${_\\mathrm{2022}}$')\n",
        "#plt.title(r'SimpDA${_\\mathrm{2022}}$')\n",
        "plt.xlim(-2,2)\n",
        "plt.xlabel('simplicity_zscore')\n",
        "plt.ylabel('frequency')\n",
        "\n",
        "df_hg_all_grouped['simplicity_zscore'].hist(bins=25, color='lightseagreen', alpha=0.9,edgecolor='black', label='Human-Likert')\n",
        "#plt.title('Human-Likert')\n",
        "plt.xlim(-2,2)\n",
        "plt.xlabel('simplicity_zscore')\n",
        "plt.ylabel('frequency')\n",
        "\n",
        "plt.legend()\n",
        "plt.savefig('dist2.pdf', format='pdf')"
      ]
    },
    {
      "cell_type": "code",
      "execution_count": null,
      "metadata": {
        "id": "C-lO5mCrhx_a"
      },
      "outputs": [],
      "source": []
    },
    {
      "cell_type": "code",
      "execution_count": null,
      "metadata": {
        "colab": {
          "base_uri": "https://localhost:8080/",
          "height": 366
        },
        "id": "sV35TkTF8Zon",
        "outputId": "6dc2df01-da99-4cd6-8526-3dc5860d296c"
      },
      "outputs": [
        {
          "data": {
            "image/png": "[encoded data removed]",
            "text/plain": [
              "<Figure size 1200x400 with 3 Axes>"
            ]
          },
          "metadata": {},
          "output_type": "display_data"
        }
      ],
      "source": [
        "fig, ax = plt.subplots(1, 3, figsize=(12, 4))\n",
        "\n",
        "ax[0].hist(df_simplicityDA['simplicity_zscore'], bins=30, color='b', alpha=0.7,edgecolor='black')\n",
        "ax[0].set_title('Simplicity-DA')\n",
        "ax[0].set_xlim(-2,2)\n",
        "ax[0].set_xlabel('simplicity_zscore')\n",
        "ax[0].set_ylabel('frequency')\n",
        "\n",
        "ax[1].hist(df_hg_all_grouped['simplicity_zscore'], bins=25, color='b', alpha=0.7,edgecolor='black')\n",
        "ax[1].set_title('Human-Likert')\n",
        "ax[1].set_xlim(-2,2)\n",
        "ax[1].set_xlabel('simplicity_zscore')\n",
        "\n",
        "ax[2].hist(simpda_2022_grouped['simplicity_zscore'], bins=45, color='b', alpha=0.7,edgecolor='black')\n",
        "ax[2].set_title(r'SimpDA${_\\mathrm{2022}}$')\n",
        "ax[2].set_xlim(-2,2)\n",
        "ax[2].set_xlabel('simplicity_zscore')\n",
        "plt.savefig('dist.pdf', format='pdf')"
      ]
    },
    {
      "cell_type": "code",
      "execution_count": null,
      "metadata": {
        "id": "Hfr5pOCpiZRa"
      },
      "outputs": [],
      "source": [
        "smed = simpda_2022_grouped['simplicity_zscore'].median()\n",
        "shind = simpda_2022_grouped['simplicity_zscore'] > smed\n",
        "slind = simpda_2022_grouped['simplicity_zscore'] <= smed\n",
        "fmed = simpda_2022_grouped['fluency_zscore'].median()\n",
        "fhind = simpda_2022_grouped['fluency_zscore'] > fmed\n",
        "flind = simpda_2022_grouped['fluency_zscore'] <= fmed\n",
        "mmed = simpda_2022_grouped['meaning_zscore'].median()\n",
        "mhind = simpda_2022_grouped['meaning_zscore'] > mmed\n",
        "mlind = simpda_2022_grouped['meaning_zscore'] <= mmed\n",
        "fmhind = (simpda_2022_grouped['fluency_zscore'] > fmed) & (simpda_2022_grouped['meaning_zscore'] > mmed)\n",
        "fmlind = (simpda_2022_grouped['fluency_zscore'] <= fmed) & (simpda_2022_grouped['meaning_zscore'] <= mmed)\n",
        "smfhind = (simpda_2022_grouped['simplicity_zscore'] > smed) & (simpda_2022_grouped['fluency_zscore'] > fmed) & (simpda_2022_grouped['meaning_zscore'] > mmed)\n",
        "smflind = (simpda_2022_grouped['simplicity_zscore'] <= smed) & (simpda_2022_grouped['fluency_zscore'] <= fmed) & (simpda_2022_grouped['meaning_zscore'] <= mmed)\n",
        "df_scores_slow = simpda_2022_grouped[slind]\n",
        "df_scores_shigh = simpda_2022_grouped[shind]\n",
        "df_scores_flow = simpda_2022_grouped[flind]\n",
        "df_scores_fhigh = simpda_2022_grouped[fhind]\n",
        "df_scores_mlow = simpda_2022_grouped[mlind]\n",
        "df_scores_mhigh = simpda_2022_grouped[mhind]\n",
        "df_scores_fmlow = simpda_2022_grouped[fmlind]\n",
        "df_scores_fmhigh = simpda_2022_grouped[fmhind]\n",
        "df_scores_sfmlow = simpda_2022_grouped[smflind]\n",
        "df_scores_sfmhigh = simpda_2022_grouped[smfhind]"
      ]
    },
    {
      "cell_type": "code",
      "execution_count": null,
      "metadata": {
        "colab": {
          "base_uri": "https://localhost:8080/"
        },
        "id": "upN-3qFaoQpM",
        "outputId": "df667f74-fdff-4d0e-914d-529d632c0477"
      },
      "outputs": [
        {
          "name": "stdout",
          "output_type": "stream",
          "text": [
            "54\n",
            "53\n"
          ]
        }
      ],
      "source": [
        "print(len(df_scores_sfmhigh['simplicity_zscore']))\n",
        "print(len(df_scores_sfmlow['simplicity_zscore']))"
      ]
    },
    {
      "cell_type": "code",
      "execution_count": null,
      "metadata": {
        "colab": {
          "base_uri": "https://localhost:8080/"
        },
        "id": "BfF8_kX3k1iZ",
        "outputId": "fda4ce19-d69c-4da6-cc17-6abe627f8a9d"
      },
      "outputs": [
        {
          "data": {
            "text/plain": [
              "0.33654609786533507"
            ]
          },
          "execution_count": 14,
          "metadata": {},
          "output_type": "execute_result"
        }
      ],
      "source": [
        "df_scores_sfmhigh['simplicity_zscore'].std()"
      ]
    },
    {
      "cell_type": "code",
      "execution_count": null,
      "metadata": {
        "colab": {
          "base_uri": "https://localhost:8080/"
        },
        "id": "p2Q4Vvfhk_EX",
        "outputId": "6a90140a-c253-448e-8eb6-33e19cc57353"
      },
      "outputs": [
        {
          "data": {
            "text/plain": [
              "0.6549595759874401"
            ]
          },
          "execution_count": 15,
          "metadata": {},
          "output_type": "execute_result"
        }
      ],
      "source": [
        "df_scores_sfmlow['simplicity_zscore'].std()"
      ]
    },
    {
      "cell_type": "code",
      "execution_count": null,
      "metadata": {
        "colab": {
          "base_uri": "https://localhost:8080/"
        },
        "id": "-oxqtE_TlCGy",
        "outputId": "327d9773-3c7a-404f-bec0-77677ed782bf"
      },
      "outputs": [
        {
          "data": {
            "text/plain": [
              "0.6537396386215125"
            ]
          },
          "execution_count": 18,
          "metadata": {},
          "output_type": "execute_result"
        }
      ],
      "source": [
        "df_simplicityDA['simplicity_zscore'].std()"
      ]
    },
    {
      "cell_type": "code",
      "execution_count": null,
      "metadata": {
        "colab": {
          "base_uri": "https://localhost:8080/"
        },
        "id": "0CKLm57VlIe6",
        "outputId": "85ff0cc3-c99f-48b3-9d66-c4f156e3f6cb"
      },
      "outputs": [
        {
          "data": {
            "text/plain": [
              "0.579141939437884"
            ]
          },
          "execution_count": 19,
          "metadata": {},
          "output_type": "execute_result"
        }
      ],
      "source": [
        "df_hg_all_grouped['simplicity_zscore'].std()"
      ]
    },
    {
      "cell_type": "code",
      "execution_count": null,
      "metadata": {
        "colab": {
          "base_uri": "https://localhost:8080/"
        },
        "id": "Ol-0zAPcl09r",
        "outputId": "2d8a98d1-08fc-4d5b-f7ca-7c25cf21eac0"
      },
      "outputs": [
        {
          "data": {
            "text/plain": [
              "0.7652955881986577"
            ]
          },
          "execution_count": 7,
          "metadata": {},
          "output_type": "execute_result"
        }
      ],
      "source": [
        "simpda_2022_grouped['simplicity_zscore'].std()"
      ]
    },
    {
      "cell_type": "code",
      "execution_count": null,
      "metadata": {
        "colab": {
          "base_uri": "https://localhost:8080/"
        },
        "id": "iOyg26uhmnvm",
        "outputId": "da131011-5a61-4dd2-8d08-7568fc4c9bfb"
      },
      "outputs": [
        {
          "data": {
            "text/plain": [
              "0.725618731839063"
            ]
          },
          "execution_count": 9,
          "metadata": {},
          "output_type": "execute_result"
        }
      ],
      "source": [
        "simpda_2022_grouped[(simpda_2022_grouped['simplicity_zscore'] >= -2) & (simpda_2022_grouped['simplicity_zscore'] <= 2)]['simplicity_zscore'].std()"
      ]
    },
    {
      "cell_type": "markdown",
      "metadata": {
        "id": "7YL7kz_-A4BM"
      },
      "source": [
        "## import"
      ]
    },
    {
      "cell_type": "code",
      "execution_count": null,
      "metadata": {
        "id": "TaQxvapcA88M"
      },
      "outputs": [],
      "source": [
        "import numpy as np\n",
        "import pandas as pd\n",
        "#import pingouin as pg\n",
        "from scipy.stats import zscore, spearmanr, pearsonr\n",
        "from tqdm import tqdm\n",
        "import nltk\n",
        "\n",
        "from itertools import combinations\n",
        "import numpy as np\n",
        "import pandas as pd\n",
        "from scipy.stats import zscore, pearsonr, t\n",
        "from scipy.stats.mstats import mquantiles\n",
        "from sklearn.metrics import cohen_kappa_score\n",
        "\n",
        "\n",
        "def _standardise_ratings(df, rater_id_cols, aspect_col):\n",
        "    return df.groupby(rater_id_cols)[aspect_col].transform(lambda x: zscore(x))\n",
        "\n",
        "\n",
        "def _simulate_two_annotators(ratings, num_ratings_annotatorA=1):\n",
        "    ratings_shuffled = np.random.permutation(ratings)\n",
        "    ratingA = np.mean(ratings_shuffled[:num_ratings_annotatorA])\n",
        "    ratingB = np.mean(ratings_shuffled[num_ratings_annotatorA:])\n",
        "    return [ratingA, ratingB]\n",
        "\n",
        "\n",
        "def compute_inter_annotator_agreement(df_ratings, segment_id_cols, rater_id_cols, aspects,\n",
        "                                      n_bins=5, use_quantiles=True, n_simulations=1000):\n",
        "    iaa_per_aspect = {}\n",
        "    for aspect in aspects:\n",
        "        if f\"{aspect}_zscore\" not in df_ratings.columns:\n",
        "            df_ratings[f\"{aspect}_zscore\"] = _standardise_ratings(df_ratings, rater_id_cols, aspect)\n",
        "        df_scores = df_ratings[segment_id_cols + [f'{aspect}_zscore']]\n",
        "        # Bin the data in n_bins\n",
        "        if use_quantiles:  # equally-distributed\n",
        "            _, bins_ranges = pd.qcut(df_scores[f'{aspect}_zscore'], q=n_bins, retbins=True)\n",
        "        else:  # equally-spaced\n",
        "            _, bins_ranges = pd.cut(df_scores[f'{aspect}_zscore'], bins=n_bins, retbins=True)\n",
        "        kappa_values = []\n",
        "        for _ in tqdm(range(n_simulations)):\n",
        "            ratings_simulation = df_scores.groupby(segment_id_cols)[f'{aspect}_zscore'].apply(_simulate_two_annotators).to_list()\n",
        "            raterA, raterB = zip(*ratings_simulation)\n",
        "            kappa_values.append(cohen_kappa_score(np.digitize(raterA, bins_ranges), np.digitize(raterB, bins_ranges), weights='quadratic'))\n",
        "        iaa_per_aspect[aspect] = (np.mean(kappa_values), np.std(kappa_values))\n",
        "    return iaa_per_aspect\n",
        "\n",
        "\n",
        "def compute_segment_scores(df_ratings, segment_id_cols, rater_id_cols, aspects):\n",
        "    scores_cols = []\n",
        "    for aspect in aspects:\n",
        "        df_ratings[f\"{aspect}_zscore\"] = _standardise_ratings(df_ratings, rater_id_cols, aspect)\n",
        "        scores_cols += [aspect, f\"{aspect}_zscore\"]\n",
        "    df_segment_scores = df_ratings.groupby(segment_id_cols)[scores_cols].agg([np.mean])\n",
        "    df_segment_scores.columns = [a for a, _ in df_segment_scores.columns]\n",
        "\n",
        "    return df_segment_scores\n",
        "\n",
        "\n",
        "def _select_pairs_in_group(group, min_score_difference=25):\n",
        "    data = []\n",
        "    for (system_a, score_a, zscore_a), (system_b, score_b, zscore_b) in combinations(group.values, 2):\n",
        "        # select the pair if its absolute difference in DA scores is greater than 25\n",
        "        if abs(score_a - score_b) > min_score_difference:\n",
        "            data.append([system_a, score_a, zscore_a, system_b, score_b, zscore_b])\n",
        "    df_selected_pairs = pd.DataFrame(data,\n",
        "                                     columns=['system_a', \"score_a\", \"zscore_a\", \"system_b\", \"score_b\", \"zscore_b\"])\n",
        "    return df_selected_pairs\n",
        "\n",
        "\n",
        "def select_segment_pairs(df_human_scores, aspect, sentence_id_cols, system_id_cols):\n",
        "    df_scores = df_human_scores.reset_index()\n",
        "    cols_of_interest = system_id_cols + [aspect, f\"{aspect}_zscore\"]\n",
        "    selected_pairs = (df_scores.groupby(sentence_id_cols)[cols_of_interest].apply(_select_pairs_in_group)\n",
        "                                .reset_index(level=1, drop=True)\n",
        "                                .reset_index())\n",
        "    return selected_pairs\n",
        "\n",
        "\n",
        "def compute_relative_ranking_correlations(df_human_scores, df_metrics_scores, aspect, segment_id_cols,\n",
        "                                           use_absolute_values=True):\n",
        "    df_da_scores = df_human_scores.reset_index()\n",
        "    cols_of_interest = segment_id_cols + [aspect, f\"{aspect}_zscore\"]\n",
        "    df_da_scores = df_da_scores[cols_of_interest]\n",
        "    df_all_scores = pd.merge(left=df_metrics_scores, right=df_da_scores, on=segment_id_cols)\n",
        "\n",
        "    # Compute correlations metrics vs human scores\n",
        "    print(\"Computing correlations...\")\n",
        "    metrics_names = [col for col in df_metrics_scores.columns if col not in segment_id_cols]\n",
        "    correlations_data = []\n",
        "    for metric in metrics_names:\n",
        "        corr, p_value = spearmanr(df_all_scores[metric], df_all_scores[f'{aspect}_zscore'])\n",
        "        if use_absolute_values:\n",
        "            corr = abs(corr)\n",
        "        correlations_data.append([metric, corr, p_value])\n",
        "    df_correlations_metrics_human = pd.DataFrame(correlations_data, columns=['metric', 'corr', 'p_value'])\n",
        "    df_correlations_metrics_human.sort_values(by=['corr'], ascending=False, inplace=True, ignore_index=True)\n",
        "\n",
        "    # Compute correlations metrics vs metrics\n",
        "    metrics_names = df_correlations_metrics_human['metric'].to_list()\n",
        "    correlations_data = []\n",
        "    for _, (metric_a, corr_metric_a, _) in df_correlations_metrics_human.iterrows():\n",
        "        for _, (metric_b, corr_metric_b, _) in df_correlations_metrics_human.iterrows():\n",
        "            corr_a_b, pvalue_a_b = pearsonr(df_all_scores[metric_a], df_all_scores[metric_b])\n",
        "            if use_absolute_values:\n",
        "                corr_a_b = abs(corr_a_b)\n",
        "            correlations_data.append([metric_a, corr_metric_a,\n",
        "                                      metric_b, corr_metric_b,\n",
        "                                      corr_a_b, pvalue_a_b])\n",
        "    df_correlations_metric_metric = pd.DataFrame(correlations_data,\n",
        "                                                 columns=['metric_a', 'corr_metric_a',\n",
        "                                                          'metric_b', 'corr_metric_b',\n",
        "                                                          'corr_a_b', 'pvalue_a_b'])\n",
        "\n",
        "    # Determine if the difference in performance is significant\n",
        "    print(\"Determining if the difference in performance is significant...\")\n",
        "    significance_matrix = []\n",
        "    winner_status = []\n",
        "    for metric_a in metrics_names:\n",
        "        df_correlations = df_correlations_metric_metric[df_correlations_metric_metric['metric_a'] == metric_a]\n",
        "        is_winner = True\n",
        "        significance_row = []\n",
        "        for _, (_, corr_metric_a, metric_b, corr_metric_b, corr_a_b, _) in df_correlations.iterrows():\n",
        "            p = np.nan\n",
        "            if (metric_a != metric_b) and (corr_metric_a > corr_metric_b):\n",
        "                _, p = williams_test(corr_metric_a, corr_metric_b, corr_a_b, len(df_human_scores))\n",
        "            is_diff_stats_significant = p < 0.05\n",
        "            if not is_diff_stats_significant:\n",
        "                # we do not care about the exact values in cases where it's not significant\n",
        "                p = np.nan\n",
        "            significance_row.append(p)\n",
        "            # Update winner status (not significantly outperformed by any other metric)\n",
        "            if metric_a != metric_b:\n",
        "                is_winner = is_winner and is_diff_stats_significant\n",
        "        significance_matrix.append(significance_row)\n",
        "        winner_status.append(is_winner)\n",
        "    df_correlations_metrics_human['is_winner'] = winner_status\n",
        "    df_significance = pd.DataFrame(np.array(significance_matrix), columns=metrics_names, index=metrics_names)\n",
        "\n",
        "    return df_correlations_metrics_human, df_significance\n",
        "\n",
        "def kendall_tau_wmt(df_scores):\n",
        "    concordant = 0\n",
        "    discordant = 0\n",
        "    for _, (score_a, score_b, metric_a, metric_b) in df_scores.iterrows():\n",
        "        if score_a < score_b:\n",
        "            if metric_a < metric_b:\n",
        "                concordant += 1\n",
        "            else:\n",
        "                discordant += 1\n",
        "        elif score_a > score_b:\n",
        "            if metric_a <= metric_b:\n",
        "                discordant += 1\n",
        "            else:\n",
        "                concordant += 1\n",
        "\n",
        "    return (abs(concordant) - abs(discordant)) / (abs(concordant) + abs(discordant))\n",
        "\n",
        "\n",
        "def compute_direct_assessment_correlations(df_human_scores, df_metrics_scores, aspect, segment_id_cols,\n",
        "                                           use_absolute_values=True):\n",
        "    df_da_scores = df_human_scores.reset_index()\n",
        "    cols_of_interest = segment_id_cols + [aspect, f\"{aspect}_zscore\"]\n",
        "    df_da_scores = df_da_scores[cols_of_interest]\n",
        "    df_all_scores = pd.merge(left=df_metrics_scores, right=df_da_scores, on=segment_id_cols)\n",
        "\n",
        "    # Compute correlations metrics vs human scores\n",
        "    print(\"Computing correlations...\")\n",
        "    metrics_names = [col for col in df_metrics_scores.columns if col not in segment_id_cols]\n",
        "    correlations_data = []\n",
        "    for metric in metrics_names:\n",
        "        corr, p_value = pearsonr(df_all_scores[metric], df_all_scores[f'{aspect}_zscore'])\n",
        "        if use_absolute_values:\n",
        "            corr = abs(corr)\n",
        "        correlations_data.append([metric, corr, p_value])\n",
        "    df_correlations_metrics_human = pd.DataFrame(correlations_data, columns=['metric', 'corr', 'p_value'])\n",
        "    df_correlations_metrics_human.sort_values(by=['corr'], ascending=False, inplace=True, ignore_index=True)\n",
        "\n",
        "    # Compute correlations metrics vs metrics\n",
        "    metrics_names = df_correlations_metrics_human['metric'].to_list()\n",
        "    correlations_data = []\n",
        "    for _, (metric_a, corr_metric_a, _) in df_correlations_metrics_human.iterrows():\n",
        "        for _, (metric_b, corr_metric_b, _) in df_correlations_metrics_human.iterrows():\n",
        "            corr_a_b, pvalue_a_b = pearsonr(df_all_scores[metric_a], df_all_scores[metric_b])\n",
        "            if use_absolute_values:\n",
        "                corr_a_b = abs(corr_a_b)\n",
        "            correlations_data.append([metric_a, corr_metric_a,\n",
        "                                      metric_b, corr_metric_b,\n",
        "                                      corr_a_b, pvalue_a_b])\n",
        "    df_correlations_metric_metric = pd.DataFrame(correlations_data,\n",
        "                                                 columns=['metric_a', 'corr_metric_a',\n",
        "                                                          'metric_b', 'corr_metric_b',\n",
        "                                                          'corr_a_b', 'pvalue_a_b'])\n",
        "\n",
        "    # Determine if the difference in performance is significant\n",
        "    print(\"Determining if the difference in performance is significant...\")\n",
        "    significance_matrix = []\n",
        "    winner_status = []\n",
        "    for metric_a in metrics_names:\n",
        "        df_correlations = df_correlations_metric_metric[df_correlations_metric_metric['metric_a'] == metric_a]\n",
        "        is_winner = True\n",
        "        significance_row = []\n",
        "        for _, (_, corr_metric_a, metric_b, corr_metric_b, corr_a_b, _) in df_correlations.iterrows():\n",
        "            p = np.nan\n",
        "            if (metric_a != metric_b) and (corr_metric_a > corr_metric_b):\n",
        "                _, p = williams_test(corr_metric_a, corr_metric_b, corr_a_b, len(df_human_scores))\n",
        "            is_diff_stats_significant = p < 0.05\n",
        "            if not is_diff_stats_significant:\n",
        "                # we do not care about the exact values in cases where it's not significant\n",
        "                p = np.nan\n",
        "            significance_row.append(p)\n",
        "            # Update winner status (not significantly outperformed by any other metric)\n",
        "            if metric_a != metric_b:\n",
        "                is_winner = is_winner and is_diff_stats_significant\n",
        "        significance_matrix.append(significance_row)\n",
        "        winner_status.append(is_winner)\n",
        "    df_correlations_metrics_human['is_winner'] = winner_status\n",
        "    df_significance = pd.DataFrame(np.array(significance_matrix), columns=metrics_names, index=metrics_names)\n",
        "\n",
        "    return df_correlations_metrics_human, df_significance\n",
        "\n",
        "\n",
        "# From https://github.com/inmoonlight/nlp-williams/blob/master/williams.py\n",
        "def williams_test(r12, r13, r23, n):\n",
        "    \"\"\"The Williams test (Evan J. Williams. 1959. Regression Analysis, volume 14. Wiley, New York, USA)\n",
        "    A test of whether the population correlation r12 equals the population correlation r13.\n",
        "    Significant: p < 0.05\n",
        "    Arguments:\n",
        "        r12 (float): correlation between x1, x2\n",
        "        r13 (float): correlation between x1, x3\n",
        "        r23 (float): correlation between x2, x3\n",
        "        n (int): size of the population\n",
        "    Returns:\n",
        "        t (float): Williams test result\n",
        "        p (float): p-value of t-dist\n",
        "    \"\"\"\n",
        "    assert (r12 >= r13), \"r12 should be larger than r13\"\n",
        "    assert (n > 3), \"n should be larger than 3\"\n",
        "\n",
        "    K = 1 - r12 ** 2 - r13 ** 2 - r23 ** 2 + 2 * r12 * r13 * r23\n",
        "    denominator = np.sqrt(\n",
        "        2 * K * (n - 1) / (n - 3) + (((r12 + r13) ** 2) / 4) * ((1 - r23) ** 3)\n",
        "    )\n",
        "    numerator = (r12 - r13) * np.sqrt((n - 1) * (1 + r23))\n",
        "    p = 1 - t.cdf(numerator / denominator, df=n - 3)  # changed to n-3 on 30/11/14\n",
        "    return t, p\n",
        "\n"
      ]
    },
    {
      "cell_type": "code",
      "execution_count": null,
      "metadata": {
        "id": "qPW2DohVBXDl"
      },
      "outputs": [],
      "source": [
        "def compute_direct_correlations(df_benchmark, df_segment_metrics, aspects, test_sets, segment_id_cols):\n",
        "    results = {}\n",
        "    for aspect in aspects:\n",
        "        smed = df_benchmark['simplicity_zscore'].median()\n",
        "        shind = df_benchmark['simplicity_zscore'] > smed\n",
        "        slind = df_benchmark['simplicity_zscore'] <= smed\n",
        "        fmed = df_benchmark['fluency_zscore'].median()\n",
        "        fhind = df_benchmark['fluency_zscore'] > fmed\n",
        "        flind = df_benchmark['fluency_zscore'] <= fmed\n",
        "        mmed = df_benchmark['meaning_zscore'].median()\n",
        "        mhind = df_benchmark['meaning_zscore'] > mmed\n",
        "        mlind = df_benchmark['meaning_zscore'] <= mmed\n",
        "        fmhind = (df_benchmark['fluency_zscore'] > fmed) & (df_benchmark['meaning_zscore'] > mmed)\n",
        "        fmlind = (df_benchmark['fluency_zscore'] <= fmed) & (df_benchmark['meaning_zscore'] <= mmed)\n",
        "        smfhind = (df_benchmark['simplicity_zscore'] > smed) & (df_benchmark['fluency_zscore'] > fmed) & (df_benchmark['meaning_zscore'] > mmed)\n",
        "        smflind = (df_benchmark['simplicity_zscore'] <= smed) & (df_benchmark['fluency_zscore'] <= fmed) & (df_benchmark['meaning_zscore'] <= mmed)\n",
        "        df_scores_slow = df_benchmark[slind]\n",
        "        df_scores_shigh = df_benchmark[shind]\n",
        "        df_scores_flow = df_benchmark[flind]\n",
        "        df_scores_fhigh = df_benchmark[fhind]\n",
        "        df_scores_mlow = df_benchmark[mlind]\n",
        "        df_scores_mhigh = df_benchmark[mhind]\n",
        "        df_scores_fmlow = df_benchmark[fmlind]\n",
        "        df_scores_fmhigh = df_benchmark[fmhind]\n",
        "        df_scores_sfmlow = df_benchmark[smflind]\n",
        "        df_scores_sfmhigh = df_benchmark[smfhind]\n",
        "\n",
        "        print(f\"{aspect}: simp_high ({len(df_scores_shigh)}) - simp_low ({len(df_scores_slow)}) - flu_low ({len(df_scores_flow)}) - flu_high ({len(df_scores_fhigh)}) - mean_low ({len(df_scores_mlow)}) - mean_high ({len(df_scores_mhigh)}) - fm_low ({len(df_scores_fmlow)}) - fm_high ({len(df_scores_fmhigh)}) - sfm_low ({len(df_scores_sfmlow)}) - sfm_high ({len(df_scores_sfmhigh)}) - All ({len(df_benchmark)})\")\n",
        "        for quality, df_scores in {'simp_low': df_scores_slow, 'simp_high': df_scores_shigh, 'flu_low': df_scores_flow, 'flu_high': df_scores_fhigh, 'mean_low': df_scores_mlow, 'mean_high': df_scores_mhigh, 'fm_low': df_scores_fmlow, 'fm_high': df_scores_fmhigh, 'sfm_low': df_scores_sfmlow, 'sfm_high': df_scores_sfmhigh, 'all': df_benchmark}.items():\n",
        "            for test_set in test_sets:\n",
        "                print(f\"Computing for {quality} scores - {test_set} references\")\n",
        "                df_metrics = df_segment_metrics[df_segment_metrics.test_set==test_set].drop(columns=['test_set'])\n",
        "                results[(quality, aspect, test_set)] = compute_direct_assessment_correlations(\n",
        "                    df_scores,\n",
        "                    df_metrics,\n",
        "                    aspect,\n",
        "                    segment_id_cols=segment_id_cols,\n",
        "                    use_absolute_values=False\n",
        "                )\n",
        "                print()\n",
        "    return results"
      ]
    },
    {
      "cell_type": "code",
      "execution_count": null,
      "metadata": {
        "id": "sWCCNNUOBhKT"
      },
      "outputs": [],
      "source": [
        "def compute_ranking_correlations(df_benchmark, df_segment_metrics, aspects, test_sets, segment_id_cols):\n",
        "    results = {}\n",
        "    for aspect in aspects:\n",
        "        smed = df_benchmark['simplicity_zscore'].median()\n",
        "        shind = df_benchmark['simplicity_zscore'] > smed\n",
        "        slind = df_benchmark['simplicity_zscore'] <= smed\n",
        "        fmed = df_benchmark['fluency_zscore'].median()\n",
        "        fhind = df_benchmark['fluency_zscore'] > fmed\n",
        "        flind = df_benchmark['fluency_zscore'] <= fmed\n",
        "        mmed = df_benchmark['meaning_zscore'].median()\n",
        "        mhind = df_benchmark['meaning_zscore'] > mmed\n",
        "        mlind = df_benchmark['meaning_zscore'] <= mmed\n",
        "        fmhind = (df_benchmark['fluency_zscore'] > fmed) & (df_benchmark['meaning_zscore'] > mmed)\n",
        "        fmlind = (df_benchmark['fluency_zscore'] <= fmed) & (df_benchmark['meaning_zscore'] <= mmed)\n",
        "        smfhind = (df_benchmark['simplicity_zscore'] > smed) & (df_benchmark['fluency_zscore'] > fmed) & (df_benchmark['meaning_zscore'] > mmed)\n",
        "        smflind = (df_benchmark['simplicity_zscore'] <= smed) & (df_benchmark['fluency_zscore'] <= fmed) & (df_benchmark['meaning_zscore'] <= mmed)\n",
        "        df_scores_slow = df_benchmark[slind]\n",
        "        df_scores_shigh = df_benchmark[shind]\n",
        "        df_scores_flow = df_benchmark[flind]\n",
        "        df_scores_fhigh = df_benchmark[fhind]\n",
        "        df_scores_mlow = df_benchmark[mlind]\n",
        "        df_scores_mhigh = df_benchmark[mhind]\n",
        "        df_scores_fmlow = df_benchmark[fmlind]\n",
        "        df_scores_fmhigh = df_benchmark[fmhind]\n",
        "        df_scores_sfmlow = df_benchmark[smflind]\n",
        "        df_scores_sfmhigh = df_benchmark[smfhind]\n",
        "\n",
        "        print(f\"{aspect}: simp_high ({len(df_scores_shigh)}) - simp_low ({len(df_scores_slow)}) - flu_low ({len(df_scores_flow)}) - flu_high ({len(df_scores_fhigh)}) - mean_low ({len(df_scores_mlow)}) - mean_high ({len(df_scores_mhigh)}) - fm_low ({len(df_scores_fmlow)}) - fm_high ({len(df_scores_fmhigh)}) - sfm_low ({len(df_scores_sfmlow)}) - sfm_high ({len(df_scores_sfmhigh)}) - All ({len(df_benchmark)})\")\n",
        "        for quality, df_scores in {'simp_low': df_scores_slow, 'simp_high': df_scores_shigh, 'flu_low': df_scores_flow, 'flu_high': df_scores_fhigh, 'mean_low': df_scores_mlow, 'mean_high': df_scores_mhigh, 'fm_low': df_scores_fmlow, 'fm_high': df_scores_fmhigh, 'sfm_low': df_scores_sfmlow, 'sfm_high': df_scores_sfmhigh, 'all': df_benchmark}.items():\n",
        "            for test_set in test_sets:\n",
        "                print(f\"Computing for {quality} scores - {test_set} references\")\n",
        "                df_metrics = df_segment_metrics[df_segment_metrics.test_set==test_set].drop(columns=['test_set'])\n",
        "                results[(quality, aspect, test_set)] = compute_relative_ranking_correlations(\n",
        "                    df_human_scores=df_scores,\n",
        "                    df_metrics_scores=df_metrics,\n",
        "                    aspect=aspect,\n",
        "                    segment_id_cols=segment_id_cols,\n",
        "                    #sentence_id_cols=['sent_id'],\n",
        "                    #system_id_cols=['sys_name'],\n",
        "                    use_absolute_values=False,\n",
        "                )\n",
        "                print()\n",
        "    return results"
      ]
    },
    {
      "cell_type": "markdown",
      "metadata": {
        "id": "E36psI_VEulr"
      },
      "source": [
        "## filtering for silver"
      ]
    },
    {
      "cell_type": "code",
      "execution_count": null,
      "metadata": {
        "id": "o7Pf7oiDFbkB"
      },
      "outputs": [],
      "source": [
        "df_metrics_segment_silver = df_metrics_segment[df_metrics_segment.index.isin(df_simplicityDA_silver.index)].copy()"
      ]
    },
    {
      "cell_type": "markdown",
      "metadata": {
        "id": "vPA5-EGuEORx"
      },
      "source": [
        "## direct assessment"
      ]
    },
    {
      "cell_type": "code",
      "execution_count": null,
      "metadata": {
        "colab": {
          "base_uri": "https://localhost:8080/"
        },
        "id": "8x1_4tbSES_O",
        "outputId": "c088923e-cd77-4af8-ea6c-e59959b53f0e"
      },
      "outputs": [
        {
          "name": "stdout",
          "output_type": "stream",
          "text": [
            "simplicity: simp_high (60) - simp_low (60) - flu_low (60) - flu_high (60) - mean_low (60) - mean_high (60) - fm_low (43) - fm_high (43) - sfm_low (40) - sfm_high (36) - All (120)\n",
            "Computing for simp_low scores - asset references\n",
            "Computing correlations...\n",
            "Determining if the difference in performance is significant...\n",
            "\n",
            "Computing for simp_high scores - asset references\n",
            "Computing correlations...\n",
            "Determining if the difference in performance is significant...\n",
            "\n",
            "Computing for flu_low scores - asset references\n",
            "Computing correlations...\n",
            "Determining if the difference in performance is significant...\n",
            "\n",
            "Computing for flu_high scores - asset references\n",
            "Computing correlations...\n",
            "Determining if the difference in performance is significant...\n",
            "\n",
            "Computing for mean_low scores - asset references\n",
            "Computing correlations...\n",
            "Determining if the difference in performance is significant...\n",
            "\n",
            "Computing for mean_high scores - asset references\n",
            "Computing correlations...\n",
            "Determining if the difference in performance is significant...\n",
            "\n",
            "Computing for fm_low scores - asset references\n",
            "Computing correlations...\n",
            "Determining if the difference in performance is significant...\n",
            "\n",
            "Computing for fm_high scores - asset references\n",
            "Computing correlations...\n",
            "Determining if the difference in performance is significant...\n",
            "\n",
            "Computing for sfm_low scores - asset references\n",
            "Computing correlations...\n",
            "Determining if the difference in performance is significant...\n",
            "\n",
            "Computing for sfm_high scores - asset references\n",
            "Computing correlations...\n",
            "Determining if the difference in performance is significant...\n",
            "\n",
            "Computing for all scores - asset references\n",
            "Computing correlations...\n",
            "Determining if the difference in performance is significant...\n",
            "\n"
          ]
        }
      ],
      "source": [
        "results_simplicity = compute_direct_correlations(\n",
        "                        df_simplicityDA_silver,\n",
        "                        df_metrics_segment_silver,\n",
        "                        aspects=['simplicity'],\n",
        "                        test_sets=['asset'],\n",
        "                        segment_id_cols=['sent_id','sys_name']\n",
        "                    )"
      ]
    },
    {
      "cell_type": "code",
      "execution_count": null,
      "metadata": {
        "colab": {
          "base_uri": "https://localhost:8080/",
          "height": 520
        },
        "id": "XJClQ2f_Ek-N",
        "outputId": "218f41b3-b386-4dfa-daa9-393508eb57e5"
      },
      "outputs": [
        {
          "data": {
            "text/html": [
              "\n",
              "  <div id=\"df-5692e357-a115-4d32-8034-8b8fbb3b4eec\" class=\"colab-df-container\">\n",
              "    <div>\n",
              "<style scoped>\n",
              "    .dataframe tbody tr th:only-of-type {\n",
              "        vertical-align: middle;\n",
              "    }\n",
              "\n",
              "    .dataframe tbody tr th {\n",
              "        vertical-align: top;\n",
              "    }\n",
              "\n",
              "    .dataframe thead th {\n",
              "        text-align: right;\n",
              "    }\n",
              "</style>\n",
              "<table border=\"1\" class=\"dataframe\">\n",
              "  <thead>\n",
              "    <tr style=\"text-align: right;\">\n",
              "      <th></th>\n",
              "      <th>metric</th>\n",
              "      <th>corr</th>\n",
              "      <th>p_value</th>\n",
              "      <th>is_winner</th>\n",
              "    </tr>\n",
              "  </thead>\n",
              "  <tbody>\n",
              "    <tr>\n",
              "      <th>0</th>\n",
              "      <td>bertscore_P</td>\n",
              "      <td>0.602371</td>\n",
              "      <td>3.383133e-13</td>\n",
              "      <td>False</td>\n",
              "    </tr>\n",
              "    <tr>\n",
              "      <th>1</th>\n",
              "      <td>ibleu</td>\n",
              "      <td>0.590120</td>\n",
              "      <td>1.314378e-12</td>\n",
              "      <td>False</td>\n",
              "    </tr>\n",
              "    <tr>\n",
              "      <th>2</th>\n",
              "      <td>bertscore_F1</td>\n",
              "      <td>0.578175</td>\n",
              "      <td>4.677745e-12</td>\n",
              "      <td>False</td>\n",
              "    </tr>\n",
              "    <tr>\n",
              "      <th>3</th>\n",
              "      <td>bleu</td>\n",
              "      <td>0.573060</td>\n",
              "      <td>7.931885e-12</td>\n",
              "      <td>False</td>\n",
              "    </tr>\n",
              "    <tr>\n",
              "      <th>4</th>\n",
              "      <td>amean_bleu_sari</td>\n",
              "      <td>0.551529</td>\n",
              "      <td>6.649026e-11</td>\n",
              "      <td>False</td>\n",
              "    </tr>\n",
              "    <tr>\n",
              "      <th>5</th>\n",
              "      <td>gmean_bleu_sari</td>\n",
              "      <td>0.542583</td>\n",
              "      <td>1.539681e-10</td>\n",
              "      <td>False</td>\n",
              "    </tr>\n",
              "    <tr>\n",
              "      <th>6</th>\n",
              "      <td>bertscore_R</td>\n",
              "      <td>0.507837</td>\n",
              "      <td>3.212305e-09</td>\n",
              "      <td>False</td>\n",
              "    </tr>\n",
              "    <tr>\n",
              "      <th>7</th>\n",
              "      <td>amean_bleu_samsa</td>\n",
              "      <td>0.403936</td>\n",
              "      <td>4.760168e-06</td>\n",
              "      <td>False</td>\n",
              "    </tr>\n",
              "    <tr>\n",
              "      <th>8</th>\n",
              "      <td>sari</td>\n",
              "      <td>0.324126</td>\n",
              "      <td>3.044754e-04</td>\n",
              "      <td>False</td>\n",
              "    </tr>\n",
              "    <tr>\n",
              "      <th>9</th>\n",
              "      <td>gmean_bleu_samsa</td>\n",
              "      <td>0.315129</td>\n",
              "      <td>4.554222e-04</td>\n",
              "      <td>False</td>\n",
              "    </tr>\n",
              "    <tr>\n",
              "      <th>10</th>\n",
              "      <td>gmean_sari_samsa</td>\n",
              "      <td>0.227631</td>\n",
              "      <td>1.240572e-02</td>\n",
              "      <td>False</td>\n",
              "    </tr>\n",
              "    <tr>\n",
              "      <th>11</th>\n",
              "      <td>amean_sari_samsa</td>\n",
              "      <td>0.177472</td>\n",
              "      <td>5.247886e-02</td>\n",
              "      <td>False</td>\n",
              "    </tr>\n",
              "    <tr>\n",
              "      <th>12</th>\n",
              "      <td>fkbleu</td>\n",
              "      <td>0.169336</td>\n",
              "      <td>6.446615e-02</td>\n",
              "      <td>False</td>\n",
              "    </tr>\n",
              "    <tr>\n",
              "      <th>13</th>\n",
              "      <td>samsa</td>\n",
              "      <td>0.078869</td>\n",
              "      <td>3.918541e-01</td>\n",
              "      <td>False</td>\n",
              "    </tr>\n",
              "    <tr>\n",
              "      <th>14</th>\n",
              "      <td>fkgl</td>\n",
              "      <td>0.076786</td>\n",
              "      <td>4.045225e-01</td>\n",
              "      <td>False</td>\n",
              "    </tr>\n",
              "  </tbody>\n",
              "</table>\n",
              "</div>\n",
              "    <div class=\"colab-df-buttons\">\n",
              "\n",
              "  <div class=\"colab-df-container\">\n",
              "    <button class=\"colab-df-convert\" onclick=\"convertToInteractive('df-5692e357-a115-4d32-8034-8b8fbb3b4eec')\"\n",
              "            title=\"Convert this dataframe to an interactive table.\"\n",
              "            style=\"display:none;\">\n",
              "\n",
              "  <svg xmlns=\"http://www.w3.org/2000/svg\" height=\"24px\" viewBox=\"0 -960 960 960\">\n",
              "    <path d=\"M120-120v-720h720v720H120Zm60-500h600v-160H180v160Zm220 220h160v-160H400v160Zm0 220h160v-160H400v160ZM180-400h160v-160H180v160Zm440 0h160v-160H620v160ZM180-180h160v-160H180v160Zm440 0h160v-160H620v160Z\"/>\n",
              "  </svg>\n",
              "    </button>\n",
              "\n",
              "  <style>\n",
              "    .colab-df-container {\n",
              "      display:flex;\n",
              "      gap: 12px;\n",
              "    }\n",
              "\n",
              "    .colab-df-convert {\n",
              "      background-color: #E8F0FE;\n",
              "      border: none;\n",
              "      border-radius: 50%;\n",
              "      cursor: pointer;\n",
              "      display: none;\n",
              "      fill: #1967D2;\n",
              "      height: 32px;\n",
              "      padding: 0 0 0 0;\n",
              "      width: 32px;\n",
              "    }\n",
              "\n",
              "    .colab-df-convert:hover {\n",
              "      background-color: #E2EBFA;\n",
              "      box-shadow: 0px 1px 2px rgba(60, 64, 67, 0.3), 0px 1px 3px 1px rgba(60, 64, 67, 0.15);\n",
              "      fill: #174EA6;\n",
              "    }\n",
              "\n",
              "    .colab-df-buttons div {\n",
              "      margin-bottom: 4px;\n",
              "    }\n",
              "\n",
              "    [theme=dark] .colab-df-convert {\n",
              "      background-color: #3B4455;\n",
              "      fill: #D2E3FC;\n",
              "    }\n",
              "\n",
              "    [theme=dark] .colab-df-convert:hover {\n",
              "      background-color: #434B5C;\n",
              "      box-shadow: 0px 1px 3px 1px rgba(0, 0, 0, 0.15);\n",
              "      filter: drop-shadow(0px 1px 2px rgba(0, 0, 0, 0.3));\n",
              "      fill: #FFFFFF;\n",
              "    }\n",
              "  </style>\n",
              "\n",
              "    <script>\n",
              "      const buttonEl =\n",
              "        document.querySelector('#df-5692e357-a115-4d32-8034-8b8fbb3b4eec button.colab-df-convert');\n",
              "      buttonEl.style.display =\n",
              "        google.colab.kernel.accessAllowed ? 'block' : 'none';\n",
              "\n",
              "      async function convertToInteractive(key) {\n",
              "        const element = document.querySelector('#df-5692e357-a115-4d32-8034-8b8fbb3b4eec');\n",
              "        const dataTable =\n",
              "          await google.colab.kernel.invokeFunction('convertToInteractive',\n",
              "                                                    [key], {});\n",
              "        if (!dataTable) return;\n",
              "\n",
              "        const docLinkHtml = 'Like what you see? Visit the ' +\n",
              "          '<a target=\"_blank\" href=https://colab.research.google.com/notebooks/data_table.ipynb>data table notebook</a>'\n",
              "          + ' to learn more about interactive tables.';\n",
              "        element.innerHTML = '';\n",
              "        dataTable['output_type'] = 'display_data';\n",
              "        await google.colab.output.renderOutput(dataTable, element);\n",
              "        const docLink = document.createElement('div');\n",
              "        docLink.innerHTML = docLinkHtml;\n",
              "        element.appendChild(docLink);\n",
              "      }\n",
              "    </script>\n",
              "  </div>\n",
              "\n",
              "\n",
              "<div id=\"df-e18ef1e1-3e02-4ccf-a787-faadf74f62fd\">\n",
              "  <button class=\"colab-df-quickchart\" onclick=\"quickchart('df-e18ef1e1-3e02-4ccf-a787-faadf74f62fd')\"\n",
              "            title=\"Suggest charts.\"\n",
              "            style=\"display:none;\">\n",
              "\n",
              "<svg xmlns=\"http://www.w3.org/2000/svg\" height=\"24px\"viewBox=\"0 0 24 24\"\n",
              "     width=\"24px\">\n",
              "    <g>\n",
              "        <path d=\"M19 3H5c-1.1 0-2 .9-2 2v14c0 1.1.9 2 2 2h14c1.1 0 2-.9 2-2V5c0-1.1-.9-2-2-2zM9 17H7v-7h2v7zm4 0h-2V7h2v10zm4 0h-2v-4h2v4z\"/>\n",
              "    </g>\n",
              "</svg>\n",
              "  </button>\n",
              "\n",
              "<style>\n",
              "  .colab-df-quickchart {\n",
              "      --bg-color: #E8F0FE;\n",
              "      --fill-color: #1967D2;\n",
              "      --hover-bg-color: #E2EBFA;\n",
              "      --hover-fill-color: #174EA6;\n",
              "      --disabled-fill-color: #AAA;\n",
              "      --disabled-bg-color: #DDD;\n",
              "  }\n",
              "\n",
              "  [theme=dark] .colab-df-quickchart {\n",
              "      --bg-color: #3B4455;\n",
              "      --fill-color: #D2E3FC;\n",
              "      --hover-bg-color: #434B5C;\n",
              "      --hover-fill-color: #FFFFFF;\n",
              "      --disabled-bg-color: #3B4455;\n",
              "      --disabled-fill-color: #666;\n",
              "  }\n",
              "\n",
              "  .colab-df-quickchart {\n",
              "    background-color: var(--bg-color);\n",
              "    border: none;\n",
              "    border-radius: 50%;\n",
              "    cursor: pointer;\n",
              "    display: none;\n",
              "    fill: var(--fill-color);\n",
              "    height: 32px;\n",
              "    padding: 0;\n",
              "    width: 32px;\n",
              "  }\n",
              "\n",
              "  .colab-df-quickchart:hover {\n",
              "    background-color: var(--hover-bg-color);\n",
              "    box-shadow: 0 1px 2px rgba(60, 64, 67, 0.3), 0 1px 3px 1px rgba(60, 64, 67, 0.15);\n",
              "    fill: var(--button-hover-fill-color);\n",
              "  }\n",
              "\n",
              "  .colab-df-quickchart-complete:disabled,\n",
              "  .colab-df-quickchart-complete:disabled:hover {\n",
              "    background-color: var(--disabled-bg-color);\n",
              "    fill: var(--disabled-fill-color);\n",
              "    box-shadow: none;\n",
              "  }\n",
              "\n",
              "  .colab-df-spinner {\n",
              "    border: 2px solid var(--fill-color);\n",
              "    border-color: transparent;\n",
              "    border-bottom-color: var(--fill-color);\n",
              "    animation:\n",
              "      spin 1s steps(1) infinite;\n",
              "  }\n",
              "\n",
              "  @keyframes spin {\n",
              "    0% {\n",
              "      border-color: transparent;\n",
              "      border-bottom-color: var(--fill-color);\n",
              "      border-left-color: var(--fill-color);\n",
              "    }\n",
              "    20% {\n",
              "      border-color: transparent;\n",
              "      border-left-color: var(--fill-color);\n",
              "      border-top-color: var(--fill-color);\n",
              "    }\n",
              "    30% {\n",
              "      border-color: transparent;\n",
              "      border-left-color: var(--fill-color);\n",
              "      border-top-color: var(--fill-color);\n",
              "      border-right-color: var(--fill-color);\n",
              "    }\n",
              "    40% {\n",
              "      border-color: transparent;\n",
              "      border-right-color: var(--fill-color);\n",
              "      border-top-color: var(--fill-color);\n",
              "    }\n",
              "    60% {\n",
              "      border-color: transparent;\n",
              "      border-right-color: var(--fill-color);\n",
              "    }\n",
              "    80% {\n",
              "      border-color: transparent;\n",
              "      border-right-color: var(--fill-color);\n",
              "      border-bottom-color: var(--fill-color);\n",
              "    }\n",
              "    90% {\n",
              "      border-color: transparent;\n",
              "      border-bottom-color: var(--fill-color);\n",
              "    }\n",
              "  }\n",
              "</style>\n",
              "\n",
              "  <script>\n",
              "    async function quickchart(key) {\n",
              "      const quickchartButtonEl =\n",
              "        document.querySelector('#' + key + ' button');\n",
              "      quickchartButtonEl.disabled = true;  // To prevent multiple clicks.\n",
              "      quickchartButtonEl.classList.add('colab-df-spinner');\n",
              "      try {\n",
              "        const charts = await google.colab.kernel.invokeFunction(\n",
              "            'suggestCharts', [key], {});\n",
              "      } catch (error) {\n",
              "        console.error('Error during call to suggestCharts:', error);\n",
              "      }\n",
              "      quickchartButtonEl.classList.remove('colab-df-spinner');\n",
              "      quickchartButtonEl.classList.add('colab-df-quickchart-complete');\n",
              "    }\n",
              "    (() => {\n",
              "      let quickchartButtonEl =\n",
              "        document.querySelector('#df-e18ef1e1-3e02-4ccf-a787-faadf74f62fd button');\n",
              "      quickchartButtonEl.style.display =\n",
              "        google.colab.kernel.accessAllowed ? 'block' : 'none';\n",
              "    })();\n",
              "  </script>\n",
              "</div>\n",
              "    </div>\n",
              "  </div>\n"
            ],
            "text/plain": [
              "              metric      corr       p_value  is_winner\n",
              "0        bertscore_P  0.602371  3.383133e-13      False\n",
              "1              ibleu  0.590120  1.314378e-12      False\n",
              "2       bertscore_F1  0.578175  4.677745e-12      False\n",
              "3               bleu  0.573060  7.931885e-12      False\n",
              "4    amean_bleu_sari  0.551529  6.649026e-11      False\n",
              "5    gmean_bleu_sari  0.542583  1.539681e-10      False\n",
              "6        bertscore_R  0.507837  3.212305e-09      False\n",
              "7   amean_bleu_samsa  0.403936  4.760168e-06      False\n",
              "8               sari  0.324126  3.044754e-04      False\n",
              "9   gmean_bleu_samsa  0.315129  4.554222e-04      False\n",
              "10  gmean_sari_samsa  0.227631  1.240572e-02      False\n",
              "11  amean_sari_samsa  0.177472  5.247886e-02      False\n",
              "12            fkbleu  0.169336  6.446615e-02      False\n",
              "13             samsa  0.078869  3.918541e-01      False\n",
              "14              fkgl  0.076786  4.045225e-01      False"
            ]
          },
          "execution_count": 15,
          "metadata": {},
          "output_type": "execute_result"
        }
      ],
      "source": [
        "results_simplicity[('all', 'simplicity', 'asset')][0]"
      ]
    },
    {
      "cell_type": "markdown",
      "metadata": {
        "id": "v_gZfm52ETjT"
      },
      "source": [
        "## relative ranking\n"
      ]
    },
    {
      "cell_type": "code",
      "execution_count": null,
      "metadata": {
        "colab": {
          "base_uri": "https://localhost:8080/"
        },
        "id": "mbOkCNeqEVT9",
        "outputId": "bc3adeb3-2ce4-4473-fc02-4b0b21d3f89c"
      },
      "outputs": [
        {
          "name": "stdout",
          "output_type": "stream",
          "text": [
            "simplicity: simp_high (60) - simp_low (60) - flu_low (60) - flu_high (60) - mean_low (60) - mean_high (60) - fm_low (43) - fm_high (43) - sfm_low (40) - sfm_high (36) - All (120)\n",
            "Computing for simp_low scores - asset references\n",
            "Computing correlations...\n",
            "Determining if the difference in performance is significant...\n",
            "\n",
            "Computing for simp_high scores - asset references\n",
            "Computing correlations...\n",
            "Determining if the difference in performance is significant...\n",
            "\n",
            "Computing for flu_low scores - asset references\n",
            "Computing correlations...\n",
            "Determining if the difference in performance is significant...\n",
            "\n",
            "Computing for flu_high scores - asset references\n",
            "Computing correlations...\n",
            "Determining if the difference in performance is significant...\n",
            "\n",
            "Computing for mean_low scores - asset references\n",
            "Computing correlations...\n",
            "Determining if the difference in performance is significant...\n",
            "\n",
            "Computing for mean_high scores - asset references\n",
            "Computing correlations...\n",
            "Determining if the difference in performance is significant...\n",
            "\n",
            "Computing for fm_low scores - asset references\n",
            "Computing correlations...\n",
            "Determining if the difference in performance is significant...\n",
            "\n",
            "Computing for fm_high scores - asset references\n",
            "Computing correlations...\n",
            "Determining if the difference in performance is significant...\n",
            "\n",
            "Computing for sfm_low scores - asset references\n",
            "Computing correlations...\n",
            "Determining if the difference in performance is significant...\n",
            "\n",
            "Computing for sfm_high scores - asset references\n",
            "Computing correlations...\n",
            "Determining if the difference in performance is significant...\n",
            "\n",
            "Computing for all scores - asset references\n",
            "Computing correlations...\n",
            "Determining if the difference in performance is significant...\n",
            "\n"
          ]
        }
      ],
      "source": [
        "results_simplicity = compute_ranking_correlations(\n",
        "                        df_simplicityDA_silver,\n",
        "                        df_metrics_segment_silver,\n",
        "                        aspects=['simplicity'],\n",
        "                        test_sets=['asset'],\n",
        "                        segment_id_cols=['sent_id','sys_name']\n",
        "                    )"
      ]
    },
    {
      "cell_type": "code",
      "execution_count": null,
      "metadata": {
        "colab": {
          "base_uri": "https://localhost:8080/",
          "height": 520
        },
        "id": "X5PXArHYEp9j",
        "outputId": "f4c8c02a-8ba6-4e99-e447-76fc841919c8"
      },
      "outputs": [
        {
          "data": {
            "text/html": [
              "\n",
              "  <div id=\"df-db2df12e-e53a-4d3a-b363-0293c0c90407\" class=\"colab-df-container\">\n",
              "    <div>\n",
              "<style scoped>\n",
              "    .dataframe tbody tr th:only-of-type {\n",
              "        vertical-align: middle;\n",
              "    }\n",
              "\n",
              "    .dataframe tbody tr th {\n",
              "        vertical-align: top;\n",
              "    }\n",
              "\n",
              "    .dataframe thead th {\n",
              "        text-align: right;\n",
              "    }\n",
              "</style>\n",
              "<table border=\"1\" class=\"dataframe\">\n",
              "  <thead>\n",
              "    <tr style=\"text-align: right;\">\n",
              "      <th></th>\n",
              "      <th>metric</th>\n",
              "      <th>corr</th>\n",
              "      <th>p_value</th>\n",
              "      <th>is_winner</th>\n",
              "    </tr>\n",
              "  </thead>\n",
              "  <tbody>\n",
              "    <tr>\n",
              "      <th>0</th>\n",
              "      <td>bertscore_P</td>\n",
              "      <td>0.595296</td>\n",
              "      <td>7.459964e-13</td>\n",
              "      <td>False</td>\n",
              "    </tr>\n",
              "    <tr>\n",
              "      <th>1</th>\n",
              "      <td>bertscore_F1</td>\n",
              "      <td>0.535792</td>\n",
              "      <td>2.865384e-10</td>\n",
              "      <td>False</td>\n",
              "    </tr>\n",
              "    <tr>\n",
              "      <th>2</th>\n",
              "      <td>ibleu</td>\n",
              "      <td>0.532072</td>\n",
              "      <td>4.003345e-10</td>\n",
              "      <td>False</td>\n",
              "    </tr>\n",
              "    <tr>\n",
              "      <th>3</th>\n",
              "      <td>bleu</td>\n",
              "      <td>0.511467</td>\n",
              "      <td>2.375891e-09</td>\n",
              "      <td>False</td>\n",
              "    </tr>\n",
              "    <tr>\n",
              "      <th>4</th>\n",
              "      <td>amean_bleu_sari</td>\n",
              "      <td>0.481179</td>\n",
              "      <td>2.650672e-08</td>\n",
              "      <td>False</td>\n",
              "    </tr>\n",
              "    <tr>\n",
              "      <th>5</th>\n",
              "      <td>bertscore_R</td>\n",
              "      <td>0.476503</td>\n",
              "      <td>3.769000e-08</td>\n",
              "      <td>False</td>\n",
              "    </tr>\n",
              "    <tr>\n",
              "      <th>6</th>\n",
              "      <td>gmean_bleu_sari</td>\n",
              "      <td>0.458136</td>\n",
              "      <td>1.428862e-07</td>\n",
              "      <td>False</td>\n",
              "    </tr>\n",
              "    <tr>\n",
              "      <th>7</th>\n",
              "      <td>amean_bleu_samsa</td>\n",
              "      <td>0.325551</td>\n",
              "      <td>2.853364e-04</td>\n",
              "      <td>False</td>\n",
              "    </tr>\n",
              "    <tr>\n",
              "      <th>8</th>\n",
              "      <td>sari</td>\n",
              "      <td>0.293506</td>\n",
              "      <td>1.139864e-03</td>\n",
              "      <td>False</td>\n",
              "    </tr>\n",
              "    <tr>\n",
              "      <th>9</th>\n",
              "      <td>gmean_bleu_samsa</td>\n",
              "      <td>0.260092</td>\n",
              "      <td>4.119088e-03</td>\n",
              "      <td>False</td>\n",
              "    </tr>\n",
              "    <tr>\n",
              "      <th>10</th>\n",
              "      <td>fkbleu</td>\n",
              "      <td>0.254587</td>\n",
              "      <td>5.015087e-03</td>\n",
              "      <td>False</td>\n",
              "    </tr>\n",
              "    <tr>\n",
              "      <th>11</th>\n",
              "      <td>gmean_sari_samsa</td>\n",
              "      <td>0.153713</td>\n",
              "      <td>9.369993e-02</td>\n",
              "      <td>False</td>\n",
              "    </tr>\n",
              "    <tr>\n",
              "      <th>12</th>\n",
              "      <td>amean_sari_samsa</td>\n",
              "      <td>0.133794</td>\n",
              "      <td>1.451556e-01</td>\n",
              "      <td>False</td>\n",
              "    </tr>\n",
              "    <tr>\n",
              "      <th>13</th>\n",
              "      <td>samsa</td>\n",
              "      <td>0.096388</td>\n",
              "      <td>2.949790e-01</td>\n",
              "      <td>False</td>\n",
              "    </tr>\n",
              "    <tr>\n",
              "      <th>14</th>\n",
              "      <td>fkgl</td>\n",
              "      <td>0.082141</td>\n",
              "      <td>3.724465e-01</td>\n",
              "      <td>False</td>\n",
              "    </tr>\n",
              "  </tbody>\n",
              "</table>\n",
              "</div>\n",
              "    <div class=\"colab-df-buttons\">\n",
              "\n",
              "  <div class=\"colab-df-container\">\n",
              "    <button class=\"colab-df-convert\" onclick=\"convertToInteractive('df-db2df12e-e53a-4d3a-b363-0293c0c90407')\"\n",
              "            title=\"Convert this dataframe to an interactive table.\"\n",
              "            style=\"display:none;\">\n",
              "\n",
              "  <svg xmlns=\"http://www.w3.org/2000/svg\" height=\"24px\" viewBox=\"0 -960 960 960\">\n",
              "    <path d=\"M120-120v-720h720v720H120Zm60-500h600v-160H180v160Zm220 220h160v-160H400v160Zm0 220h160v-160H400v160ZM180-400h160v-160H180v160Zm440 0h160v-160H620v160ZM180-180h160v-160H180v160Zm440 0h160v-160H620v160Z\"/>\n",
              "  </svg>\n",
              "    </button>\n",
              "\n",
              "  <style>\n",
              "    .colab-df-container {\n",
              "      display:flex;\n",
              "      gap: 12px;\n",
              "    }\n",
              "\n",
              "    .colab-df-convert {\n",
              "      background-color: #E8F0FE;\n",
              "      border: none;\n",
              "      border-radius: 50%;\n",
              "      cursor: pointer;\n",
              "      display: none;\n",
              "      fill: #1967D2;\n",
              "      height: 32px;\n",
              "      padding: 0 0 0 0;\n",
              "      width: 32px;\n",
              "    }\n",
              "\n",
              "    .colab-df-convert:hover {\n",
              "      background-color: #E2EBFA;\n",
              "      box-shadow: 0px 1px 2px rgba(60, 64, 67, 0.3), 0px 1px 3px 1px rgba(60, 64, 67, 0.15);\n",
              "      fill: #174EA6;\n",
              "    }\n",
              "\n",
              "    .colab-df-buttons div {\n",
              "      margin-bottom: 4px;\n",
              "    }\n",
              "\n",
              "    [theme=dark] .colab-df-convert {\n",
              "      background-color: #3B4455;\n",
              "      fill: #D2E3FC;\n",
              "    }\n",
              "\n",
              "    [theme=dark] .colab-df-convert:hover {\n",
              "      background-color: #434B5C;\n",
              "      box-shadow: 0px 1px 3px 1px rgba(0, 0, 0, 0.15);\n",
              "      filter: drop-shadow(0px 1px 2px rgba(0, 0, 0, 0.3));\n",
              "      fill: #FFFFFF;\n",
              "    }\n",
              "  </style>\n",
              "\n",
              "    <script>\n",
              "      const buttonEl =\n",
              "        document.querySelector('#df-db2df12e-e53a-4d3a-b363-0293c0c90407 button.colab-df-convert');\n",
              "      buttonEl.style.display =\n",
              "        google.colab.kernel.accessAllowed ? 'block' : 'none';\n",
              "\n",
              "      async function convertToInteractive(key) {\n",
              "        const element = document.querySelector('#df-db2df12e-e53a-4d3a-b363-0293c0c90407');\n",
              "        const dataTable =\n",
              "          await google.colab.kernel.invokeFunction('convertToInteractive',\n",
              "                                                    [key], {});\n",
              "        if (!dataTable) return;\n",
              "\n",
              "        const docLinkHtml = 'Like what you see? Visit the ' +\n",
              "          '<a target=\"_blank\" href=https://colab.research.google.com/notebooks/data_table.ipynb>data table notebook</a>'\n",
              "          + ' to learn more about interactive tables.';\n",
              "        element.innerHTML = '';\n",
              "        dataTable['output_type'] = 'display_data';\n",
              "        await google.colab.output.renderOutput(dataTable, element);\n",
              "        const docLink = document.createElement('div');\n",
              "        docLink.innerHTML = docLinkHtml;\n",
              "        element.appendChild(docLink);\n",
              "      }\n",
              "    </script>\n",
              "  </div>\n",
              "\n",
              "\n",
              "<div id=\"df-d4ddd810-78c8-4eaa-8490-7d436ad31f0e\">\n",
              "  <button class=\"colab-df-quickchart\" onclick=\"quickchart('df-d4ddd810-78c8-4eaa-8490-7d436ad31f0e')\"\n",
              "            title=\"Suggest charts.\"\n",
              "            style=\"display:none;\">\n",
              "\n",
              "<svg xmlns=\"http://www.w3.org/2000/svg\" height=\"24px\"viewBox=\"0 0 24 24\"\n",
              "     width=\"24px\">\n",
              "    <g>\n",
              "        <path d=\"M19 3H5c-1.1 0-2 .9-2 2v14c0 1.1.9 2 2 2h14c1.1 0 2-.9 2-2V5c0-1.1-.9-2-2-2zM9 17H7v-7h2v7zm4 0h-2V7h2v10zm4 0h-2v-4h2v4z\"/>\n",
              "    </g>\n",
              "</svg>\n",
              "  </button>\n",
              "\n",
              "<style>\n",
              "  .colab-df-quickchart {\n",
              "      --bg-color: #E8F0FE;\n",
              "      --fill-color: #1967D2;\n",
              "      --hover-bg-color: #E2EBFA;\n",
              "      --hover-fill-color: #174EA6;\n",
              "      --disabled-fill-color: #AAA;\n",
              "      --disabled-bg-color: #DDD;\n",
              "  }\n",
              "\n",
              "  [theme=dark] .colab-df-quickchart {\n",
              "      --bg-color: #3B4455;\n",
              "      --fill-color: #D2E3FC;\n",
              "      --hover-bg-color: #434B5C;\n",
              "      --hover-fill-color: #FFFFFF;\n",
              "      --disabled-bg-color: #3B4455;\n",
              "      --disabled-fill-color: #666;\n",
              "  }\n",
              "\n",
              "  .colab-df-quickchart {\n",
              "    background-color: var(--bg-color);\n",
              "    border: none;\n",
              "    border-radius: 50%;\n",
              "    cursor: pointer;\n",
              "    display: none;\n",
              "    fill: var(--fill-color);\n",
              "    height: 32px;\n",
              "    padding: 0;\n",
              "    width: 32px;\n",
              "  }\n",
              "\n",
              "  .colab-df-quickchart:hover {\n",
              "    background-color: var(--hover-bg-color);\n",
              "    box-shadow: 0 1px 2px rgba(60, 64, 67, 0.3), 0 1px 3px 1px rgba(60, 64, 67, 0.15);\n",
              "    fill: var(--button-hover-fill-color);\n",
              "  }\n",
              "\n",
              "  .colab-df-quickchart-complete:disabled,\n",
              "  .colab-df-quickchart-complete:disabled:hover {\n",
              "    background-color: var(--disabled-bg-color);\n",
              "    fill: var(--disabled-fill-color);\n",
              "    box-shadow: none;\n",
              "  }\n",
              "\n",
              "  .colab-df-spinner {\n",
              "    border: 2px solid var(--fill-color);\n",
              "    border-color: transparent;\n",
              "    border-bottom-color: var(--fill-color);\n",
              "    animation:\n",
              "      spin 1s steps(1) infinite;\n",
              "  }\n",
              "\n",
              "  @keyframes spin {\n",
              "    0% {\n",
              "      border-color: transparent;\n",
              "      border-bottom-color: var(--fill-color);\n",
              "      border-left-color: var(--fill-color);\n",
              "    }\n",
              "    20% {\n",
              "      border-color: transparent;\n",
              "      border-left-color: var(--fill-color);\n",
              "      border-top-color: var(--fill-color);\n",
              "    }\n",
              "    30% {\n",
              "      border-color: transparent;\n",
              "      border-left-color: var(--fill-color);\n",
              "      border-top-color: var(--fill-color);\n",
              "      border-right-color: var(--fill-color);\n",
              "    }\n",
              "    40% {\n",
              "      border-color: transparent;\n",
              "      border-right-color: var(--fill-color);\n",
              "      border-top-color: var(--fill-color);\n",
              "    }\n",
              "    60% {\n",
              "      border-color: transparent;\n",
              "      border-right-color: var(--fill-color);\n",
              "    }\n",
              "    80% {\n",
              "      border-color: transparent;\n",
              "      border-right-color: var(--fill-color);\n",
              "      border-bottom-color: var(--fill-color);\n",
              "    }\n",
              "    90% {\n",
              "      border-color: transparent;\n",
              "      border-bottom-color: var(--fill-color);\n",
              "    }\n",
              "  }\n",
              "</style>\n",
              "\n",
              "  <script>\n",
              "    async function quickchart(key) {\n",
              "      const quickchartButtonEl =\n",
              "        document.querySelector('#' + key + ' button');\n",
              "      quickchartButtonEl.disabled = true;  // To prevent multiple clicks.\n",
              "      quickchartButtonEl.classList.add('colab-df-spinner');\n",
              "      try {\n",
              "        const charts = await google.colab.kernel.invokeFunction(\n",
              "            'suggestCharts', [key], {});\n",
              "      } catch (error) {\n",
              "        console.error('Error during call to suggestCharts:', error);\n",
              "      }\n",
              "      quickchartButtonEl.classList.remove('colab-df-spinner');\n",
              "      quickchartButtonEl.classList.add('colab-df-quickchart-complete');\n",
              "    }\n",
              "    (() => {\n",
              "      let quickchartButtonEl =\n",
              "        document.querySelector('#df-d4ddd810-78c8-4eaa-8490-7d436ad31f0e button');\n",
              "      quickchartButtonEl.style.display =\n",
              "        google.colab.kernel.accessAllowed ? 'block' : 'none';\n",
              "    })();\n",
              "  </script>\n",
              "</div>\n",
              "    </div>\n",
              "  </div>\n"
            ],
            "text/plain": [
              "              metric      corr       p_value  is_winner\n",
              "0        bertscore_P  0.595296  7.459964e-13      False\n",
              "1       bertscore_F1  0.535792  2.865384e-10      False\n",
              "2              ibleu  0.532072  4.003345e-10      False\n",
              "3               bleu  0.511467  2.375891e-09      False\n",
              "4    amean_bleu_sari  0.481179  2.650672e-08      False\n",
              "5        bertscore_R  0.476503  3.769000e-08      False\n",
              "6    gmean_bleu_sari  0.458136  1.428862e-07      False\n",
              "7   amean_bleu_samsa  0.325551  2.853364e-04      False\n",
              "8               sari  0.293506  1.139864e-03      False\n",
              "9   gmean_bleu_samsa  0.260092  4.119088e-03      False\n",
              "10            fkbleu  0.254587  5.015087e-03      False\n",
              "11  gmean_sari_samsa  0.153713  9.369993e-02      False\n",
              "12  amean_sari_samsa  0.133794  1.451556e-01      False\n",
              "13             samsa  0.096388  2.949790e-01      False\n",
              "14              fkgl  0.082141  3.724465e-01      False"
            ]
          },
          "execution_count": 17,
          "metadata": {},
          "output_type": "execute_result"
        }
      ],
      "source": [
        "results_simplicity[('all', 'simplicity', 'asset')][0]"
      ]
    }
  ],
  "metadata": {
    "colab": {
      "collapsed_sections": [
        "6eq15-GocXdi",
        "7YL7kz_-A4BM"
      ],
      "provenance": []
    },
    "kernelspec": {
      "display_name": "Python 3",
      "name": "python3"
    },
    "language_info": {
      "name": "python"
    }
  },
  "nbformat": 4,
  "nbformat_minor": 0
}
