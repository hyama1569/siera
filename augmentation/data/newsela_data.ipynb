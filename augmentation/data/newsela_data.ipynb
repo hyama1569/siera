{
  "cells": [
    {
      "cell_type": "code",
      "execution_count": null,
      "metadata": {
        "colab": {
          "base_uri": "https://localhost:8080/"
        },
        "id": "VqoTayJMNA4W",
        "outputId": "a8b8f481-e380-44fe-f15b-40cdc4b51af7"
      },
      "outputs": [
        {
          "name": "stdout",
          "output_type": "stream",
          "text": [
            "Mounted at /content/drive\n",
            "/content/drive/MyDrive/Colab Notebooks/master_thesis\n"
          ]
        }
      ],
      "source": [
        "from google.colab import drive\n",
        "drive.mount('/content/drive')\n",
        "%cd drive/MyDrive/Colab Notebooks/master_thesis"
      ]
    },
    {
      "cell_type": "code",
      "execution_count": null,
      "metadata": {
        "id": "xhBdAC9hNT9e"
      },
      "outputs": [],
      "source": [
        "import pandas as pd\n",
        "import pickle"
      ]
    },
    {
      "cell_type": "code",
      "execution_count": null,
      "metadata": {
        "id": "PomK5ARDNnV7"
      },
      "outputs": [],
      "source": [
        "docid_ls = []\n",
        "comp_docid_ls = []\n",
        "simp_docid_ls = []\n",
        "comp_ls = []\n",
        "simp_ls = []\n",
        "with open('src/newsela_articles_20150302.aligned.sents.txt', 'r') as f:\n",
        "    for line in f:\n",
        "        docid, comp_docid, simp_docid, comp, simp = line.split('\\t')\n",
        "        docid_ls.append(docid)\n",
        "        comp_docid_ls.append(comp_docid)\n",
        "        simp_docid_ls.append(simp_docid)\n",
        "        comp_ls.append(comp)\n",
        "        simp_ls.append(simp.rstrip('\\n'))"
      ]
    },
    {
      "cell_type": "code",
      "execution_count": null,
      "metadata": {
        "id": "kSrB11C1PikH"
      },
      "outputs": [],
      "source": [
        "newsela_dataframe = pd.DataFrame(data={'docid':docid_ls, 'comp_docid':comp_docid_ls, 'simp_docid':simp_docid_ls,\n",
        "                                       'comp':comp_ls, 'simp':simp_ls})"
      ]
    },
    {
      "cell_type": "code",
      "execution_count": null,
      "metadata": {
        "colab": {
          "base_uri": "https://localhost:8080/",
          "height": 424
        },
        "id": "W5uG40SLQP6Q",
        "outputId": "54bd0c53-e93b-4764-eba3-a5ace16e10b3"
      },
      "outputs": [
        {
          "data": {
            "text/html": [
              "\n",
              "\n",
              "  <div id=\"df-01ba5139-c9a1-4097-871a-0a4f55007bfe\">\n",
              "    <div class=\"colab-df-container\">\n",
              "      <div>\n",
              "<style scoped>\n",
              "    .dataframe tbody tr th:only-of-type {\n",
              "        vertical-align: middle;\n",
              "    }\n",
              "\n",
              "    .dataframe tbody tr th {\n",
              "        vertical-align: top;\n",
              "    }\n",
              "\n",
              "    .dataframe thead th {\n",
              "        text-align: right;\n",
              "    }\n",
              "</style>\n",
              "<table border=\"1\" class=\"dataframe\">\n",
              "  <thead>\n",
              "    <tr style=\"text-align: right;\">\n",
              "      <th></th>\n",
              "      <th>docid</th>\n",
              "      <th>comp_docid</th>\n",
              "      <th>simp_docid</th>\n",
              "      <th>comp</th>\n",
              "      <th>simp</th>\n",
              "    </tr>\n",
              "  </thead>\n",
              "  <tbody>\n",
              "    <tr>\n",
              "      <th>0</th>\n",
              "      <td>DOC1</td>\n",
              "      <td>V0</td>\n",
              "      <td>V2</td>\n",
              "      <td>Poll finds Americans OK with women in combat</td>\n",
              "      <td>Women get the OK to fight in combat units, pub...</td>\n",
              "    </tr>\n",
              "    <tr>\n",
              "      <th>1</th>\n",
              "      <td>DOC1</td>\n",
              "      <td>V0</td>\n",
              "      <td>V3</td>\n",
              "      <td>Poll finds Americans OK with women in combat</td>\n",
              "      <td>Women get the OK to fight in combat units</td>\n",
              "    </tr>\n",
              "    <tr>\n",
              "      <th>2</th>\n",
              "      <td>DOC1</td>\n",
              "      <td>V2</td>\n",
              "      <td>V3</td>\n",
              "      <td>Women get the OK to fight in combat units, pub...</td>\n",
              "      <td>Women get the OK to fight in combat units</td>\n",
              "    </tr>\n",
              "    <tr>\n",
              "      <th>3</th>\n",
              "      <td>DOC1</td>\n",
              "      <td>V0</td>\n",
              "      <td>V1</td>\n",
              "      <td>Wars of the future will be fought with America...</td>\n",
              "      <td>American women will soon be free to fight on t...</td>\n",
              "    </tr>\n",
              "    <tr>\n",
              "      <th>4</th>\n",
              "      <td>DOC1</td>\n",
              "      <td>V0</td>\n",
              "      <td>V2</td>\n",
              "      <td>Wars of the future will be fought with America...</td>\n",
              "      <td>American women will soon be able to fight on t...</td>\n",
              "    </tr>\n",
              "    <tr>\n",
              "      <th>...</th>\n",
              "      <td>...</td>\n",
              "      <td>...</td>\n",
              "      <td>...</td>\n",
              "      <td>...</td>\n",
              "      <td>...</td>\n",
              "    </tr>\n",
              "    <tr>\n",
              "      <th>141577</th>\n",
              "      <td>DOC1130</td>\n",
              "      <td>V0</td>\n",
              "      <td>V1</td>\n",
              "      <td>And the country is on track to produce 42,500 ...</td>\n",
              "      <td>Colombian land dedicated to avocado production...</td>\n",
              "    </tr>\n",
              "    <tr>\n",
              "      <th>141578</th>\n",
              "      <td>DOC1130</td>\n",
              "      <td>V0</td>\n",
              "      <td>V2</td>\n",
              "      <td>And the country is on track to produce 42,500 ...</td>\n",
              "      <td>Colombian land dedicated to avocado production...</td>\n",
              "    </tr>\n",
              "    <tr>\n",
              "      <th>141579</th>\n",
              "      <td>DOC1130</td>\n",
              "      <td>V1</td>\n",
              "      <td>V2</td>\n",
              "      <td>Colombian land dedicated to avocado production...</td>\n",
              "      <td>The country is on track to produce 42,500 tons...</td>\n",
              "    </tr>\n",
              "    <tr>\n",
              "      <th>141580</th>\n",
              "      <td>DOC1130</td>\n",
              "      <td>V0</td>\n",
              "      <td>V1</td>\n",
              "      <td>\" But 42,000 tons is n't enough , \" he said , ...</td>\n",
              "      <td>\" But 42,000 tons is n't enough , \" Iragorri s...</td>\n",
              "    </tr>\n",
              "    <tr>\n",
              "      <th>141581</th>\n",
              "      <td>DOC1130</td>\n",
              "      <td>V1</td>\n",
              "      <td>V2</td>\n",
              "      <td>\" But 42,000 tons is n't enough , \" Iragorri s...</td>\n",
              "      <td>\" But 42,000 tons is n't enough , \" he said , ...</td>\n",
              "    </tr>\n",
              "  </tbody>\n",
              "</table>\n",
              "<p>141582 rows × 5 columns</p>\n",
              "</div>\n",
              "      <button class=\"colab-df-convert\" onclick=\"convertToInteractive('df-01ba5139-c9a1-4097-871a-0a4f55007bfe')\"\n",
              "              title=\"Convert this dataframe to an interactive table.\"\n",
              "              style=\"display:none;\">\n",
              "\n",
              "  <svg xmlns=\"http://www.w3.org/2000/svg\" height=\"24px\"viewBox=\"0 0 24 24\"\n",
              "       width=\"24px\">\n",
              "    <path d=\"M0 0h24v24H0V0z\" fill=\"none\"/>\n",
              "    <path d=\"M18.56 5.44l.94 2.06.94-2.06 2.06-.94-2.06-.94-.94-2.06-.94 2.06-2.06.94zm-11 1L8.5 8.5l.94-2.06 2.06-.94-2.06-.94L8.5 2.5l-.94 2.06-2.06.94zm10 10l.94 2.06.94-2.06 2.06-.94-2.06-.94-.94-2.06-.94 2.06-2.06.94z\"/><path d=\"M17.41 7.96l-1.37-1.37c-.4-.4-.92-.59-1.43-.59-.52 0-1.04.2-1.43.59L10.3 9.45l-7.72 7.72c-.78.78-.78 2.05 0 2.83L4 21.41c.39.39.9.59 1.41.59.51 0 1.02-.2 1.41-.59l7.78-7.78 2.81-2.81c.8-.78.8-2.07 0-2.86zM5.41 20L4 18.59l7.72-7.72 1.47 1.35L5.41 20z\"/>\n",
              "  </svg>\n",
              "      </button>\n",
              "\n",
              "\n",
              "\n",
              "    <div id=\"df-2676ba26-c74c-4460-bb69-ac0db1b21adb\">\n",
              "      <button class=\"colab-df-quickchart\" onclick=\"quickchart('df-2676ba26-c74c-4460-bb69-ac0db1b21adb')\"\n",
              "              title=\"Suggest charts.\"\n",
              "              style=\"display:none;\">\n",
              "\n",
              "<svg xmlns=\"http://www.w3.org/2000/svg\" height=\"24px\"viewBox=\"0 0 24 24\"\n",
              "     width=\"24px\">\n",
              "    <g>\n",
              "        <path d=\"M19 3H5c-1.1 0-2 .9-2 2v14c0 1.1.9 2 2 2h14c1.1 0 2-.9 2-2V5c0-1.1-.9-2-2-2zM9 17H7v-7h2v7zm4 0h-2V7h2v10zm4 0h-2v-4h2v4z\"/>\n",
              "    </g>\n",
              "</svg>\n",
              "      </button>\n",
              "    </div>\n",
              "\n",
              "<style>\n",
              "  .colab-df-quickchart {\n",
              "    background-color: #E8F0FE;\n",
              "    border: none;\n",
              "    border-radius: 50%;\n",
              "    cursor: pointer;\n",
              "    display: none;\n",
              "    fill: #1967D2;\n",
              "    height: 32px;\n",
              "    padding: 0 0 0 0;\n",
              "    width: 32px;\n",
              "  }\n",
              "\n",
              "  .colab-df-quickchart:hover {\n",
              "    background-color: #E2EBFA;\n",
              "    box-shadow: 0px 1px 2px rgba(60, 64, 67, 0.3), 0px 1px 3px 1px rgba(60, 64, 67, 0.15);\n",
              "    fill: #174EA6;\n",
              "  }\n",
              "\n",
              "  [theme=dark] .colab-df-quickchart {\n",
              "    background-color: #3B4455;\n",
              "    fill: #D2E3FC;\n",
              "  }\n",
              "\n",
              "  [theme=dark] .colab-df-quickchart:hover {\n",
              "    background-color: #434B5C;\n",
              "    box-shadow: 0px 1px 3px 1px rgba(0, 0, 0, 0.15);\n",
              "    filter: drop-shadow(0px 1px 2px rgba(0, 0, 0, 0.3));\n",
              "    fill: #FFFFFF;\n",
              "  }\n",
              "</style>\n",
              "\n",
              "    <script>\n",
              "      async function quickchart(key) {\n",
              "        const containerElement = document.querySelector('#' + key);\n",
              "        const charts = await google.colab.kernel.invokeFunction(\n",
              "            'suggestCharts', [key], {});\n",
              "      }\n",
              "    </script>\n",
              "\n",
              "      <script>\n",
              "\n",
              "function displayQuickchartButton(domScope) {\n",
              "  let quickchartButtonEl =\n",
              "    domScope.querySelector('#df-2676ba26-c74c-4460-bb69-ac0db1b21adb button.colab-df-quickchart');\n",
              "  quickchartButtonEl.style.display =\n",
              "    google.colab.kernel.accessAllowed ? 'block' : 'none';\n",
              "}\n",
              "\n",
              "        displayQuickchartButton(document);\n",
              "      </script>\n",
              "      <style>\n",
              "    .colab-df-container {\n",
              "      display:flex;\n",
              "      flex-wrap:wrap;\n",
              "      gap: 12px;\n",
              "    }\n",
              "\n",
              "    .colab-df-convert {\n",
              "      background-color: #E8F0FE;\n",
              "      border: none;\n",
              "      border-radius: 50%;\n",
              "      cursor: pointer;\n",
              "      display: none;\n",
              "      fill: #1967D2;\n",
              "      height: 32px;\n",
              "      padding: 0 0 0 0;\n",
              "      width: 32px;\n",
              "    }\n",
              "\n",
              "    .colab-df-convert:hover {\n",
              "      background-color: #E2EBFA;\n",
              "      box-shadow: 0px 1px 2px rgba(60, 64, 67, 0.3), 0px 1px 3px 1px rgba(60, 64, 67, 0.15);\n",
              "      fill: #174EA6;\n",
              "    }\n",
              "\n",
              "    [theme=dark] .colab-df-convert {\n",
              "      background-color: #3B4455;\n",
              "      fill: #D2E3FC;\n",
              "    }\n",
              "\n",
              "    [theme=dark] .colab-df-convert:hover {\n",
              "      background-color: #434B5C;\n",
              "      box-shadow: 0px 1px 3px 1px rgba(0, 0, 0, 0.15);\n",
              "      filter: drop-shadow(0px 1px 2px rgba(0, 0, 0, 0.3));\n",
              "      fill: #FFFFFF;\n",
              "    }\n",
              "  </style>\n",
              "\n",
              "      <script>\n",
              "        const buttonEl =\n",
              "          document.querySelector('#df-01ba5139-c9a1-4097-871a-0a4f55007bfe button.colab-df-convert');\n",
              "        buttonEl.style.display =\n",
              "          google.colab.kernel.accessAllowed ? 'block' : 'none';\n",
              "\n",
              "        async function convertToInteractive(key) {\n",
              "          const element = document.querySelector('#df-01ba5139-c9a1-4097-871a-0a4f55007bfe');\n",
              "          const dataTable =\n",
              "            await google.colab.kernel.invokeFunction('convertToInteractive',\n",
              "                                                     [key], {});\n",
              "          if (!dataTable) return;\n",
              "\n",
              "          const docLinkHtml = 'Like what you see? Visit the ' +\n",
              "            '<a target=\"_blank\" href=https://colab.research.google.com/notebooks/data_table.ipynb>data table notebook</a>'\n",
              "            + ' to learn more about interactive tables.';\n",
              "          element.innerHTML = '';\n",
              "          dataTable['output_type'] = 'display_data';\n",
              "          await google.colab.output.renderOutput(dataTable, element);\n",
              "          const docLink = document.createElement('div');\n",
              "          docLink.innerHTML = docLinkHtml;\n",
              "          element.appendChild(docLink);\n",
              "        }\n",
              "      </script>\n",
              "    </div>\n",
              "  </div>\n"
            ],
            "text/plain": [
              "          docid comp_docid simp_docid  \\\n",
              "0          DOC1         V0         V2   \n",
              "1          DOC1         V0         V3   \n",
              "2          DOC1         V2         V3   \n",
              "3          DOC1         V0         V1   \n",
              "4          DOC1         V0         V2   \n",
              "...         ...        ...        ...   \n",
              "141577  DOC1130         V0         V1   \n",
              "141578  DOC1130         V0         V2   \n",
              "141579  DOC1130         V1         V2   \n",
              "141580  DOC1130         V0         V1   \n",
              "141581  DOC1130         V1         V2   \n",
              "\n",
              "                                                     comp  \\\n",
              "0            Poll finds Americans OK with women in combat   \n",
              "1            Poll finds Americans OK with women in combat   \n",
              "2       Women get the OK to fight in combat units, pub...   \n",
              "3       Wars of the future will be fought with America...   \n",
              "4       Wars of the future will be fought with America...   \n",
              "...                                                   ...   \n",
              "141577  And the country is on track to produce 42,500 ...   \n",
              "141578  And the country is on track to produce 42,500 ...   \n",
              "141579  Colombian land dedicated to avocado production...   \n",
              "141580  \" But 42,000 tons is n't enough , \" he said , ...   \n",
              "141581  \" But 42,000 tons is n't enough , \" Iragorri s...   \n",
              "\n",
              "                                                     simp  \n",
              "0       Women get the OK to fight in combat units, pub...  \n",
              "1               Women get the OK to fight in combat units  \n",
              "2               Women get the OK to fight in combat units  \n",
              "3       American women will soon be free to fight on t...  \n",
              "4       American women will soon be able to fight on t...  \n",
              "...                                                   ...  \n",
              "141577  Colombian land dedicated to avocado production...  \n",
              "141578  Colombian land dedicated to avocado production...  \n",
              "141579  The country is on track to produce 42,500 tons...  \n",
              "141580  \" But 42,000 tons is n't enough , \" Iragorri s...  \n",
              "141581  \" But 42,000 tons is n't enough , \" he said , ...  \n",
              "\n",
              "[141582 rows x 5 columns]"
            ]
          },
          "execution_count": 5,
          "metadata": {},
          "output_type": "execute_result"
        }
      ],
      "source": [
        "newsela_dataframe"
      ]
    },
    {
      "cell_type": "code",
      "execution_count": null,
      "metadata": {
        "id": "7iaB5R-yNe0x"
      },
      "outputs": [],
      "source": [
        "with open('src/newsela_dataframe.pickle', 'wb') as f:\n",
        "    pickle.dump(newsela_dataframe, f)"
      ]
    },
    {
      "cell_type": "code",
      "execution_count": null,
      "metadata": {
        "id": "ngvZEyg_OqG0"
      },
      "outputs": [],
      "source": [
        "data = newsela_dataframe.copy()"
      ]
    },
    {
      "cell_type": "markdown",
      "metadata": {
        "id": "ir7KXbD6vC_W"
      },
      "source": [
        "# newsela only"
      ]
    },
    {
      "cell_type": "markdown",
      "metadata": {
        "id": "3BwUt5nL2QKV"
      },
      "source": [
        "## make intermediate sentences by newsela sentences"
      ]
    },
    {
      "cell_type": "code",
      "execution_count": null,
      "metadata": {
        "colab": {
          "base_uri": "https://localhost:8080/",
          "height": 936
        },
        "id": "dCibFMU5EoCu",
        "outputId": "ac0639d3-7d13-46ed-ad54-ca6838460bac"
      },
      "outputs": [
        {
          "data": {
            "text/html": [
              "\n",
              "  <div id=\"df-9cdb6127-9b99-456b-9867-e12dc5fc8d6e\">\n",
              "    <div class=\"colab-df-container\">\n",
              "      <div>\n",
              "<style scoped>\n",
              "    .dataframe tbody tr th:only-of-type {\n",
              "        vertical-align: middle;\n",
              "    }\n",
              "\n",
              "    .dataframe tbody tr th {\n",
              "        vertical-align: top;\n",
              "    }\n",
              "\n",
              "    .dataframe thead th {\n",
              "        text-align: right;\n",
              "    }\n",
              "</style>\n",
              "<table border=\"1\" class=\"dataframe\">\n",
              "  <thead>\n",
              "    <tr style=\"text-align: right;\">\n",
              "      <th></th>\n",
              "      <th>docid</th>\n",
              "      <th>comp_docid</th>\n",
              "      <th>simp_docid</th>\n",
              "      <th>comp</th>\n",
              "      <th>simp</th>\n",
              "      <th>edit_sequences</th>\n",
              "      <th>aligns</th>\n",
              "    </tr>\n",
              "  </thead>\n",
              "  <tbody>\n",
              "    <tr>\n",
              "      <th>0</th>\n",
              "      <td>DOC1</td>\n",
              "      <td>V0</td>\n",
              "      <td>V2</td>\n",
              "      <td>Poll finds Americans OK with women in combat</td>\n",
              "      <td>Women get the OK to fight in combat units, pub...</td>\n",
              "      <td>[[ad_span, 0], [ad_span, 1], [a_span, 0]]</td>\n",
              "      <td>[([3], [3]), ([6], [6]), ([7], [7])]</td>\n",
              "    </tr>\n",
              "    <tr>\n",
              "      <th>1</th>\n",
              "      <td>DOC1</td>\n",
              "      <td>V0</td>\n",
              "      <td>V3</td>\n",
              "      <td>Poll finds Americans OK with women in combat</td>\n",
              "      <td>Women get the OK to fight in combat units</td>\n",
              "      <td>[[rep_span, 0], [ad_span, 1], [a_span, 0]]</td>\n",
              "      <td>[([2], [2]), ([3], [3]), ([5], [0]), ([6], [6]...</td>\n",
              "    </tr>\n",
              "    <tr>\n",
              "      <th>2</th>\n",
              "      <td>DOC1</td>\n",
              "      <td>V2</td>\n",
              "      <td>V3</td>\n",
              "      <td>Women get the OK to fight in combat units, pub...</td>\n",
              "      <td>Women get the OK to fight in combat units</td>\n",
              "      <td>[[d_span, 0]]</td>\n",
              "      <td>[([0], [0]), ([1], [1]), ([2], [2]), ([3], [3]...</td>\n",
              "    </tr>\n",
              "    <tr>\n",
              "      <th>3</th>\n",
              "      <td>DOC1</td>\n",
              "      <td>V0</td>\n",
              "      <td>V1</td>\n",
              "      <td>Wars of the future will be fought with America...</td>\n",
              "      <td>American women will soon be free to fight on t...</td>\n",
              "      <td>[[rep_span, 1], [ad_span, 0], [ad_span, 2], [a...</td>\n",
              "      <td>[([1], [12]), ([4], [2]), ([5], [4]), ([6], [7...</td>\n",
              "    </tr>\n",
              "    <tr>\n",
              "      <th>4</th>\n",
              "      <td>DOC1</td>\n",
              "      <td>V0</td>\n",
              "      <td>V2</td>\n",
              "      <td>Wars of the future will be fought with America...</td>\n",
              "      <td>American women will soon be able to fight on t...</td>\n",
              "      <td>[[rep_span, 1], [ad_span, 0], [ad_span, 2], [a...</td>\n",
              "      <td>[([1], [12]), ([4], [2]), ([5], [4]), ([6], [7...</td>\n",
              "    </tr>\n",
              "    <tr>\n",
              "      <th>...</th>\n",
              "      <td>...</td>\n",
              "      <td>...</td>\n",
              "      <td>...</td>\n",
              "      <td>...</td>\n",
              "      <td>...</td>\n",
              "      <td>...</td>\n",
              "      <td>...</td>\n",
              "    </tr>\n",
              "    <tr>\n",
              "      <th>141577</th>\n",
              "      <td>DOC1130</td>\n",
              "      <td>V0</td>\n",
              "      <td>V1</td>\n",
              "      <td>And the country is on track to produce 42,500 ...</td>\n",
              "      <td>Colombian land dedicated to avocado production...</td>\n",
              "      <td>[[d_span, 0], [a_span, 0]]</td>\n",
              "      <td>[([0], [13]), ([1], [14]), ([2], [15]), ([3], ...</td>\n",
              "    </tr>\n",
              "    <tr>\n",
              "      <th>141578</th>\n",
              "      <td>DOC1130</td>\n",
              "      <td>V0</td>\n",
              "      <td>V2</td>\n",
              "      <td>And the country is on track to produce 42,500 ...</td>\n",
              "      <td>Colombian land dedicated to avocado production...</td>\n",
              "      <td>[[ad_span, 0], [ad_span, 1]]</td>\n",
              "      <td>[([6], [3]), ([7], [5]), ([17], [13])]</td>\n",
              "    </tr>\n",
              "    <tr>\n",
              "      <th>141579</th>\n",
              "      <td>DOC1130</td>\n",
              "      <td>V1</td>\n",
              "      <td>V2</td>\n",
              "      <td>Colombian land dedicated to avocado production...</td>\n",
              "      <td>The country is on track to produce 42,500 tons...</td>\n",
              "      <td>[[d_span, 0], [a_span, 0]]</td>\n",
              "      <td>[([14], [0]), ([15], [1]), ([16], [2]), ([17],...</td>\n",
              "    </tr>\n",
              "    <tr>\n",
              "      <th>141580</th>\n",
              "      <td>DOC1130</td>\n",
              "      <td>V0</td>\n",
              "      <td>V1</td>\n",
              "      <td>\" But 42,000 tons is n't enough , \" he said , ...</td>\n",
              "      <td>\" But 42,000 tons is n't enough , \" Iragorri s...</td>\n",
              "      <td>[[rep_span, 0]]</td>\n",
              "      <td>[([0], [0]), ([1], [1]), ([2], [2]), ([3], [3]...</td>\n",
              "    </tr>\n",
              "    <tr>\n",
              "      <th>141581</th>\n",
              "      <td>DOC1130</td>\n",
              "      <td>V1</td>\n",
              "      <td>V2</td>\n",
              "      <td>\" But 42,000 tons is n't enough , \" Iragorri s...</td>\n",
              "      <td>\" But 42,000 tons is n't enough , \" he said , ...</td>\n",
              "      <td>[[rep_span, 0]]</td>\n",
              "      <td>[([0], [0]), ([1], [1]), ([2], [2]), ([3], [3]...</td>\n",
              "    </tr>\n",
              "  </tbody>\n",
              "</table>\n",
              "<p>141582 rows × 7 columns</p>\n",
              "</div>\n",
              "      <button class=\"colab-df-convert\" onclick=\"convertToInteractive('df-9cdb6127-9b99-456b-9867-e12dc5fc8d6e')\"\n",
              "              title=\"Convert this dataframe to an interactive table.\"\n",
              "              style=\"display:none;\">\n",
              "        \n",
              "  <svg xmlns=\"http://www.w3.org/2000/svg\" height=\"24px\"viewBox=\"0 0 24 24\"\n",
              "       width=\"24px\">\n",
              "    <path d=\"M0 0h24v24H0V0z\" fill=\"none\"/>\n",
              "    <path d=\"M18.56 5.44l.94 2.06.94-2.06 2.06-.94-2.06-.94-.94-2.06-.94 2.06-2.06.94zm-11 1L8.5 8.5l.94-2.06 2.06-.94-2.06-.94L8.5 2.5l-.94 2.06-2.06.94zm10 10l.94 2.06.94-2.06 2.06-.94-2.06-.94-.94-2.06-.94 2.06-2.06.94z\"/><path d=\"M17.41 7.96l-1.37-1.37c-.4-.4-.92-.59-1.43-.59-.52 0-1.04.2-1.43.59L10.3 9.45l-7.72 7.72c-.78.78-.78 2.05 0 2.83L4 21.41c.39.39.9.59 1.41.59.51 0 1.02-.2 1.41-.59l7.78-7.78 2.81-2.81c.8-.78.8-2.07 0-2.86zM5.41 20L4 18.59l7.72-7.72 1.47 1.35L5.41 20z\"/>\n",
              "  </svg>\n",
              "      </button>\n",
              "      \n",
              "  <style>\n",
              "    .colab-df-container {\n",
              "      display:flex;\n",
              "      flex-wrap:wrap;\n",
              "      gap: 12px;\n",
              "    }\n",
              "\n",
              "    .colab-df-convert {\n",
              "      background-color: #E8F0FE;\n",
              "      border: none;\n",
              "      border-radius: 50%;\n",
              "      cursor: pointer;\n",
              "      display: none;\n",
              "      fill: #1967D2;\n",
              "      height: 32px;\n",
              "      padding: 0 0 0 0;\n",
              "      width: 32px;\n",
              "    }\n",
              "\n",
              "    .colab-df-convert:hover {\n",
              "      background-color: #E2EBFA;\n",
              "      box-shadow: 0px 1px 2px rgba(60, 64, 67, 0.3), 0px 1px 3px 1px rgba(60, 64, 67, 0.15);\n",
              "      fill: #174EA6;\n",
              "    }\n",
              "\n",
              "    [theme=dark] .colab-df-convert {\n",
              "      background-color: #3B4455;\n",
              "      fill: #D2E3FC;\n",
              "    }\n",
              "\n",
              "    [theme=dark] .colab-df-convert:hover {\n",
              "      background-color: #434B5C;\n",
              "      box-shadow: 0px 1px 3px 1px rgba(0, 0, 0, 0.15);\n",
              "      filter: drop-shadow(0px 1px 2px rgba(0, 0, 0, 0.3));\n",
              "      fill: #FFFFFF;\n",
              "    }\n",
              "  </style>\n",
              "\n",
              "      <script>\n",
              "        const buttonEl =\n",
              "          document.querySelector('#df-9cdb6127-9b99-456b-9867-e12dc5fc8d6e button.colab-df-convert');\n",
              "        buttonEl.style.display =\n",
              "          google.colab.kernel.accessAllowed ? 'block' : 'none';\n",
              "\n",
              "        async function convertToInteractive(key) {\n",
              "          const element = document.querySelector('#df-9cdb6127-9b99-456b-9867-e12dc5fc8d6e');\n",
              "          const dataTable =\n",
              "            await google.colab.kernel.invokeFunction('convertToInteractive',\n",
              "                                                     [key], {});\n",
              "          if (!dataTable) return;\n",
              "\n",
              "          const docLinkHtml = 'Like what you see? Visit the ' +\n",
              "            '<a target=\"_blank\" href=https://colab.research.google.com/notebooks/data_table.ipynb>data table notebook</a>'\n",
              "            + ' to learn more about interactive tables.';\n",
              "          element.innerHTML = '';\n",
              "          dataTable['output_type'] = 'display_data';\n",
              "          await google.colab.output.renderOutput(dataTable, element);\n",
              "          const docLink = document.createElement('div');\n",
              "          docLink.innerHTML = docLinkHtml;\n",
              "          element.appendChild(docLink);\n",
              "        }\n",
              "      </script>\n",
              "    </div>\n",
              "  </div>\n",
              "  "
            ],
            "text/plain": [
              "          docid comp_docid simp_docid  \\\n",
              "0          DOC1         V0         V2   \n",
              "1          DOC1         V0         V3   \n",
              "2          DOC1         V2         V3   \n",
              "3          DOC1         V0         V1   \n",
              "4          DOC1         V0         V2   \n",
              "...         ...        ...        ...   \n",
              "141577  DOC1130         V0         V1   \n",
              "141578  DOC1130         V0         V2   \n",
              "141579  DOC1130         V1         V2   \n",
              "141580  DOC1130         V0         V1   \n",
              "141581  DOC1130         V1         V2   \n",
              "\n",
              "                                                     comp  \\\n",
              "0            Poll finds Americans OK with women in combat   \n",
              "1            Poll finds Americans OK with women in combat   \n",
              "2       Women get the OK to fight in combat units, pub...   \n",
              "3       Wars of the future will be fought with America...   \n",
              "4       Wars of the future will be fought with America...   \n",
              "...                                                   ...   \n",
              "141577  And the country is on track to produce 42,500 ...   \n",
              "141578  And the country is on track to produce 42,500 ...   \n",
              "141579  Colombian land dedicated to avocado production...   \n",
              "141580  \" But 42,000 tons is n't enough , \" he said , ...   \n",
              "141581  \" But 42,000 tons is n't enough , \" Iragorri s...   \n",
              "\n",
              "                                                     simp  \\\n",
              "0       Women get the OK to fight in combat units, pub...   \n",
              "1               Women get the OK to fight in combat units   \n",
              "2               Women get the OK to fight in combat units   \n",
              "3       American women will soon be free to fight on t...   \n",
              "4       American women will soon be able to fight on t...   \n",
              "...                                                   ...   \n",
              "141577  Colombian land dedicated to avocado production...   \n",
              "141578  Colombian land dedicated to avocado production...   \n",
              "141579  The country is on track to produce 42,500 tons...   \n",
              "141580  \" But 42,000 tons is n't enough , \" Iragorri s...   \n",
              "141581  \" But 42,000 tons is n't enough , \" he said , ...   \n",
              "\n",
              "                                           edit_sequences  \\\n",
              "0               [[ad_span, 0], [ad_span, 1], [a_span, 0]]   \n",
              "1              [[rep_span, 0], [ad_span, 1], [a_span, 0]]   \n",
              "2                                           [[d_span, 0]]   \n",
              "3       [[rep_span, 1], [ad_span, 0], [ad_span, 2], [a...   \n",
              "4       [[rep_span, 1], [ad_span, 0], [ad_span, 2], [a...   \n",
              "...                                                   ...   \n",
              "141577                         [[d_span, 0], [a_span, 0]]   \n",
              "141578                       [[ad_span, 0], [ad_span, 1]]   \n",
              "141579                         [[d_span, 0], [a_span, 0]]   \n",
              "141580                                    [[rep_span, 0]]   \n",
              "141581                                    [[rep_span, 0]]   \n",
              "\n",
              "                                                   aligns  \n",
              "0                    [([3], [3]), ([6], [6]), ([7], [7])]  \n",
              "1       [([2], [2]), ([3], [3]), ([5], [0]), ([6], [6]...  \n",
              "2       [([0], [0]), ([1], [1]), ([2], [2]), ([3], [3]...  \n",
              "3       [([1], [12]), ([4], [2]), ([5], [4]), ([6], [7...  \n",
              "4       [([1], [12]), ([4], [2]), ([5], [4]), ([6], [7...  \n",
              "...                                                   ...  \n",
              "141577  [([0], [13]), ([1], [14]), ([2], [15]), ([3], ...  \n",
              "141578             [([6], [3]), ([7], [5]), ([17], [13])]  \n",
              "141579  [([14], [0]), ([15], [1]), ([16], [2]), ([17],...  \n",
              "141580  [([0], [0]), ([1], [1]), ([2], [2]), ([3], [3]...  \n",
              "141581  [([0], [0]), ([1], [1]), ([2], [2]), ([3], [3]...  \n",
              "\n",
              "[141582 rows x 7 columns]"
            ]
          },
          "execution_count": 5,
          "metadata": {},
          "output_type": "execute_result"
        }
      ],
      "source": [
        "data"
      ]
    },
    {
      "cell_type": "code",
      "execution_count": null,
      "metadata": {
        "colab": {
          "base_uri": "https://localhost:8080/"
        },
        "id": "D_Zg-MXy4INo",
        "outputId": "97d9a152-9e81-468a-ec26-9d330f802eb4"
      },
      "outputs": [
        {
          "name": "stderr",
          "output_type": "stream",
          "text": [
            "100%|██████████| 141582/141582 [00:50<00:00, 2794.69it/s]\n"
          ]
        }
      ],
      "source": [
        "import tqdm\n",
        "id2sent = {}\n",
        "id2diff = {}\n",
        "sent2id = {}\n",
        "id = 0\n",
        "for i in tqdm.tqdm(range(len(data))):\n",
        "    simple = data.iloc[i]['simp']\n",
        "    simple_level = int(data.iloc[i]['simp_docid'][-1])\n",
        "    original = data.iloc[i]['comp']\n",
        "    original_level = int(data.iloc[i]['comp_docid'][-1])\n",
        "    if original not in sent2id:\n",
        "        sent2id[original] = id\n",
        "        id2sent[id] = original\n",
        "        id2diff[id] = original_level\n",
        "        id += 1\n",
        "    if simple not in sent2id:\n",
        "        sent2id[simple] = id\n",
        "        id2sent[id] = simple\n",
        "        id2diff[id] = simple_level\n",
        "        id += 1"
      ]
    },
    {
      "cell_type": "code",
      "execution_count": null,
      "metadata": {
        "colab": {
          "base_uri": "https://localhost:8080/"
        },
        "id": "HzLmBruI8ZVE",
        "outputId": "8a6986c5-f6c8-43ac-dc79-eb04b5367b18"
      },
      "outputs": [
        {
          "name": "stderr",
          "output_type": "stream",
          "text": [
            "100%|██████████| 141582/141582 [00:37<00:00, 3767.32it/s]\n"
          ]
        }
      ],
      "source": [
        "sent_set_all = []\n",
        "tmp_set = []\n",
        "for i in tqdm.tqdm(range(len(data))):\n",
        "    simple = data.iloc[i]['simp']\n",
        "    simple_id = sent2id[simple]\n",
        "    original = data.iloc[i]['comp']\n",
        "    original_id = sent2id[original]\n",
        "    if len(tmp_set) == 0:\n",
        "        tmp_set.append(original_id)\n",
        "        tmp_set.append(simple_id)\n",
        "    else:\n",
        "        if (simple_id in tmp_set) or (original_id in tmp_set):\n",
        "            if simple_id not in tmp_set:\n",
        "                tmp_set.append(simple_id)\n",
        "            elif original_id not in tmp_set:\n",
        "                tmp_set.append(original_id)\n",
        "            else:\n",
        "                continue\n",
        "        else:\n",
        "            sent_set_all.append(tmp_set)\n",
        "            tmp_set = []\n",
        "            tmp_set.append(original_id)\n",
        "            tmp_set.append(simple_id)\n",
        "\n",
        "sent_set_all.append(tmp_set)"
      ]
    },
    {
      "cell_type": "code",
      "execution_count": null,
      "metadata": {
        "colab": {
          "base_uri": "https://localhost:8080/"
        },
        "id": "Qqsz80l_qD2Z",
        "outputId": "005d9cf5-6b66-4868-e67a-5be50bde3e17"
      },
      "outputs": [
        {
          "data": {
            "text/plain": [
              "[[0, 1, 2],\n",
              " [3, 4, 5, 6, 7, 8],\n",
              " [9, 10, 11, 12, 13, 14],\n",
              " [15, 16, 17],\n",
              " [18, 19],\n",
              " [20, 21, 22, 23],\n",
              " [24, 25, 26, 27, 28],\n",
              " [29, 30, 31, 32, 33],\n",
              " [34, 35, 36, 37],\n",
              " [38, 39, 40, 41, 42]]"
            ]
          },
          "execution_count": 86,
          "metadata": {},
          "output_type": "execute_result"
        }
      ],
      "source": [
        "sent_set_all[:10]"
      ]
    },
    {
      "cell_type": "code",
      "execution_count": null,
      "metadata": {
        "colab": {
          "base_uri": "https://localhost:8080/"
        },
        "id": "DXPL_xe3T_HP",
        "outputId": "5212bc52-447b-4bd2-bd47-f82675981fc8"
      },
      "outputs": [
        {
          "name": "stdout",
          "output_type": "stream",
          "text": [
            "0 Wars of the future will be fought with American women on the front lines and the public has no problem with it .\n",
            "1 American women will soon be free to fight on the front lines of battle and they will go with the public 's support .\n",
            "2 American women will soon be able to fight on the front lines of war .\n",
            "3 American women will soon be able to go to war on the front lines .\n",
            "4 American women will soon be able to fight in wars .\n",
            "2 And they will go with the public 's support .\n"
          ]
        }
      ],
      "source": [
        "for i in sent_set_all[1]:\n",
        "    print(id2diff[i], id2sent[i])"
      ]
    },
    {
      "cell_type": "code",
      "execution_count": null,
      "metadata": {
        "colab": {
          "base_uri": "https://localhost:8080/"
        },
        "id": "9ZsJT_HWI0IM",
        "outputId": "14513547-856c-4c9a-ae55-3a9cbae53a83"
      },
      "outputs": [
        {
          "name": "stdout",
          "output_type": "stream",
          "text": [
            "0 U.S. Secretary of Defense Leon Panetta announced the policy change last week , explaining that the decision was influenced by the role women have already played in risking life and limb in wars of the past decade .\n",
            "1 U.S. Secretary of Defense Leon Panetta explained the decision last week at the Pentagon , the military 's headquarters .\n",
            "1 He pointed out that women have already risked life and limb in wars of the past decade .\n"
          ]
        }
      ],
      "source": [
        "for i in sent_set_all[3]:\n",
        "    print(id2diff[i], id2sent[i])"
      ]
    },
    {
      "cell_type": "code",
      "execution_count": null,
      "metadata": {
        "id": "76I_b5EDDA0a"
      },
      "outputs": [],
      "source": [
        "#Function that returns the id of the V0 sentence corresponding to the id when the id is given\n",
        "def id2instid(id, sent_set_all):\n",
        "    sent_set_all_prefix = [i[0] for i in sent_set_all]\n",
        "    for i in range(len(sent_set_all_prefix)):\n",
        "        if id > sent_set_all_prefix[i]:\n",
        "            if i < len(sent_set_all_prefix)-1:\n",
        "                continue\n",
        "            else:\n",
        "                instid = i\n",
        "        elif id == sent_set_all_prefix[i]:\n",
        "            instid = i\n",
        "            break\n",
        "        else:\n",
        "            instid = i-1\n",
        "            break\n",
        "    return instid"
      ]
    },
    {
      "cell_type": "code",
      "execution_count": null,
      "metadata": {
        "colab": {
          "base_uri": "https://localhost:8080/"
        },
        "id": "RoTkFTlHQq4p",
        "outputId": "416fab17-81db-48c3-912d-b919aac920cf"
      },
      "outputs": [
        {
          "data": {
            "text/plain": [
              "2"
            ]
          },
          "execution_count": 19,
          "metadata": {},
          "output_type": "execute_result"
        }
      ],
      "source": [
        "id2instid(9, sent_set_all)"
      ]
    },
    {
      "cell_type": "code",
      "execution_count": null,
      "metadata": {
        "colab": {
          "base_uri": "https://localhost:8080/"
        },
        "id": "B2xJC19Sc6Za",
        "outputId": "f9344a86-201b-41fc-d824-249b5dd0b2aa"
      },
      "outputs": [
        {
          "name": "stderr",
          "output_type": "stream",
          "text": [
            "100%|██████████| 141582/141582 [16:43<00:00, 141.12it/s]\n"
          ]
        }
      ],
      "source": [
        "case_num = []\n",
        "for i in tqdm.tqdm(range(len(data))):\n",
        "    simple = data.iloc[i]['simp']\n",
        "    simple_id = sent2id[simple]\n",
        "    original = data.iloc[i]['comp']\n",
        "    original_id = sent2id[original]\n",
        "    instid = id2instid(original_id, sent_set_all)\n",
        "    case_num.append(instid)"
      ]
    },
    {
      "cell_type": "code",
      "execution_count": null,
      "metadata": {
        "id": "mktMSt23fDPh"
      },
      "outputs": [],
      "source": [
        "data['case_num'] = case_num\n",
        "data['simple'] = data['simp']\n",
        "data['original'] = data['comp']"
      ]
    },
    {
      "cell_type": "code",
      "execution_count": null,
      "metadata": {
        "colab": {
          "base_uri": "https://localhost:8080/"
        },
        "id": "qjMkSMndpIAL",
        "outputId": "61aa3359-0c33-4a7d-e9bb-b955595fb92d"
      },
      "outputs": [
        {
          "data": {
            "text/plain": [
              "29080"
            ]
          },
          "execution_count": 58,
          "metadata": {},
          "output_type": "execute_result"
        }
      ],
      "source": [
        "len(set(case_num))"
      ]
    },
    {
      "cell_type": "code",
      "execution_count": null,
      "metadata": {
        "colab": {
          "base_uri": "https://localhost:8080/",
          "height": 424
        },
        "id": "JxKtyh9SRBWX",
        "outputId": "338e8717-e4c8-4caa-d12a-2768ee87ad7c"
      },
      "outputs": [
        {
          "data": {
            "text/html": [
              "\n",
              "  <div id=\"df-629af35c-2f89-4791-842f-6903a7d538aa\">\n",
              "    <div class=\"colab-df-container\">\n",
              "      <div>\n",
              "<style scoped>\n",
              "    .dataframe tbody tr th:only-of-type {\n",
              "        vertical-align: middle;\n",
              "    }\n",
              "\n",
              "    .dataframe tbody tr th {\n",
              "        vertical-align: top;\n",
              "    }\n",
              "\n",
              "    .dataframe thead th {\n",
              "        text-align: right;\n",
              "    }\n",
              "</style>\n",
              "<table border=\"1\" class=\"dataframe\">\n",
              "  <thead>\n",
              "    <tr style=\"text-align: right;\">\n",
              "      <th></th>\n",
              "      <th>simple</th>\n",
              "      <th>original</th>\n",
              "      <th>case_num</th>\n",
              "    </tr>\n",
              "  </thead>\n",
              "  <tbody>\n",
              "    <tr>\n",
              "      <th>0</th>\n",
              "      <td>Women get the OK to fight in combat units, pub...</td>\n",
              "      <td>Poll finds Americans OK with women in combat</td>\n",
              "      <td>0</td>\n",
              "    </tr>\n",
              "    <tr>\n",
              "      <th>1</th>\n",
              "      <td>Women get the OK to fight in combat units</td>\n",
              "      <td>Poll finds Americans OK with women in combat</td>\n",
              "      <td>0</td>\n",
              "    </tr>\n",
              "    <tr>\n",
              "      <th>2</th>\n",
              "      <td>Women get the OK to fight in combat units</td>\n",
              "      <td>Women get the OK to fight in combat units, pub...</td>\n",
              "      <td>0</td>\n",
              "    </tr>\n",
              "    <tr>\n",
              "      <th>3</th>\n",
              "      <td>American women will soon be free to fight on t...</td>\n",
              "      <td>Wars of the future will be fought with America...</td>\n",
              "      <td>1</td>\n",
              "    </tr>\n",
              "    <tr>\n",
              "      <th>4</th>\n",
              "      <td>American women will soon be able to fight on t...</td>\n",
              "      <td>Wars of the future will be fought with America...</td>\n",
              "      <td>1</td>\n",
              "    </tr>\n",
              "    <tr>\n",
              "      <th>...</th>\n",
              "      <td>...</td>\n",
              "      <td>...</td>\n",
              "      <td>...</td>\n",
              "    </tr>\n",
              "    <tr>\n",
              "      <th>141577</th>\n",
              "      <td>Colombian land dedicated to avocado production...</td>\n",
              "      <td>And the country is on track to produce 42,500 ...</td>\n",
              "      <td>29083</td>\n",
              "    </tr>\n",
              "    <tr>\n",
              "      <th>141578</th>\n",
              "      <td>Colombian land dedicated to avocado production...</td>\n",
              "      <td>And the country is on track to produce 42,500 ...</td>\n",
              "      <td>29083</td>\n",
              "    </tr>\n",
              "    <tr>\n",
              "      <th>141579</th>\n",
              "      <td>The country is on track to produce 42,500 tons...</td>\n",
              "      <td>Colombian land dedicated to avocado production...</td>\n",
              "      <td>29083</td>\n",
              "    </tr>\n",
              "    <tr>\n",
              "      <th>141580</th>\n",
              "      <td>\" But 42,000 tons is n't enough , \" Iragorri s...</td>\n",
              "      <td>\" But 42,000 tons is n't enough , \" he said , ...</td>\n",
              "      <td>29084</td>\n",
              "    </tr>\n",
              "    <tr>\n",
              "      <th>141581</th>\n",
              "      <td>\" But 42,000 tons is n't enough , \" he said , ...</td>\n",
              "      <td>\" But 42,000 tons is n't enough , \" Iragorri s...</td>\n",
              "      <td>29084</td>\n",
              "    </tr>\n",
              "  </tbody>\n",
              "</table>\n",
              "<p>141582 rows × 3 columns</p>\n",
              "</div>\n",
              "      <button class=\"colab-df-convert\" onclick=\"convertToInteractive('df-629af35c-2f89-4791-842f-6903a7d538aa')\"\n",
              "              title=\"Convert this dataframe to an interactive table.\"\n",
              "              style=\"display:none;\">\n",
              "        \n",
              "  <svg xmlns=\"http://www.w3.org/2000/svg\" height=\"24px\"viewBox=\"0 0 24 24\"\n",
              "       width=\"24px\">\n",
              "    <path d=\"M0 0h24v24H0V0z\" fill=\"none\"/>\n",
              "    <path d=\"M18.56 5.44l.94 2.06.94-2.06 2.06-.94-2.06-.94-.94-2.06-.94 2.06-2.06.94zm-11 1L8.5 8.5l.94-2.06 2.06-.94-2.06-.94L8.5 2.5l-.94 2.06-2.06.94zm10 10l.94 2.06.94-2.06 2.06-.94-2.06-.94-.94-2.06-.94 2.06-2.06.94z\"/><path d=\"M17.41 7.96l-1.37-1.37c-.4-.4-.92-.59-1.43-.59-.52 0-1.04.2-1.43.59L10.3 9.45l-7.72 7.72c-.78.78-.78 2.05 0 2.83L4 21.41c.39.39.9.59 1.41.59.51 0 1.02-.2 1.41-.59l7.78-7.78 2.81-2.81c.8-.78.8-2.07 0-2.86zM5.41 20L4 18.59l7.72-7.72 1.47 1.35L5.41 20z\"/>\n",
              "  </svg>\n",
              "      </button>\n",
              "      \n",
              "  <style>\n",
              "    .colab-df-container {\n",
              "      display:flex;\n",
              "      flex-wrap:wrap;\n",
              "      gap: 12px;\n",
              "    }\n",
              "\n",
              "    .colab-df-convert {\n",
              "      background-color: #E8F0FE;\n",
              "      border: none;\n",
              "      border-radius: 50%;\n",
              "      cursor: pointer;\n",
              "      display: none;\n",
              "      fill: #1967D2;\n",
              "      height: 32px;\n",
              "      padding: 0 0 0 0;\n",
              "      width: 32px;\n",
              "    }\n",
              "\n",
              "    .colab-df-convert:hover {\n",
              "      background-color: #E2EBFA;\n",
              "      box-shadow: 0px 1px 2px rgba(60, 64, 67, 0.3), 0px 1px 3px 1px rgba(60, 64, 67, 0.15);\n",
              "      fill: #174EA6;\n",
              "    }\n",
              "\n",
              "    [theme=dark] .colab-df-convert {\n",
              "      background-color: #3B4455;\n",
              "      fill: #D2E3FC;\n",
              "    }\n",
              "\n",
              "    [theme=dark] .colab-df-convert:hover {\n",
              "      background-color: #434B5C;\n",
              "      box-shadow: 0px 1px 3px 1px rgba(0, 0, 0, 0.15);\n",
              "      filter: drop-shadow(0px 1px 2px rgba(0, 0, 0, 0.3));\n",
              "      fill: #FFFFFF;\n",
              "    }\n",
              "  </style>\n",
              "\n",
              "      <script>\n",
              "        const buttonEl =\n",
              "          document.querySelector('#df-629af35c-2f89-4791-842f-6903a7d538aa button.colab-df-convert');\n",
              "        buttonEl.style.display =\n",
              "          google.colab.kernel.accessAllowed ? 'block' : 'none';\n",
              "\n",
              "        async function convertToInteractive(key) {\n",
              "          const element = document.querySelector('#df-629af35c-2f89-4791-842f-6903a7d538aa');\n",
              "          const dataTable =\n",
              "            await google.colab.kernel.invokeFunction('convertToInteractive',\n",
              "                                                     [key], {});\n",
              "          if (!dataTable) return;\n",
              "\n",
              "          const docLinkHtml = 'Like what you see? Visit the ' +\n",
              "            '<a target=\"_blank\" href=https://colab.research.google.com/notebooks/data_table.ipynb>data table notebook</a>'\n",
              "            + ' to learn more about interactive tables.';\n",
              "          element.innerHTML = '';\n",
              "          dataTable['output_type'] = 'display_data';\n",
              "          await google.colab.output.renderOutput(dataTable, element);\n",
              "          const docLink = document.createElement('div');\n",
              "          docLink.innerHTML = docLinkHtml;\n",
              "          element.appendChild(docLink);\n",
              "        }\n",
              "      </script>\n",
              "    </div>\n",
              "  </div>\n",
              "  "
            ],
            "text/plain": [
              "                                                   simple  \\\n",
              "0       Women get the OK to fight in combat units, pub...   \n",
              "1               Women get the OK to fight in combat units   \n",
              "2               Women get the OK to fight in combat units   \n",
              "3       American women will soon be free to fight on t...   \n",
              "4       American women will soon be able to fight on t...   \n",
              "...                                                   ...   \n",
              "141577  Colombian land dedicated to avocado production...   \n",
              "141578  Colombian land dedicated to avocado production...   \n",
              "141579  The country is on track to produce 42,500 tons...   \n",
              "141580  \" But 42,000 tons is n't enough , \" Iragorri s...   \n",
              "141581  \" But 42,000 tons is n't enough , \" he said , ...   \n",
              "\n",
              "                                                 original  case_num  \n",
              "0            Poll finds Americans OK with women in combat         0  \n",
              "1            Poll finds Americans OK with women in combat         0  \n",
              "2       Women get the OK to fight in combat units, pub...         0  \n",
              "3       Wars of the future will be fought with America...         1  \n",
              "4       Wars of the future will be fought with America...         1  \n",
              "...                                                   ...       ...  \n",
              "141577  And the country is on track to produce 42,500 ...     29083  \n",
              "141578  And the country is on track to produce 42,500 ...     29083  \n",
              "141579  Colombian land dedicated to avocado production...     29083  \n",
              "141580  \" But 42,000 tons is n't enough , \" he said , ...     29084  \n",
              "141581  \" But 42,000 tons is n't enough , \" Iragorri s...     29084  \n",
              "\n",
              "[141582 rows x 3 columns]"
            ]
          },
          "execution_count": 11,
          "metadata": {},
          "output_type": "execute_result"
        }
      ],
      "source": [
        "data[['simple', 'original', 'case_num']]"
      ]
    },
    {
      "cell_type": "code",
      "execution_count": null,
      "metadata": {
        "colab": {
          "base_uri": "https://localhost:8080/"
        },
        "id": "qXRAmT4kZCVo",
        "outputId": "1c3f4ce6-152c-43e2-c955-cee257336de6"
      },
      "outputs": [
        {
          "name": "stderr",
          "output_type": "stream",
          "text": [
            "100%|██████████| 141582/141582 [00:36<00:00, 3841.78it/s]\n"
          ]
        }
      ],
      "source": [
        "orig_simp_diff= []\n",
        "for i in tqdm.tqdm(range(len(data))):\n",
        "    simple = data.iloc[i]['simp']\n",
        "    simple_id = sent2id[simple]\n",
        "    simple_level = id2diff[simple_id]\n",
        "    original = data.iloc[i]['comp']\n",
        "    original_id = sent2id[original]\n",
        "    original_level = id2diff[original_id]\n",
        "    orig_simp_diff.append(simple_level - original_level)"
      ]
    },
    {
      "cell_type": "code",
      "execution_count": null,
      "metadata": {
        "id": "6X5CDRlUZ5vl"
      },
      "outputs": [],
      "source": [
        "data[\"orig_simp_diff\"] = orig_simp_diff"
      ]
    },
    {
      "cell_type": "code",
      "execution_count": null,
      "metadata": {
        "colab": {
          "base_uri": "https://localhost:8080/",
          "height": 282
        },
        "id": "H9LApKcZphK7",
        "outputId": "148be56b-35c6-409c-8f56-81e9750ab5b3"
      },
      "outputs": [
        {
          "data": {
            "text/plain": [
              "<matplotlib.axes._subplots.AxesSubplot at 0x7f6f123c9a30>"
            ]
          },
          "execution_count": 29,
          "metadata": {},
          "output_type": "execute_result"
        },
        {
          "data": {
            "image/png": "[encoded data removed]",
            "text/plain": [
              "<Figure size 432x288 with 1 Axes>"
            ]
          },
          "metadata": {
            "needs_background": "light"
          },
          "output_type": "display_data"
        }
      ],
      "source": [
        "data[\"orig_simp_diff\"].hist()"
      ]
    },
    {
      "cell_type": "code",
      "execution_count": null,
      "metadata": {
        "id": "psrYrfW4aEhC"
      },
      "outputs": [],
      "source": [
        "newsela_only_woaug = data[data[\"orig_simp_diff\"] == 4].copy() # Limit the difference in difficulty to only 4 sentences"
      ]
    },
    {
      "cell_type": "code",
      "execution_count": null,
      "metadata": {
        "colab": {
          "base_uri": "https://localhost:8080/"
        },
        "id": "UEXDQKMNcL8P",
        "outputId": "acceb480-1a77-41e3-bbb8-8a9876ba07c0"
      },
      "outputs": [
        {
          "data": {
            "text/plain": [
              "9             1\n",
              "19            2\n",
              "37            6\n",
              "47            7\n",
              "60            9\n",
              "          ...  \n",
              "141529    29068\n",
              "141546    29075\n",
              "141557    29078\n",
              "141565    29078\n",
              "141573    29079\n",
              "Name: case_num, Length: 16084, dtype: int64"
            ]
          },
          "execution_count": 26,
          "metadata": {},
          "output_type": "execute_result"
        }
      ],
      "source": [
        "newsela_only_woaug[\"case_num\"]"
      ]
    },
    {
      "cell_type": "code",
      "execution_count": null,
      "metadata": {
        "id": "2x8thdM0e-rf"
      },
      "outputs": [],
      "source": [
        "newsela_only_woaug[\"group_id\"] = range(len(newsela_only_woaug))"
      ]
    },
    {
      "cell_type": "code",
      "execution_count": null,
      "metadata": {
        "colab": {
          "base_uri": "https://localhost:8080/"
        },
        "id": "RISHEFW8a9wf",
        "outputId": "ddb3cfa2-65df-42f8-c4e2-6ba3cdf4b52d"
      },
      "outputs": [
        {
          "name": "stderr",
          "output_type": "stream",
          "text": [
            "100%|██████████| 16084/16084 [00:56<00:00, 285.25it/s]\n"
          ]
        }
      ],
      "source": [
        "newsela_only_aug_inter = []\n",
        "newsela_only_aug_orig_simp_pairs = [] \n",
        "for i in tqdm.tqdm(range(len(newsela_only_woaug[\"case_num\"]))):\n",
        "    case_num = newsela_only_woaug.iloc[i][\"case_num\"]\n",
        "    data_ = data[data[\"case_num\"] == case_num]\n",
        "    simple_woaug = newsela_only_woaug.iloc[i][\"simple\"]\n",
        "    original_woaug = newsela_only_woaug.iloc[i][\"original\"]\n",
        "    inter_tmp = []\n",
        "    pairs_tmp = []\n",
        "    for j in range(len(data_)):\n",
        "        simple = data_.iloc[j]['simple']\n",
        "        simple_id = sent2id[simple]\n",
        "        simple_level = id2diff[simple_id]\n",
        "        original = data_.iloc[j]['original']\n",
        "        original_id = sent2id[original]\n",
        "        original_level = id2diff[original_id]\n",
        "        diff = simple_level - original_level\n",
        "        pairs_tmp.append(((original, original_level), (simple, simple_level)))\n",
        "        if diff != 4:\n",
        "            if (simple != simple_woaug) and (original == original_woaug) and ((simple, simple_level) not in inter_tmp):\n",
        "                inter_tmp.append((simple, simple_level))\n",
        "            elif (simple == simple_woaug) and (original != original_woaug) and ((original, original_level) not in inter_tmp):\n",
        "                inter_tmp.append((original, original_level))\n",
        "            else:\n",
        "                continue #ignore intermediate sentences when they are paired with each other.\n",
        "    newsela_only_aug_inter.append(inter_tmp)\n",
        "    newsela_only_aug_orig_simp_pairs.append(pairs_tmp)"
      ]
    },
    {
      "cell_type": "code",
      "execution_count": null,
      "metadata": {
        "colab": {
          "base_uri": "https://localhost:8080/"
        },
        "id": "JoCsfVDeh44q",
        "outputId": "e01da93f-20c3-4bfb-b7fb-83cd166ec945"
      },
      "outputs": [
        {
          "data": {
            "text/plain": [
              "[(('Wars of the future will be fought with American women on the front lines and the public has no problem with it .',\n",
              "   0),\n",
              "  (\"American women will soon be free to fight on the front lines of battle and they will go with the public 's support .\",\n",
              "   1)),\n",
              " (('Wars of the future will be fought with American women on the front lines and the public has no problem with it .',\n",
              "   0),\n",
              "  ('American women will soon be able to fight on the front lines of war .',\n",
              "   2)),\n",
              " ((\"American women will soon be free to fight on the front lines of battle and they will go with the public 's support .\",\n",
              "   1),\n",
              "  ('American women will soon be able to fight on the front lines of war .',\n",
              "   2)),\n",
              " (('Wars of the future will be fought with American women on the front lines and the public has no problem with it .',\n",
              "   0),\n",
              "  ('American women will soon be able to go to war on the front lines .', 3)),\n",
              " ((\"American women will soon be free to fight on the front lines of battle and they will go with the public 's support .\",\n",
              "   1),\n",
              "  ('American women will soon be able to go to war on the front lines .', 3)),\n",
              " (('American women will soon be able to fight on the front lines of war .', 2),\n",
              "  ('American women will soon be able to go to war on the front lines .', 3)),\n",
              " (('Wars of the future will be fought with American women on the front lines and the public has no problem with it .',\n",
              "   0),\n",
              "  ('American women will soon be able to fight in wars .', 4)),\n",
              " ((\"American women will soon be free to fight on the front lines of battle and they will go with the public 's support .\",\n",
              "   1),\n",
              "  ('American women will soon be able to fight in wars .', 4)),\n",
              " (('American women will soon be able to fight on the front lines of war .', 2),\n",
              "  ('American women will soon be able to fight in wars .', 4)),\n",
              " (('American women will soon be able to go to war on the front lines .', 3),\n",
              "  ('American women will soon be able to fight in wars .', 4)),\n",
              " (('Wars of the future will be fought with American women on the front lines and the public has no problem with it .',\n",
              "   0),\n",
              "  (\"And they will go with the public 's support .\", 2))]"
            ]
          },
          "execution_count": 23,
          "metadata": {},
          "output_type": "execute_result"
        }
      ],
      "source": [
        "newsela_only_aug_orig_simp_pairs[0]"
      ]
    },
    {
      "cell_type": "code",
      "execution_count": null,
      "metadata": {
        "id": "o6UAMf1ZmAdS"
      },
      "outputs": [],
      "source": [
        "newsela_only_aug = newsela_only_woaug.copy() # aug = augmentation, woaug = w/o augmentation\n",
        "newsela_only_aug[\"inter\"] = newsela_only_aug_inter\n",
        "newsela_only_aug[\"orig_simp_pairs\"] = newsela_only_aug_orig_simp_pairs"
      ]
    },
    {
      "cell_type": "code",
      "execution_count": null,
      "metadata": {
        "colab": {
          "base_uri": "https://localhost:8080/"
        },
        "id": "TND1hp5Uu_YV",
        "outputId": "e5fab82c-ad8d-4e4f-a445-509c720dbc68"
      },
      "outputs": [
        {
          "data": {
            "text/plain": [
              "16084"
            ]
          },
          "execution_count": 70,
          "metadata": {},
          "output_type": "execute_result"
        }
      ],
      "source": [
        "len(newsela_only_aug)"
      ]
    },
    {
      "cell_type": "code",
      "execution_count": null,
      "metadata": {
        "colab": {
          "base_uri": "https://localhost:8080/",
          "height": 53
        },
        "id": "wRFlTd7eZbVn",
        "outputId": "6a13698e-ae10-4dbf-91a9-a450203942b1"
      },
      "outputs": [
        {
          "data": {
            "application/vnd.google.colaboratory.intrinsic+json": {
              "type": "string"
            },
            "text/plain": [
              "'At the same time , several county animal control departments in the Chicago area say they have tried to cope with an unusually high number of horse abandonment calls , which have to be handled by staffs and facilities mostly equipped to deal with cats and dogs .'"
            ]
          },
          "execution_count": 35,
          "metadata": {},
          "output_type": "execute_result"
        }
      ],
      "source": [
        "newsela_only_aug['original'].iloc[101]"
      ]
    },
    {
      "cell_type": "code",
      "execution_count": null,
      "metadata": {
        "colab": {
          "base_uri": "https://localhost:8080/",
          "height": 35
        },
        "id": "SPFAmwm9ZWDt",
        "outputId": "e117b91b-b944-497d-f2fb-9b3fb0d55a1a"
      },
      "outputs": [
        {
          "data": {
            "application/vnd.google.colaboratory.intrinsic+json": {
              "type": "string"
            },
            "text/plain": [
              "'But the departments are used to dealing with just cats and dogs .'"
            ]
          },
          "execution_count": 34,
          "metadata": {},
          "output_type": "execute_result"
        }
      ],
      "source": [
        "newsela_only_aug['simple'].iloc[101]"
      ]
    },
    {
      "cell_type": "code",
      "execution_count": null,
      "metadata": {
        "colab": {
          "base_uri": "https://localhost:8080/"
        },
        "id": "hVrhA5kdwpqw",
        "outputId": "ac6b1fff-db0e-40b0-ae2b-ccb01418fdfd"
      },
      "outputs": [
        {
          "data": {
            "text/plain": [
              "[('Several county animal control departments in the Chicago area say that they have tried to cope with an unusually high number of horse abandonment cases .',\n",
              "  1),\n",
              " ('Several animal control departments in Illinois say they are getting an unusually high number of calls about horse abandonment .',\n",
              "  3),\n",
              " ('But the calls have to be handled by staff and facilities mostly equipped to deal with cats and dogs .',\n",
              "  1),\n",
              " ('But such departments are mostly equipped to deal with cats and dogs .', 2)]"
            ]
          },
          "execution_count": 33,
          "metadata": {},
          "output_type": "execute_result"
        }
      ],
      "source": [
        "newsela_only_aug['inter'].iloc[101]"
      ]
    },
    {
      "cell_type": "code",
      "execution_count": null,
      "metadata": {
        "colab": {
          "base_uri": "https://localhost:8080/",
          "height": 35
        },
        "id": "b2Ha9Bc5mweQ",
        "outputId": "893b3a7e-fd35-45f3-8bea-e0984a94681c"
      },
      "outputs": [
        {
          "data": {
            "application/vnd.google.colaboratory.intrinsic+json": {
              "type": "string"
            },
            "text/plain": [
              "'Wars of the future will be fought with American women on the front lines and the public has no problem with it .'"
            ]
          },
          "execution_count": 52,
          "metadata": {},
          "output_type": "execute_result"
        }
      ],
      "source": [
        "newsela_only_aug[\"original\"].iloc[0]"
      ]
    },
    {
      "cell_type": "code",
      "execution_count": null,
      "metadata": {
        "colab": {
          "base_uri": "https://localhost:8080/",
          "height": 35
        },
        "id": "a1PkxlldmzfL",
        "outputId": "b8e71c28-6794-4bd7-fda2-5b3fbc839b0f"
      },
      "outputs": [
        {
          "data": {
            "application/vnd.google.colaboratory.intrinsic+json": {
              "type": "string"
            },
            "text/plain": [
              "'American women will soon be able to fight in wars .'"
            ]
          },
          "execution_count": 53,
          "metadata": {},
          "output_type": "execute_result"
        }
      ],
      "source": [
        "newsela_only_aug[\"simple\"].iloc[0]"
      ]
    },
    {
      "cell_type": "code",
      "execution_count": null,
      "metadata": {
        "colab": {
          "base_uri": "https://localhost:8080/"
        },
        "id": "ICiAV6ZUmTCi",
        "outputId": "1208f47a-d494-4789-d701-f39082bf3a0f"
      },
      "outputs": [
        {
          "name": "stdout",
          "output_type": "stream",
          "text": [
            "American women will soon be free to fight on the front lines of battle and they will go with the public 's support .\n",
            "American women will soon be able to fight on the front lines of war .\n",
            "American women will soon be able to go to war on the front lines .\n",
            "And they will go with the public 's support .\n"
          ]
        }
      ],
      "source": [
        "for s in newsela_only_aug[\"inter\"].iloc[0]:\n",
        "    print(s)"
      ]
    },
    {
      "cell_type": "code",
      "execution_count": null,
      "metadata": {
        "id": "RzSeeDaOwtqt"
      },
      "outputs": [],
      "source": [
        "inter_len = []\n",
        "for i in range(len(newsela_only_aug)):\n",
        "    inter_len.append(len(newsela_only_aug.iloc[i][\"inter\"]))"
      ]
    },
    {
      "cell_type": "code",
      "execution_count": null,
      "metadata": {
        "colab": {
          "base_uri": "https://localhost:8080/",
          "height": 267
        },
        "id": "ky6PMSF7xB-R",
        "outputId": "5b836efe-f593-44d2-c821-c1f5a5f69684"
      },
      "outputs": [
        {
          "data": {
            "image/png": "[encoded data removed]",
            "text/plain": [
              "<Figure size 432x288 with 1 Axes>"
            ]
          },
          "metadata": {
            "needs_background": "light"
          },
          "output_type": "display_data"
        }
      ],
      "source": [
        "import matplotlib.pyplot as plt\n",
        "plt.hist(inter_len, bins=30)\n",
        "plt.show()"
      ]
    },
    {
      "cell_type": "code",
      "execution_count": null,
      "metadata": {
        "id": "DefgRzNp-udm"
      },
      "outputs": [],
      "source": [
        "newsela_only_aug[\"inter_len\"] = inter_len"
      ]
    },
    {
      "cell_type": "code",
      "execution_count": null,
      "metadata": {
        "colab": {
          "base_uri": "https://localhost:8080/",
          "height": 53
        },
        "id": "OMqTOHPXARgS",
        "outputId": "62c4fcdc-e71d-40db-a8f0-a9ba99a550d5"
      },
      "outputs": [
        {
          "data": {
            "application/vnd.google.colaboratory.intrinsic+json": {
              "type": "string"
            },
            "text/plain": [
              "\"Ray Brewer , president of CH4 Power , drew Koetsier back to the digester concept with the promise of a new , potentially less risky way of doing business : Instead of Koetsier running the operation , CH4 will lease the land where the system will be installed and buy Koetsier 's manure .\""
            ]
          },
          "execution_count": 111,
          "metadata": {},
          "output_type": "execute_result"
        }
      ],
      "source": [
        "newsela_only_aug[newsela_only_aug[\"inter_len\"] == 10].iloc[0][\"original\"]"
      ]
    },
    {
      "cell_type": "code",
      "execution_count": null,
      "metadata": {
        "colab": {
          "base_uri": "https://localhost:8080/",
          "height": 35
        },
        "id": "oyCUo8zUAUK2",
        "outputId": "0e75cf3d-d282-455c-9cac-bbafef7929bf"
      },
      "outputs": [
        {
          "data": {
            "application/vnd.google.colaboratory.intrinsic+json": {
              "type": "string"
            },
            "text/plain": [
              "'Instead , CH4 will rent the land where the system will be built .'"
            ]
          },
          "execution_count": 112,
          "metadata": {},
          "output_type": "execute_result"
        }
      ],
      "source": [
        "newsela_only_aug[newsela_only_aug[\"inter_len\"] == 10].iloc[0][\"simple\"]"
      ]
    },
    {
      "cell_type": "code",
      "execution_count": null,
      "metadata": {
        "colab": {
          "base_uri": "https://localhost:8080/"
        },
        "id": "CXgsN0JpAA5H",
        "outputId": "d6245cb1-1819-4d2c-974a-4ec6e9fb3520"
      },
      "outputs": [
        {
          "data": {
            "text/plain": [
              "[('Yet water samples taken at the barrier site and in stretches of canal on the Lake Michigan side of the barrier show something different .',\n",
              "  1),\n",
              " ('Yet water samples have been taken at the barrier site .', 2),\n",
              " ('Yet , water samples have been taken near the fence .', 3),\n",
              " (\"And they 've been taken in stretches of canal on the Lake Michigan side of the barrier .\",\n",
              "  2),\n",
              " (\"And they 've been taken in parts of the canal on the Lake Michigan side of the fence .\",\n",
              "  3),\n",
              " ('They have regularly tested positive for Asian carp DNA during the past four years .',\n",
              "  1),\n",
              " ('The samples have regularly shown up Asian carp DNA during the past four years . DNA contains the codes for the cells in animals bodies .',\n",
              "  3),\n",
              " ('And a poisoning of the canal in the area around the barrier in late 2009 turned up the carcass of a single Asian carp .',\n",
              "  2),\n",
              " ('There was a poisoning of the canal in the area around the fence in 2009 .',\n",
              "  3),\n",
              " ('Afterwards , the body of a single Asian carp turned up .', 3)]"
            ]
          },
          "execution_count": 39,
          "metadata": {},
          "output_type": "execute_result"
        }
      ],
      "source": [
        "newsela_only_aug[newsela_only_aug[\"inter_len\"] == 10].iloc[0][\"inter\"]"
      ]
    },
    {
      "cell_type": "code",
      "execution_count": null,
      "metadata": {
        "id": "VCPrc6Syno_G"
      },
      "outputs": [],
      "source": [
        "# make these data (newsela_only_woug, newsela_only_aug) be trainable format\n",
        "import tqdm\n",
        "import random\n",
        "def make_trainable(data, mode, m=1, m_seed=1):\n",
        "    if mode == 'woaug':\n",
        "        orig1 = []\n",
        "        orig2 = []\n",
        "        simp1 = []\n",
        "        simp2 = []\n",
        "        group_ids = []\n",
        "        for i in tqdm.tqdm(range(len(data))):\n",
        "            simple = data.iloc[i][\"simple\"]\n",
        "            original = data.iloc[i][\"original\"]\n",
        "            group_id = data.iloc[i][\"group_id\"]\n",
        "            orig1.append(original), orig2.append(original), simp1.append(original), simp2.append(simple), group_ids.append(group_id)\n",
        "            orig1.append(simple), orig2.append(simple), simp1.append(original), simp2.append(simple), group_ids.append(group_id)\n",
        "        return pd.DataFrame(data={\"orig1\":orig1, \"orig2\":orig2, \"simp1\":simp1, \"simp2\":simp2, \"group_id\":group_ids})\n",
        "\n",
        "    elif mode == 'aug':\n",
        "        random.seed(m_seed)\n",
        "        orig1 = []\n",
        "        orig2 = []\n",
        "        simp1 = []\n",
        "        simp2 = []\n",
        "        group_ids = []\n",
        "        for i in tqdm.tqdm(range(len(data))):\n",
        "            simple = data.iloc[i][\"simple\"]\n",
        "            original = data.iloc[i][\"original\"]\n",
        "            group_id = data.iloc[i][\"group_id\"]\n",
        "            orig1.append(original), orig2.append(original), simp1.append(original), simp2.append(simple), group_ids.append(group_id)\n",
        "            orig1.append(simple), orig2.append(simple), simp1.append(original), simp2.append(simple), group_ids.append(group_id)\n",
        "            inters = data.iloc[i][\"inter\"]\n",
        "            inters_to_select = random.sample(inters, min(m, len(inters)))\n",
        "            for inter in inters_to_select:\n",
        "                orig1.append(inter[0]), orig2.append(inter[0]), simp1.append(original), simp2.append(simple), group_ids.append(group_id)\n",
        "                orig1.append(original), orig2.append(original), simp1.append(original), simp2.append(inter[0]), group_ids.append(group_id)\n",
        "                orig1.append(original), orig2.append(original), simp1.append(inter[0]), simp2.append(simple), group_ids.append(group_id)\n",
        "                orig1.append(simple), orig2.append(simple), simp1.append(original), simp2.append(inter[0]), group_ids.append(group_id)\n",
        "                orig1.append(simple), orig2.append(simple), simp1.append(inter[0]), simp2.append(simple), group_ids.append(group_id)\n",
        "                orig1.append(inter[0]), orig2.append(inter[0]), simp1.append(original), simp2.append(inter[0]), group_ids.append(group_id)\n",
        "                orig1.append(inter[0]), orig2.append(inter[0]), simp1.append(inter[0]), simp2.append(simple), group_ids.append(group_id)\n",
        "                orig1.append(original), orig2.append(inter[0]), simp1.append(original), simp2.append(simple), group_ids.append(group_id)\n",
        "                orig1.append(inter[0]), orig2.append(simple), simp1.append(original), simp2.append(simple), group_ids.append(group_id)\n",
        "        return pd.DataFrame(data={\"orig1\":orig1, \"orig2\":orig2, \"simp1\":simp1, \"simp2\":simp2, \"group_id\":group_ids})"
      ]
    },
    {
      "cell_type": "code",
      "execution_count": null,
      "metadata": {
        "id": "HcN8Nd3quKLk"
      },
      "outputs": [],
      "source": [
        "a = make_trainable(newsela_only_woaug, mode=\"woaug\")"
      ]
    },
    {
      "cell_type": "code",
      "execution_count": null,
      "metadata": {
        "colab": {
          "base_uri": "https://localhost:8080/",
          "height": 641
        },
        "id": "2yAjGd2euTRN",
        "outputId": "71750634-4835-465d-a6db-6c9a0bb5ca26"
      },
      "outputs": [
        {
          "data": {
            "text/html": [
              "\n",
              "  <div id=\"df-9a75cb7a-07a4-4d20-b764-85a9f770fe04\">\n",
              "    <div class=\"colab-df-container\">\n",
              "      <div>\n",
              "<style scoped>\n",
              "    .dataframe tbody tr th:only-of-type {\n",
              "        vertical-align: middle;\n",
              "    }\n",
              "\n",
              "    .dataframe tbody tr th {\n",
              "        vertical-align: top;\n",
              "    }\n",
              "\n",
              "    .dataframe thead th {\n",
              "        text-align: right;\n",
              "    }\n",
              "</style>\n",
              "<table border=\"1\" class=\"dataframe\">\n",
              "  <thead>\n",
              "    <tr style=\"text-align: right;\">\n",
              "      <th></th>\n",
              "      <th>orig1</th>\n",
              "      <th>orig2</th>\n",
              "      <th>simp1</th>\n",
              "      <th>simp2</th>\n",
              "      <th>group_id</th>\n",
              "    </tr>\n",
              "  </thead>\n",
              "  <tbody>\n",
              "    <tr>\n",
              "      <th>0</th>\n",
              "      <td>Wars of the future will be fought with America...</td>\n",
              "      <td>Wars of the future will be fought with America...</td>\n",
              "      <td>Wars of the future will be fought with America...</td>\n",
              "      <td>American women will soon be able to fight in w...</td>\n",
              "      <td>0</td>\n",
              "    </tr>\n",
              "    <tr>\n",
              "      <th>1</th>\n",
              "      <td>American women will soon be able to fight in w...</td>\n",
              "      <td>American women will soon be able to fight in w...</td>\n",
              "      <td>Wars of the future will be fought with America...</td>\n",
              "      <td>American women will soon be able to fight in w...</td>\n",
              "      <td>0</td>\n",
              "    </tr>\n",
              "    <tr>\n",
              "      <th>2</th>\n",
              "      <td>Most Americans favor the Defense Department 's...</td>\n",
              "      <td>Most Americans favor the Defense Department 's...</td>\n",
              "      <td>Most Americans favor the Defense Department 's...</td>\n",
              "      <td>A new poll shows most Americans support the ch...</td>\n",
              "      <td>1</td>\n",
              "    </tr>\n",
              "    <tr>\n",
              "      <th>3</th>\n",
              "      <td>A new poll shows most Americans support the ch...</td>\n",
              "      <td>A new poll shows most Americans support the ch...</td>\n",
              "      <td>Most Americans favor the Defense Department 's...</td>\n",
              "      <td>A new poll shows most Americans support the ch...</td>\n",
              "      <td>1</td>\n",
              "    </tr>\n",
              "    <tr>\n",
              "      <th>4</th>\n",
              "      <td>The Pentagon said it expects to open up many j...</td>\n",
              "      <td>The Pentagon said it expects to open up many j...</td>\n",
              "      <td>The Pentagon said it expects to open up many j...</td>\n",
              "      <td>Many of the banned jobs will open up to women ...</td>\n",
              "      <td>2</td>\n",
              "    </tr>\n",
              "    <tr>\n",
              "      <th>...</th>\n",
              "      <td>...</td>\n",
              "      <td>...</td>\n",
              "      <td>...</td>\n",
              "      <td>...</td>\n",
              "      <td>...</td>\n",
              "    </tr>\n",
              "    <tr>\n",
              "      <th>32163</th>\n",
              "      <td>Florida is the second-largest avocado state in...</td>\n",
              "      <td>Florida is the second-largest avocado state in...</td>\n",
              "      <td>The state is the second-largest producer behin...</td>\n",
              "      <td>Florida is the second-largest avocado state in...</td>\n",
              "      <td>16081</td>\n",
              "    </tr>\n",
              "    <tr>\n",
              "      <th>32164</th>\n",
              "      <td>The state is the second-largest producer behin...</td>\n",
              "      <td>The state is the second-largest producer behin...</td>\n",
              "      <td>The state is the second-largest producer behin...</td>\n",
              "      <td>It is expected to grow about 66 million pounds...</td>\n",
              "      <td>16082</td>\n",
              "    </tr>\n",
              "    <tr>\n",
              "      <th>32165</th>\n",
              "      <td>It is expected to grow about 66 million pounds...</td>\n",
              "      <td>It is expected to grow about 66 million pounds...</td>\n",
              "      <td>The state is the second-largest producer behin...</td>\n",
              "      <td>It is expected to grow about 66 million pounds...</td>\n",
              "      <td>16082</td>\n",
              "    </tr>\n",
              "    <tr>\n",
              "      <th>32166</th>\n",
              "      <td>Florida specializes in \" green skins \" that ar...</td>\n",
              "      <td>Florida specializes in \" green skins \" that ar...</td>\n",
              "      <td>Florida specializes in \" green skins \" that ar...</td>\n",
              "      <td>Florida specializes in green avocados .</td>\n",
              "      <td>16083</td>\n",
              "    </tr>\n",
              "    <tr>\n",
              "      <th>32167</th>\n",
              "      <td>Florida specializes in green avocados .</td>\n",
              "      <td>Florida specializes in green avocados .</td>\n",
              "      <td>Florida specializes in \" green skins \" that ar...</td>\n",
              "      <td>Florida specializes in green avocados .</td>\n",
              "      <td>16083</td>\n",
              "    </tr>\n",
              "  </tbody>\n",
              "</table>\n",
              "<p>32168 rows × 5 columns</p>\n",
              "</div>\n",
              "      <button class=\"colab-df-convert\" onclick=\"convertToInteractive('df-9a75cb7a-07a4-4d20-b764-85a9f770fe04')\"\n",
              "              title=\"Convert this dataframe to an interactive table.\"\n",
              "              style=\"display:none;\">\n",
              "        \n",
              "  <svg xmlns=\"http://www.w3.org/2000/svg\" height=\"24px\"viewBox=\"0 0 24 24\"\n",
              "       width=\"24px\">\n",
              "    <path d=\"M0 0h24v24H0V0z\" fill=\"none\"/>\n",
              "    <path d=\"M18.56 5.44l.94 2.06.94-2.06 2.06-.94-2.06-.94-.94-2.06-.94 2.06-2.06.94zm-11 1L8.5 8.5l.94-2.06 2.06-.94-2.06-.94L8.5 2.5l-.94 2.06-2.06.94zm10 10l.94 2.06.94-2.06 2.06-.94-2.06-.94-.94-2.06-.94 2.06-2.06.94z\"/><path d=\"M17.41 7.96l-1.37-1.37c-.4-.4-.92-.59-1.43-.59-.52 0-1.04.2-1.43.59L10.3 9.45l-7.72 7.72c-.78.78-.78 2.05 0 2.83L4 21.41c.39.39.9.59 1.41.59.51 0 1.02-.2 1.41-.59l7.78-7.78 2.81-2.81c.8-.78.8-2.07 0-2.86zM5.41 20L4 18.59l7.72-7.72 1.47 1.35L5.41 20z\"/>\n",
              "  </svg>\n",
              "      </button>\n",
              "      \n",
              "  <style>\n",
              "    .colab-df-container {\n",
              "      display:flex;\n",
              "      flex-wrap:wrap;\n",
              "      gap: 12px;\n",
              "    }\n",
              "\n",
              "    .colab-df-convert {\n",
              "      background-color: #E8F0FE;\n",
              "      border: none;\n",
              "      border-radius: 50%;\n",
              "      cursor: pointer;\n",
              "      display: none;\n",
              "      fill: #1967D2;\n",
              "      height: 32px;\n",
              "      padding: 0 0 0 0;\n",
              "      width: 32px;\n",
              "    }\n",
              "\n",
              "    .colab-df-convert:hover {\n",
              "      background-color: #E2EBFA;\n",
              "      box-shadow: 0px 1px 2px rgba(60, 64, 67, 0.3), 0px 1px 3px 1px rgba(60, 64, 67, 0.15);\n",
              "      fill: #174EA6;\n",
              "    }\n",
              "\n",
              "    [theme=dark] .colab-df-convert {\n",
              "      background-color: #3B4455;\n",
              "      fill: #D2E3FC;\n",
              "    }\n",
              "\n",
              "    [theme=dark] .colab-df-convert:hover {\n",
              "      background-color: #434B5C;\n",
              "      box-shadow: 0px 1px 3px 1px rgba(0, 0, 0, 0.15);\n",
              "      filter: drop-shadow(0px 1px 2px rgba(0, 0, 0, 0.3));\n",
              "      fill: #FFFFFF;\n",
              "    }\n",
              "  </style>\n",
              "\n",
              "      <script>\n",
              "        const buttonEl =\n",
              "          document.querySelector('#df-9a75cb7a-07a4-4d20-b764-85a9f770fe04 button.colab-df-convert');\n",
              "        buttonEl.style.display =\n",
              "          google.colab.kernel.accessAllowed ? 'block' : 'none';\n",
              "\n",
              "        async function convertToInteractive(key) {\n",
              "          const element = document.querySelector('#df-9a75cb7a-07a4-4d20-b764-85a9f770fe04');\n",
              "          const dataTable =\n",
              "            await google.colab.kernel.invokeFunction('convertToInteractive',\n",
              "                                                     [key], {});\n",
              "          if (!dataTable) return;\n",
              "\n",
              "          const docLinkHtml = 'Like what you see? Visit the ' +\n",
              "            '<a target=\"_blank\" href=https://colab.research.google.com/notebooks/data_table.ipynb>data table notebook</a>'\n",
              "            + ' to learn more about interactive tables.';\n",
              "          element.innerHTML = '';\n",
              "          dataTable['output_type'] = 'display_data';\n",
              "          await google.colab.output.renderOutput(dataTable, element);\n",
              "          const docLink = document.createElement('div');\n",
              "          docLink.innerHTML = docLinkHtml;\n",
              "          element.appendChild(docLink);\n",
              "        }\n",
              "      </script>\n",
              "    </div>\n",
              "  </div>\n",
              "  "
            ],
            "text/plain": [
              "                                                   orig1  \\\n",
              "0      Wars of the future will be fought with America...   \n",
              "1      American women will soon be able to fight in w...   \n",
              "2      Most Americans favor the Defense Department 's...   \n",
              "3      A new poll shows most Americans support the ch...   \n",
              "4      The Pentagon said it expects to open up many j...   \n",
              "...                                                  ...   \n",
              "32163  Florida is the second-largest avocado state in...   \n",
              "32164  The state is the second-largest producer behin...   \n",
              "32165  It is expected to grow about 66 million pounds...   \n",
              "32166  Florida specializes in \" green skins \" that ar...   \n",
              "32167            Florida specializes in green avocados .   \n",
              "\n",
              "                                                   orig2  \\\n",
              "0      Wars of the future will be fought with America...   \n",
              "1      American women will soon be able to fight in w...   \n",
              "2      Most Americans favor the Defense Department 's...   \n",
              "3      A new poll shows most Americans support the ch...   \n",
              "4      The Pentagon said it expects to open up many j...   \n",
              "...                                                  ...   \n",
              "32163  Florida is the second-largest avocado state in...   \n",
              "32164  The state is the second-largest producer behin...   \n",
              "32165  It is expected to grow about 66 million pounds...   \n",
              "32166  Florida specializes in \" green skins \" that ar...   \n",
              "32167            Florida specializes in green avocados .   \n",
              "\n",
              "                                                   simp1  \\\n",
              "0      Wars of the future will be fought with America...   \n",
              "1      Wars of the future will be fought with America...   \n",
              "2      Most Americans favor the Defense Department 's...   \n",
              "3      Most Americans favor the Defense Department 's...   \n",
              "4      The Pentagon said it expects to open up many j...   \n",
              "...                                                  ...   \n",
              "32163  The state is the second-largest producer behin...   \n",
              "32164  The state is the second-largest producer behin...   \n",
              "32165  The state is the second-largest producer behin...   \n",
              "32166  Florida specializes in \" green skins \" that ar...   \n",
              "32167  Florida specializes in \" green skins \" that ar...   \n",
              "\n",
              "                                                   simp2  group_id  \n",
              "0      American women will soon be able to fight in w...         0  \n",
              "1      American women will soon be able to fight in w...         0  \n",
              "2      A new poll shows most Americans support the ch...         1  \n",
              "3      A new poll shows most Americans support the ch...         1  \n",
              "4      Many of the banned jobs will open up to women ...         2  \n",
              "...                                                  ...       ...  \n",
              "32163  Florida is the second-largest avocado state in...     16081  \n",
              "32164  It is expected to grow about 66 million pounds...     16082  \n",
              "32165  It is expected to grow about 66 million pounds...     16082  \n",
              "32166            Florida specializes in green avocados .     16083  \n",
              "32167            Florida specializes in green avocados .     16083  \n",
              "\n",
              "[32168 rows x 5 columns]"
            ]
          },
          "execution_count": 64,
          "metadata": {},
          "output_type": "execute_result"
        }
      ],
      "source": [
        "a"
      ]
    },
    {
      "cell_type": "code",
      "execution_count": null,
      "metadata": {
        "colab": {
          "base_uri": "https://localhost:8080/"
        },
        "id": "0yqs1IQ1uYdd",
        "outputId": "9cc45ba9-1215-4ef7-fb0d-7de292c460d1"
      },
      "outputs": [
        {
          "name": "stderr",
          "output_type": "stream",
          "text": [
            "100%|██████████| 16084/16084 [00:10<00:00, 1591.83it/s]\n"
          ]
        }
      ],
      "source": [
        "b = make_trainable(newsela_only_aug, mode=\"aug\", m=2, m_seed=1)"
      ]
    },
    {
      "cell_type": "code",
      "execution_count": null,
      "metadata": {
        "colab": {
          "base_uri": "https://localhost:8080/",
          "height": 641
        },
        "id": "Iv8_vPAUuhop",
        "outputId": "07b6c04b-ac17-4fa0-8312-1a7a916614c0"
      },
      "outputs": [
        {
          "data": {
            "text/html": [
              "\n",
              "  <div id=\"df-75d29368-f457-4711-88fc-f1a7d6c784d2\">\n",
              "    <div class=\"colab-df-container\">\n",
              "      <div>\n",
              "<style scoped>\n",
              "    .dataframe tbody tr th:only-of-type {\n",
              "        vertical-align: middle;\n",
              "    }\n",
              "\n",
              "    .dataframe tbody tr th {\n",
              "        vertical-align: top;\n",
              "    }\n",
              "\n",
              "    .dataframe thead th {\n",
              "        text-align: right;\n",
              "    }\n",
              "</style>\n",
              "<table border=\"1\" class=\"dataframe\">\n",
              "  <thead>\n",
              "    <tr style=\"text-align: right;\">\n",
              "      <th></th>\n",
              "      <th>orig1</th>\n",
              "      <th>orig2</th>\n",
              "      <th>simp1</th>\n",
              "      <th>simp2</th>\n",
              "      <th>group_id</th>\n",
              "    </tr>\n",
              "  </thead>\n",
              "  <tbody>\n",
              "    <tr>\n",
              "      <th>0</th>\n",
              "      <td>Wars of the future will be fought with America...</td>\n",
              "      <td>Wars of the future will be fought with America...</td>\n",
              "      <td>Wars of the future will be fought with America...</td>\n",
              "      <td>American women will soon be able to fight in w...</td>\n",
              "      <td>0</td>\n",
              "    </tr>\n",
              "    <tr>\n",
              "      <th>1</th>\n",
              "      <td>American women will soon be able to fight in w...</td>\n",
              "      <td>American women will soon be able to fight in w...</td>\n",
              "      <td>Wars of the future will be fought with America...</td>\n",
              "      <td>American women will soon be able to fight in w...</td>\n",
              "      <td>0</td>\n",
              "    </tr>\n",
              "    <tr>\n",
              "      <th>2</th>\n",
              "      <td>American women will soon be able to fight on t...</td>\n",
              "      <td>American women will soon be able to fight on t...</td>\n",
              "      <td>Wars of the future will be fought with America...</td>\n",
              "      <td>American women will soon be able to fight in w...</td>\n",
              "      <td>0</td>\n",
              "    </tr>\n",
              "    <tr>\n",
              "      <th>3</th>\n",
              "      <td>Wars of the future will be fought with America...</td>\n",
              "      <td>Wars of the future will be fought with America...</td>\n",
              "      <td>Wars of the future will be fought with America...</td>\n",
              "      <td>American women will soon be able to fight on t...</td>\n",
              "      <td>0</td>\n",
              "    </tr>\n",
              "    <tr>\n",
              "      <th>4</th>\n",
              "      <td>Wars of the future will be fought with America...</td>\n",
              "      <td>Wars of the future will be fought with America...</td>\n",
              "      <td>American women will soon be able to fight on t...</td>\n",
              "      <td>American women will soon be able to fight in w...</td>\n",
              "      <td>0</td>\n",
              "    </tr>\n",
              "    <tr>\n",
              "      <th>...</th>\n",
              "      <td>...</td>\n",
              "      <td>...</td>\n",
              "      <td>...</td>\n",
              "      <td>...</td>\n",
              "      <td>...</td>\n",
              "    </tr>\n",
              "    <tr>\n",
              "      <th>289635</th>\n",
              "      <td>Florida specializes in green avocados .</td>\n",
              "      <td>Florida specializes in green avocados .</td>\n",
              "      <td>Unlike California and Colombia , however , Flo...</td>\n",
              "      <td>Florida specializes in green avocados .</td>\n",
              "      <td>16083</td>\n",
              "    </tr>\n",
              "    <tr>\n",
              "      <th>289636</th>\n",
              "      <td>Unlike California and Colombia , however , Flo...</td>\n",
              "      <td>Unlike California and Colombia , however , Flo...</td>\n",
              "      <td>Florida specializes in \" green skins \" that ar...</td>\n",
              "      <td>Unlike California and Colombia , however , Flo...</td>\n",
              "      <td>16083</td>\n",
              "    </tr>\n",
              "    <tr>\n",
              "      <th>289637</th>\n",
              "      <td>Unlike California and Colombia , however , Flo...</td>\n",
              "      <td>Unlike California and Colombia , however , Flo...</td>\n",
              "      <td>Unlike California and Colombia , however , Flo...</td>\n",
              "      <td>Florida specializes in green avocados .</td>\n",
              "      <td>16083</td>\n",
              "    </tr>\n",
              "    <tr>\n",
              "      <th>289638</th>\n",
              "      <td>Florida specializes in \" green skins \" that ar...</td>\n",
              "      <td>Unlike California and Colombia , however , Flo...</td>\n",
              "      <td>Florida specializes in \" green skins \" that ar...</td>\n",
              "      <td>Florida specializes in green avocados .</td>\n",
              "      <td>16083</td>\n",
              "    </tr>\n",
              "    <tr>\n",
              "      <th>289639</th>\n",
              "      <td>Unlike California and Colombia , however , Flo...</td>\n",
              "      <td>Florida specializes in green avocados .</td>\n",
              "      <td>Florida specializes in \" green skins \" that ar...</td>\n",
              "      <td>Florida specializes in green avocados .</td>\n",
              "      <td>16083</td>\n",
              "    </tr>\n",
              "  </tbody>\n",
              "</table>\n",
              "<p>289640 rows × 5 columns</p>\n",
              "</div>\n",
              "      <button class=\"colab-df-convert\" onclick=\"convertToInteractive('df-75d29368-f457-4711-88fc-f1a7d6c784d2')\"\n",
              "              title=\"Convert this dataframe to an interactive table.\"\n",
              "              style=\"display:none;\">\n",
              "        \n",
              "  <svg xmlns=\"http://www.w3.org/2000/svg\" height=\"24px\"viewBox=\"0 0 24 24\"\n",
              "       width=\"24px\">\n",
              "    <path d=\"M0 0h24v24H0V0z\" fill=\"none\"/>\n",
              "    <path d=\"M18.56 5.44l.94 2.06.94-2.06 2.06-.94-2.06-.94-.94-2.06-.94 2.06-2.06.94zm-11 1L8.5 8.5l.94-2.06 2.06-.94-2.06-.94L8.5 2.5l-.94 2.06-2.06.94zm10 10l.94 2.06.94-2.06 2.06-.94-2.06-.94-.94-2.06-.94 2.06-2.06.94z\"/><path d=\"M17.41 7.96l-1.37-1.37c-.4-.4-.92-.59-1.43-.59-.52 0-1.04.2-1.43.59L10.3 9.45l-7.72 7.72c-.78.78-.78 2.05 0 2.83L4 21.41c.39.39.9.59 1.41.59.51 0 1.02-.2 1.41-.59l7.78-7.78 2.81-2.81c.8-.78.8-2.07 0-2.86zM5.41 20L4 18.59l7.72-7.72 1.47 1.35L5.41 20z\"/>\n",
              "  </svg>\n",
              "      </button>\n",
              "      \n",
              "  <style>\n",
              "    .colab-df-container {\n",
              "      display:flex;\n",
              "      flex-wrap:wrap;\n",
              "      gap: 12px;\n",
              "    }\n",
              "\n",
              "    .colab-df-convert {\n",
              "      background-color: #E8F0FE;\n",
              "      border: none;\n",
              "      border-radius: 50%;\n",
              "      cursor: pointer;\n",
              "      display: none;\n",
              "      fill: #1967D2;\n",
              "      height: 32px;\n",
              "      padding: 0 0 0 0;\n",
              "      width: 32px;\n",
              "    }\n",
              "\n",
              "    .colab-df-convert:hover {\n",
              "      background-color: #E2EBFA;\n",
              "      box-shadow: 0px 1px 2px rgba(60, 64, 67, 0.3), 0px 1px 3px 1px rgba(60, 64, 67, 0.15);\n",
              "      fill: #174EA6;\n",
              "    }\n",
              "\n",
              "    [theme=dark] .colab-df-convert {\n",
              "      background-color: #3B4455;\n",
              "      fill: #D2E3FC;\n",
              "    }\n",
              "\n",
              "    [theme=dark] .colab-df-convert:hover {\n",
              "      background-color: #434B5C;\n",
              "      box-shadow: 0px 1px 3px 1px rgba(0, 0, 0, 0.15);\n",
              "      filter: drop-shadow(0px 1px 2px rgba(0, 0, 0, 0.3));\n",
              "      fill: #FFFFFF;\n",
              "    }\n",
              "  </style>\n",
              "\n",
              "      <script>\n",
              "        const buttonEl =\n",
              "          document.querySelector('#df-75d29368-f457-4711-88fc-f1a7d6c784d2 button.colab-df-convert');\n",
              "        buttonEl.style.display =\n",
              "          google.colab.kernel.accessAllowed ? 'block' : 'none';\n",
              "\n",
              "        async function convertToInteractive(key) {\n",
              "          const element = document.querySelector('#df-75d29368-f457-4711-88fc-f1a7d6c784d2');\n",
              "          const dataTable =\n",
              "            await google.colab.kernel.invokeFunction('convertToInteractive',\n",
              "                                                     [key], {});\n",
              "          if (!dataTable) return;\n",
              "\n",
              "          const docLinkHtml = 'Like what you see? Visit the ' +\n",
              "            '<a target=\"_blank\" href=https://colab.research.google.com/notebooks/data_table.ipynb>data table notebook</a>'\n",
              "            + ' to learn more about interactive tables.';\n",
              "          element.innerHTML = '';\n",
              "          dataTable['output_type'] = 'display_data';\n",
              "          await google.colab.output.renderOutput(dataTable, element);\n",
              "          const docLink = document.createElement('div');\n",
              "          docLink.innerHTML = docLinkHtml;\n",
              "          element.appendChild(docLink);\n",
              "        }\n",
              "      </script>\n",
              "    </div>\n",
              "  </div>\n",
              "  "
            ],
            "text/plain": [
              "                                                    orig1  \\\n",
              "0       Wars of the future will be fought with America...   \n",
              "1       American women will soon be able to fight in w...   \n",
              "2       American women will soon be able to fight on t...   \n",
              "3       Wars of the future will be fought with America...   \n",
              "4       Wars of the future will be fought with America...   \n",
              "...                                                   ...   \n",
              "289635            Florida specializes in green avocados .   \n",
              "289636  Unlike California and Colombia , however , Flo...   \n",
              "289637  Unlike California and Colombia , however , Flo...   \n",
              "289638  Florida specializes in \" green skins \" that ar...   \n",
              "289639  Unlike California and Colombia , however , Flo...   \n",
              "\n",
              "                                                    orig2  \\\n",
              "0       Wars of the future will be fought with America...   \n",
              "1       American women will soon be able to fight in w...   \n",
              "2       American women will soon be able to fight on t...   \n",
              "3       Wars of the future will be fought with America...   \n",
              "4       Wars of the future will be fought with America...   \n",
              "...                                                   ...   \n",
              "289635            Florida specializes in green avocados .   \n",
              "289636  Unlike California and Colombia , however , Flo...   \n",
              "289637  Unlike California and Colombia , however , Flo...   \n",
              "289638  Unlike California and Colombia , however , Flo...   \n",
              "289639            Florida specializes in green avocados .   \n",
              "\n",
              "                                                    simp1  \\\n",
              "0       Wars of the future will be fought with America...   \n",
              "1       Wars of the future will be fought with America...   \n",
              "2       Wars of the future will be fought with America...   \n",
              "3       Wars of the future will be fought with America...   \n",
              "4       American women will soon be able to fight on t...   \n",
              "...                                                   ...   \n",
              "289635  Unlike California and Colombia , however , Flo...   \n",
              "289636  Florida specializes in \" green skins \" that ar...   \n",
              "289637  Unlike California and Colombia , however , Flo...   \n",
              "289638  Florida specializes in \" green skins \" that ar...   \n",
              "289639  Florida specializes in \" green skins \" that ar...   \n",
              "\n",
              "                                                    simp2  group_id  \n",
              "0       American women will soon be able to fight in w...         0  \n",
              "1       American women will soon be able to fight in w...         0  \n",
              "2       American women will soon be able to fight in w...         0  \n",
              "3       American women will soon be able to fight on t...         0  \n",
              "4       American women will soon be able to fight in w...         0  \n",
              "...                                                   ...       ...  \n",
              "289635            Florida specializes in green avocados .     16083  \n",
              "289636  Unlike California and Colombia , however , Flo...     16083  \n",
              "289637            Florida specializes in green avocados .     16083  \n",
              "289638            Florida specializes in green avocados .     16083  \n",
              "289639            Florida specializes in green avocados .     16083  \n",
              "\n",
              "[289640 rows x 5 columns]"
            ]
          },
          "execution_count": 78,
          "metadata": {},
          "output_type": "execute_result"
        }
      ],
      "source": [
        "b"
      ]
    },
    {
      "cell_type": "code",
      "execution_count": null,
      "metadata": {
        "id": "xa5gFFCs1gxi"
      },
      "outputs": [],
      "source": [
        "with open('./src/newsela_v6/newsela_only/newsela_only_woaug.pickle', 'wb') as f:\n",
        "    pickle.dump(newsela_only_woaug, f)\n",
        "with open('./src/newsela_v6/newsela_only/newsela_gold.pickle', 'wb') as f:\n",
        "    pickle.dump(newsela_only_aug, f)"
      ]
    }
  ],
  "metadata": {
    "colab": {
      "provenance": []
    },
    "kernelspec": {
      "display_name": "Python 3",
      "name": "python3"
    },
    "language_info": {
      "name": "python"
    }
  },
  "nbformat": 4,
  "nbformat_minor": 0
}
